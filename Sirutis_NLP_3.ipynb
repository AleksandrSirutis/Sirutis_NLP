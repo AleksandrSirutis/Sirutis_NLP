{
  "cells": [
    {
      "cell_type": "code",
      "execution_count": 1,
      "metadata": {
        "id": "tKWF78ZWaQF1"
      },
      "outputs": [],
      "source": [
        "import pandas as pd         # Подключим библиотеку \"панд\"\n",
        "import numpy as np    # Подключим библиотеку numpy"
      ]
    },
    {
      "cell_type": "code",
      "source": [
        "from sklearn.linear_model import LogisticRegression   # Импортируем логистическую регрессию\n",
        "from sklearn.model_selection import train_test_split    # Импортируем метод разбивки на тренировочнуые и тестовые выборки"
      ],
      "metadata": {
        "id": "DDTJE3UAGG7d"
      },
      "execution_count": 2,
      "outputs": []
    },
    {
      "cell_type": "code",
      "source": [
        "from sklearn.metrics import confusion_matrix, classification_report   # Импортируем для классификации"
      ],
      "metadata": {
        "id": "EXD0uN0lGhMg"
      },
      "execution_count": 3,
      "outputs": []
    },
    {
      "cell_type": "code",
      "source": [
        "# Импортируем для визуализации\n",
        "import seaborn as sns\n",
        "import matplotlib.pyplot as plt"
      ],
      "metadata": {
        "id": "BJktXdVaGpvS"
      },
      "execution_count": 4,
      "outputs": []
    },
    {
      "cell_type": "code",
      "execution_count": 5,
      "metadata": {
        "colab": {
          "base_uri": "https://localhost:8080/"
        },
        "id": "AseHiyBua9Lz",
        "outputId": "9b5befde-cc2e-4357-c1a5-11560d4a86e9"
      },
      "outputs": [
        {
          "output_type": "stream",
          "name": "stdout",
          "text": [
            "Mounted at /content/gdrive\n"
          ]
        }
      ],
      "source": [
        "from google.colab import drive    # Импортируем для подключения гугл диска\n",
        "drive.mount('/content/gdrive')"
      ]
    },
    {
      "cell_type": "code",
      "execution_count": 6,
      "metadata": {
        "colab": {
          "base_uri": "https://localhost:8080/"
        },
        "id": "AojHmqCTb1F5",
        "outputId": "0bd1f19f-bf0e-4bb5-bdfa-6fefc48ddf63"
      },
      "outputs": [
        {
          "output_type": "stream",
          "name": "stdout",
          "text": [
            "' Copy NLP_DZ3_Sirutis.ipynb'\n",
            " nlp_course_seminar_03_embeddings.ipynb\n",
            " nlp_course_seminar_03_w2v_translation.ipynb\n",
            " NLP_DZ3_Sirutis.ipynb\n",
            " spam_or_not_spam.csv\n",
            "'Копия  Copy NLP_DZ3_Sirutis.ipynb'\n"
          ]
        }
      ],
      "source": [
        "# Так постепенно можно полностью посмотреть путь\n",
        "#!ls /content/gdrive\n",
        "!ls /content/gdrive/MyDrive/'Colab Notebooks'/NLP/NLP_3\n",
        "#  Внимание!!! если делать через !ls то название папки с пробелом указывается в кавычках,\n",
        "# а если мы будем уже дальше в python его использовать, то без кавычек."
      ]
    },
    {
      "cell_type": "code",
      "execution_count": 7,
      "metadata": {
        "id": "BVRNXavOmYLo"
      },
      "outputs": [],
      "source": [
        "path = \"/content/gdrive/MyDrive/Colab Notebooks/NLP/NLP_3/spam_or_not_spam.csv\"   # Запишем путь\n",
        "file = open(path,'r')   # Откроем файл\n",
        "data = pd.read_csv(file)    # Считаем файл\n",
        "file.close()    # Закроем файл"
      ]
    },
    {
      "cell_type": "code",
      "execution_count": 8,
      "metadata": {
        "colab": {
          "base_uri": "https://localhost:8080/",
          "height": 363
        },
        "id": "9uzqFhVVnCbx",
        "outputId": "1f3c16c3-80c3-4e5e-e922-8c9a41c4f99f"
      },
      "outputs": [
        {
          "output_type": "execute_result",
          "data": {
            "text/plain": [
              "                                               email  label\n",
              "0   date wed NUMBER aug NUMBER NUMBER NUMBER NUMB...      0\n",
              "1  martin a posted tassos papadopoulos the greek ...      0\n",
              "2  man threatens explosion in moscow thursday aug...      0\n",
              "3  klez the virus that won t die already the most...      0\n",
              "4   in adding cream to spaghetti carbonara which ...      0\n",
              "5   i just had to jump in here as carbonara is on...      0\n",
              "6  the scotsman NUMBER august NUMBER playboy want...      0\n",
              "7  martin adamson wrote isn t it just basically a...      0\n",
              "8  the scotsman thu NUMBER aug NUMBER meaningful ...      0\n",
              "9  i have been trying to research via sa mirrors ...      0"
            ],
            "text/html": [
              "\n",
              "  <div id=\"df-fc198b37-35bb-40a1-86ae-2d5d5b87f09a\">\n",
              "    <div class=\"colab-df-container\">\n",
              "      <div>\n",
              "<style scoped>\n",
              "    .dataframe tbody tr th:only-of-type {\n",
              "        vertical-align: middle;\n",
              "    }\n",
              "\n",
              "    .dataframe tbody tr th {\n",
              "        vertical-align: top;\n",
              "    }\n",
              "\n",
              "    .dataframe thead th {\n",
              "        text-align: right;\n",
              "    }\n",
              "</style>\n",
              "<table border=\"1\" class=\"dataframe\">\n",
              "  <thead>\n",
              "    <tr style=\"text-align: right;\">\n",
              "      <th></th>\n",
              "      <th>email</th>\n",
              "      <th>label</th>\n",
              "    </tr>\n",
              "  </thead>\n",
              "  <tbody>\n",
              "    <tr>\n",
              "      <th>0</th>\n",
              "      <td>date wed NUMBER aug NUMBER NUMBER NUMBER NUMB...</td>\n",
              "      <td>0</td>\n",
              "    </tr>\n",
              "    <tr>\n",
              "      <th>1</th>\n",
              "      <td>martin a posted tassos papadopoulos the greek ...</td>\n",
              "      <td>0</td>\n",
              "    </tr>\n",
              "    <tr>\n",
              "      <th>2</th>\n",
              "      <td>man threatens explosion in moscow thursday aug...</td>\n",
              "      <td>0</td>\n",
              "    </tr>\n",
              "    <tr>\n",
              "      <th>3</th>\n",
              "      <td>klez the virus that won t die already the most...</td>\n",
              "      <td>0</td>\n",
              "    </tr>\n",
              "    <tr>\n",
              "      <th>4</th>\n",
              "      <td>in adding cream to spaghetti carbonara which ...</td>\n",
              "      <td>0</td>\n",
              "    </tr>\n",
              "    <tr>\n",
              "      <th>5</th>\n",
              "      <td>i just had to jump in here as carbonara is on...</td>\n",
              "      <td>0</td>\n",
              "    </tr>\n",
              "    <tr>\n",
              "      <th>6</th>\n",
              "      <td>the scotsman NUMBER august NUMBER playboy want...</td>\n",
              "      <td>0</td>\n",
              "    </tr>\n",
              "    <tr>\n",
              "      <th>7</th>\n",
              "      <td>martin adamson wrote isn t it just basically a...</td>\n",
              "      <td>0</td>\n",
              "    </tr>\n",
              "    <tr>\n",
              "      <th>8</th>\n",
              "      <td>the scotsman thu NUMBER aug NUMBER meaningful ...</td>\n",
              "      <td>0</td>\n",
              "    </tr>\n",
              "    <tr>\n",
              "      <th>9</th>\n",
              "      <td>i have been trying to research via sa mirrors ...</td>\n",
              "      <td>0</td>\n",
              "    </tr>\n",
              "  </tbody>\n",
              "</table>\n",
              "</div>\n",
              "      <button class=\"colab-df-convert\" onclick=\"convertToInteractive('df-fc198b37-35bb-40a1-86ae-2d5d5b87f09a')\"\n",
              "              title=\"Convert this dataframe to an interactive table.\"\n",
              "              style=\"display:none;\">\n",
              "        \n",
              "  <svg xmlns=\"http://www.w3.org/2000/svg\" height=\"24px\"viewBox=\"0 0 24 24\"\n",
              "       width=\"24px\">\n",
              "    <path d=\"M0 0h24v24H0V0z\" fill=\"none\"/>\n",
              "    <path d=\"M18.56 5.44l.94 2.06.94-2.06 2.06-.94-2.06-.94-.94-2.06-.94 2.06-2.06.94zm-11 1L8.5 8.5l.94-2.06 2.06-.94-2.06-.94L8.5 2.5l-.94 2.06-2.06.94zm10 10l.94 2.06.94-2.06 2.06-.94-2.06-.94-.94-2.06-.94 2.06-2.06.94z\"/><path d=\"M17.41 7.96l-1.37-1.37c-.4-.4-.92-.59-1.43-.59-.52 0-1.04.2-1.43.59L10.3 9.45l-7.72 7.72c-.78.78-.78 2.05 0 2.83L4 21.41c.39.39.9.59 1.41.59.51 0 1.02-.2 1.41-.59l7.78-7.78 2.81-2.81c.8-.78.8-2.07 0-2.86zM5.41 20L4 18.59l7.72-7.72 1.47 1.35L5.41 20z\"/>\n",
              "  </svg>\n",
              "      </button>\n",
              "      \n",
              "  <style>\n",
              "    .colab-df-container {\n",
              "      display:flex;\n",
              "      flex-wrap:wrap;\n",
              "      gap: 12px;\n",
              "    }\n",
              "\n",
              "    .colab-df-convert {\n",
              "      background-color: #E8F0FE;\n",
              "      border: none;\n",
              "      border-radius: 50%;\n",
              "      cursor: pointer;\n",
              "      display: none;\n",
              "      fill: #1967D2;\n",
              "      height: 32px;\n",
              "      padding: 0 0 0 0;\n",
              "      width: 32px;\n",
              "    }\n",
              "\n",
              "    .colab-df-convert:hover {\n",
              "      background-color: #E2EBFA;\n",
              "      box-shadow: 0px 1px 2px rgba(60, 64, 67, 0.3), 0px 1px 3px 1px rgba(60, 64, 67, 0.15);\n",
              "      fill: #174EA6;\n",
              "    }\n",
              "\n",
              "    [theme=dark] .colab-df-convert {\n",
              "      background-color: #3B4455;\n",
              "      fill: #D2E3FC;\n",
              "    }\n",
              "\n",
              "    [theme=dark] .colab-df-convert:hover {\n",
              "      background-color: #434B5C;\n",
              "      box-shadow: 0px 1px 3px 1px rgba(0, 0, 0, 0.15);\n",
              "      filter: drop-shadow(0px 1px 2px rgba(0, 0, 0, 0.3));\n",
              "      fill: #FFFFFF;\n",
              "    }\n",
              "  </style>\n",
              "\n",
              "      <script>\n",
              "        const buttonEl =\n",
              "          document.querySelector('#df-fc198b37-35bb-40a1-86ae-2d5d5b87f09a button.colab-df-convert');\n",
              "        buttonEl.style.display =\n",
              "          google.colab.kernel.accessAllowed ? 'block' : 'none';\n",
              "\n",
              "        async function convertToInteractive(key) {\n",
              "          const element = document.querySelector('#df-fc198b37-35bb-40a1-86ae-2d5d5b87f09a');\n",
              "          const dataTable =\n",
              "            await google.colab.kernel.invokeFunction('convertToInteractive',\n",
              "                                                     [key], {});\n",
              "          if (!dataTable) return;\n",
              "\n",
              "          const docLinkHtml = 'Like what you see? Visit the ' +\n",
              "            '<a target=\"_blank\" href=https://colab.research.google.com/notebooks/data_table.ipynb>data table notebook</a>'\n",
              "            + ' to learn more about interactive tables.';\n",
              "          element.innerHTML = '';\n",
              "          dataTable['output_type'] = 'display_data';\n",
              "          await google.colab.output.renderOutput(dataTable, element);\n",
              "          const docLink = document.createElement('div');\n",
              "          docLink.innerHTML = docLinkHtml;\n",
              "          element.appendChild(docLink);\n",
              "        }\n",
              "      </script>\n",
              "    </div>\n",
              "  </div>\n",
              "  "
            ]
          },
          "metadata": {},
          "execution_count": 8
        }
      ],
      "source": [
        "data.head(10)"
      ]
    },
    {
      "cell_type": "code",
      "execution_count": 9,
      "metadata": {
        "id": "lNSvjuj4aQF4"
      },
      "outputs": [],
      "source": [
        "# Этот код для локальной загрузки.\n",
        "\n",
        "#from google.colab import files\n",
        "#files.upload()\n",
        "\n",
        "#data = pd.read_csv('spam_or_not_spam.csv', encoding='iso-8859-1')   # Загрузим в data библиотеку \"спам или не спам\", \n",
        "                                                                    # котороя скачена и лежит в папке где и проект.\n",
        "#data.head()         # Посмотрим примерно, что она из себя представляет."
      ]
    },
    {
      "cell_type": "code",
      "execution_count": 10,
      "metadata": {
        "colab": {
          "base_uri": "https://localhost:8080/"
        },
        "id": "SUgSqW1NaQF6",
        "outputId": "76812115-8e91-496e-e870-5f20e9a2384b"
      },
      "outputs": [
        {
          "output_type": "execute_result",
          "data": {
            "text/plain": [
              "(3000, 2)"
            ]
          },
          "metadata": {},
          "execution_count": 10
        }
      ],
      "source": [
        "data.shape             # Посмотрим размер."
      ]
    },
    {
      "cell_type": "code",
      "execution_count": 11,
      "metadata": {
        "colab": {
          "base_uri": "https://localhost:8080/"
        },
        "id": "RLjlgN8laQF7",
        "outputId": "2d47739b-2999-48a0-eacc-caf5264d38b2"
      },
      "outputs": [
        {
          "output_type": "execute_result",
          "data": {
            "text/plain": [
              "RangeIndex(start=0, stop=3000, step=1)"
            ]
          },
          "metadata": {},
          "execution_count": 11
        }
      ],
      "source": [
        "data.index.unique()     # Посмотрим правильность индексов."
      ]
    },
    {
      "cell_type": "code",
      "execution_count": 12,
      "metadata": {
        "colab": {
          "base_uri": "https://localhost:8080/",
          "height": 206
        },
        "id": "C_F7qAtPaQF7",
        "outputId": "6938267a-a496-4b7b-8fab-34297518c000"
      },
      "outputs": [
        {
          "output_type": "execute_result",
          "data": {
            "text/plain": [
              "                                                text  spam\n",
              "0   date wed NUMBER aug NUMBER NUMBER NUMBER NUMB...     0\n",
              "1  martin a posted tassos papadopoulos the greek ...     0\n",
              "2  man threatens explosion in moscow thursday aug...     0\n",
              "3  klez the virus that won t die already the most...     0\n",
              "4   in adding cream to spaghetti carbonara which ...     0"
            ],
            "text/html": [
              "\n",
              "  <div id=\"df-12fe60f3-59c5-4910-80f1-860acfedf699\">\n",
              "    <div class=\"colab-df-container\">\n",
              "      <div>\n",
              "<style scoped>\n",
              "    .dataframe tbody tr th:only-of-type {\n",
              "        vertical-align: middle;\n",
              "    }\n",
              "\n",
              "    .dataframe tbody tr th {\n",
              "        vertical-align: top;\n",
              "    }\n",
              "\n",
              "    .dataframe thead th {\n",
              "        text-align: right;\n",
              "    }\n",
              "</style>\n",
              "<table border=\"1\" class=\"dataframe\">\n",
              "  <thead>\n",
              "    <tr style=\"text-align: right;\">\n",
              "      <th></th>\n",
              "      <th>text</th>\n",
              "      <th>spam</th>\n",
              "    </tr>\n",
              "  </thead>\n",
              "  <tbody>\n",
              "    <tr>\n",
              "      <th>0</th>\n",
              "      <td>date wed NUMBER aug NUMBER NUMBER NUMBER NUMB...</td>\n",
              "      <td>0</td>\n",
              "    </tr>\n",
              "    <tr>\n",
              "      <th>1</th>\n",
              "      <td>martin a posted tassos papadopoulos the greek ...</td>\n",
              "      <td>0</td>\n",
              "    </tr>\n",
              "    <tr>\n",
              "      <th>2</th>\n",
              "      <td>man threatens explosion in moscow thursday aug...</td>\n",
              "      <td>0</td>\n",
              "    </tr>\n",
              "    <tr>\n",
              "      <th>3</th>\n",
              "      <td>klez the virus that won t die already the most...</td>\n",
              "      <td>0</td>\n",
              "    </tr>\n",
              "    <tr>\n",
              "      <th>4</th>\n",
              "      <td>in adding cream to spaghetti carbonara which ...</td>\n",
              "      <td>0</td>\n",
              "    </tr>\n",
              "  </tbody>\n",
              "</table>\n",
              "</div>\n",
              "      <button class=\"colab-df-convert\" onclick=\"convertToInteractive('df-12fe60f3-59c5-4910-80f1-860acfedf699')\"\n",
              "              title=\"Convert this dataframe to an interactive table.\"\n",
              "              style=\"display:none;\">\n",
              "        \n",
              "  <svg xmlns=\"http://www.w3.org/2000/svg\" height=\"24px\"viewBox=\"0 0 24 24\"\n",
              "       width=\"24px\">\n",
              "    <path d=\"M0 0h24v24H0V0z\" fill=\"none\"/>\n",
              "    <path d=\"M18.56 5.44l.94 2.06.94-2.06 2.06-.94-2.06-.94-.94-2.06-.94 2.06-2.06.94zm-11 1L8.5 8.5l.94-2.06 2.06-.94-2.06-.94L8.5 2.5l-.94 2.06-2.06.94zm10 10l.94 2.06.94-2.06 2.06-.94-2.06-.94-.94-2.06-.94 2.06-2.06.94z\"/><path d=\"M17.41 7.96l-1.37-1.37c-.4-.4-.92-.59-1.43-.59-.52 0-1.04.2-1.43.59L10.3 9.45l-7.72 7.72c-.78.78-.78 2.05 0 2.83L4 21.41c.39.39.9.59 1.41.59.51 0 1.02-.2 1.41-.59l7.78-7.78 2.81-2.81c.8-.78.8-2.07 0-2.86zM5.41 20L4 18.59l7.72-7.72 1.47 1.35L5.41 20z\"/>\n",
              "  </svg>\n",
              "      </button>\n",
              "      \n",
              "  <style>\n",
              "    .colab-df-container {\n",
              "      display:flex;\n",
              "      flex-wrap:wrap;\n",
              "      gap: 12px;\n",
              "    }\n",
              "\n",
              "    .colab-df-convert {\n",
              "      background-color: #E8F0FE;\n",
              "      border: none;\n",
              "      border-radius: 50%;\n",
              "      cursor: pointer;\n",
              "      display: none;\n",
              "      fill: #1967D2;\n",
              "      height: 32px;\n",
              "      padding: 0 0 0 0;\n",
              "      width: 32px;\n",
              "    }\n",
              "\n",
              "    .colab-df-convert:hover {\n",
              "      background-color: #E2EBFA;\n",
              "      box-shadow: 0px 1px 2px rgba(60, 64, 67, 0.3), 0px 1px 3px 1px rgba(60, 64, 67, 0.15);\n",
              "      fill: #174EA6;\n",
              "    }\n",
              "\n",
              "    [theme=dark] .colab-df-convert {\n",
              "      background-color: #3B4455;\n",
              "      fill: #D2E3FC;\n",
              "    }\n",
              "\n",
              "    [theme=dark] .colab-df-convert:hover {\n",
              "      background-color: #434B5C;\n",
              "      box-shadow: 0px 1px 3px 1px rgba(0, 0, 0, 0.15);\n",
              "      filter: drop-shadow(0px 1px 2px rgba(0, 0, 0, 0.3));\n",
              "      fill: #FFFFFF;\n",
              "    }\n",
              "  </style>\n",
              "\n",
              "      <script>\n",
              "        const buttonEl =\n",
              "          document.querySelector('#df-12fe60f3-59c5-4910-80f1-860acfedf699 button.colab-df-convert');\n",
              "        buttonEl.style.display =\n",
              "          google.colab.kernel.accessAllowed ? 'block' : 'none';\n",
              "\n",
              "        async function convertToInteractive(key) {\n",
              "          const element = document.querySelector('#df-12fe60f3-59c5-4910-80f1-860acfedf699');\n",
              "          const dataTable =\n",
              "            await google.colab.kernel.invokeFunction('convertToInteractive',\n",
              "                                                     [key], {});\n",
              "          if (!dataTable) return;\n",
              "\n",
              "          const docLinkHtml = 'Like what you see? Visit the ' +\n",
              "            '<a target=\"_blank\" href=https://colab.research.google.com/notebooks/data_table.ipynb>data table notebook</a>'\n",
              "            + ' to learn more about interactive tables.';\n",
              "          element.innerHTML = '';\n",
              "          dataTable['output_type'] = 'display_data';\n",
              "          await google.colab.output.renderOutput(dataTable, element);\n",
              "          const docLink = document.createElement('div');\n",
              "          docLink.innerHTML = docLinkHtml;\n",
              "          element.appendChild(docLink);\n",
              "        }\n",
              "      </script>\n",
              "    </div>\n",
              "  </div>\n",
              "  "
            ]
          },
          "metadata": {},
          "execution_count": 12
        }
      ],
      "source": [
        "# Переименуем стобцы.\n",
        "data = data[['email','label']].rename(columns={'email':'text', 'label' :'spam'})\n",
        "data.head()"
      ]
    },
    {
      "cell_type": "code",
      "execution_count": 13,
      "metadata": {
        "colab": {
          "base_uri": "https://localhost:8080/"
        },
        "id": "autM3n-EaQF8",
        "outputId": "26361fe5-6a96-41a5-d27e-601ece62db04"
      },
      "outputs": [
        {
          "output_type": "execute_result",
          "data": {
            "text/plain": [
              "spam\n",
              "0    2500\n",
              "1     500\n",
              "dtype: int64"
            ]
          },
          "metadata": {},
          "execution_count": 13
        }
      ],
      "source": [
        "data.value_counts('spam')       # Посмотрим распределение значений \"Спама\""
      ]
    },
    {
      "cell_type": "markdown",
      "metadata": {
        "id": "pBQHUXNtaQF8"
      },
      "source": [
        "Стоп-слова для англиского языка в spaCy"
      ]
    },
    {
      "cell_type": "code",
      "execution_count": 14,
      "metadata": {
        "id": "U9iTXQlLaQF-"
      },
      "outputs": [],
      "source": [
        "import spacy    # Импортируем библиотеку"
      ]
    },
    {
      "cell_type": "code",
      "execution_count": 15,
      "metadata": {
        "colab": {
          "base_uri": "https://localhost:8080/",
          "height": 174
        },
        "id": "95edzob9aQF_",
        "outputId": "85c10d95-a18a-4f24-bdd4-471e864d9069"
      },
      "outputs": [
        {
          "output_type": "stream",
          "name": "stdout",
          "text": [
            "Spacy english stopwords size (web_sm): 326\n",
            "\n"
          ]
        },
        {
          "output_type": "execute_result",
          "data": {
            "text/plain": [
              "\"also further thereupon put seem done latter itself might off sometime everywhere whether whom n't n’t give would sixty therefore amount eight is much none becoming made ‘m because mine that nowhere so moreover to was re have cannot among top without after somehow show forty noone been where then really for which onto he last ’s those upon full fifteen myself wherein ca above had do whereby from either however his thence some will behind anywhere ’ll name himself latterly something you ‘re six beforehand again neither than whose it hereupon just ever each five take everything even could still yet your empty but these sometimes no call my unless 'd our before wherever over n‘t its with always others being yourself nothing several hers are me part other themselves except hereby various while anything due regarding their many 've if whence three nine they whatever less a another ’re herein please few why into were back already at in via anyway seeming perhaps hence how what almost side 's four did around enough used front ‘ll she the get former up 're once has everyone besides nevertheless make indeed we thereafter i elsewhere of thereby somewhere thru see meanwhile who seemed them else well now through any become her toward per formerly though about became as during never and seems an mostly ‘ve someone least ours towards whoever along too fifty say out him ten not may twenty own quite since two does together anyone ‘d namely move can keep within ourselves beside ’ve otherwise very 'm both twelve nobody becomes must ‘s yours every whither therein below whereas only such using bottom throughout herself thus ’d go whereupon third hereafter us same or should by on nor anyhow next when more rather one whereafter all under although be most ’m often 'll against until afterwards there between beyond alone eleven across this hundred down yourselves am doing here amongst serious whole first whenever\""
            ],
            "application/vnd.google.colaboratory.intrinsic+json": {
              "type": "string"
            }
          },
          "metadata": {},
          "execution_count": 15
        }
      ],
      "source": [
        "nlp_sm = spacy.load(\"en_core_web_sm\")       # Загрузим\n",
        "stopwords_sm = nlp_sm.Defaults.stop_words   # \"СТОП СЛОВА\"\n",
        "print(f'Spacy english stopwords size (web_sm): {len(stopwords_sm)}', end='\\n\\n')\n",
        "' '.join(stopwords_sm)                      # Посмотрим"
      ]
    },
    {
      "cell_type": "code",
      "execution_count": 16,
      "metadata": {
        "id": "5FTdB_oqaQF_"
      },
      "outputs": [],
      "source": [
        "data['text']= data['text'].astype(str)      #Приведём к типу str."
      ]
    },
    {
      "cell_type": "markdown",
      "metadata": {
        "id": "AQioN_QjaQF_"
      },
      "source": [
        "Атрибуты Token"
      ]
    },
    {
      "cell_type": "code",
      "execution_count": 17,
      "metadata": {
        "colab": {
          "base_uri": "https://localhost:8080/",
          "height": 554
        },
        "id": "VOLbZShjaQGA",
        "outputId": "5bc8774c-e7d6-4bb0-93ee-7cfc6c0c12b1"
      },
      "outputs": [
        {
          "output_type": "stream",
          "name": "stdout",
          "text": [
            "CPU times: user 2min 24s, sys: 962 ms, total: 2min 25s\n",
            "Wall time: 2min 28s\n"
          ]
        },
        {
          "output_type": "execute_result",
          "data": {
            "text/plain": [
              "                                                   text  spam  \\\n",
              "973   i use exmh NUMBER NUMBER with procmail for pre...     0   \n",
              "2897   hyperlink you ve been hand selected to access...     1   \n",
              "1086  on mon feb NUMBER NUMBER at NUMBER NUMBER NUMB...     0   \n",
              "2166  url URL date NUMBER NUMBER NUMBERtNUMBER NUMBE...     0   \n",
              "1967  url URL date not supplied males suffer more pa...     0   \n",
              "350   mike masnick wrote why is it that people don t...     0   \n",
              "988   on mon NUMBER sep NUMBER NUMBER NUMBER NUMBER ...     0   \n",
              "371   reza b far ebuilt wrote problems why do most c...     0   \n",
              "442   i dunno bb women who like to be thought of thi...     0   \n",
              "394   today an apt get upgrade holds back php and su...     0   \n",
              "2731   behind every elite producer is an elite semin...     1   \n",
              "1296  once upon a time roi wrote oh xmms didn t work...     0   \n",
              "2912  you have been removed from our list you will n...     1   \n",
              "2092  url URL date NUMBER NUMBER NUMBERtNUMBER NUMBE...     0   \n",
              "2165  url URL date NUMBER NUMBER NUMBERtNUMBER NUMBE...     0   \n",
              "\n",
              "                                        cleaned_text_sm  \n",
              "973   use exmh number number procmail presorte incom...  \n",
              "2897  hyperlink ve hand select access exclusive work...  \n",
              "1086  mon feb number number number number numberpm n...  \n",
              "2166  url url date number number numbertnumber numbe...  \n",
              "1967  url url date supply male suffer parasitic infe...  \n",
              "350   mike masnick write people don t understand giv...  \n",
              "988   mon number sep number number number number num...  \n",
              "371   reza b far ebuilt write problem computer scien...  \n",
              "442   dunno bb woman like think way right choose tre...  \n",
              "394   today apt upgrade hold php submodule like php ...  \n",
              "2731  elite producer elite seminar system attention ...  \n",
              "1296  time roi write oh xmms didn t work mpgnumber t...  \n",
              "2912  remove list able recieve today pick email noti...  \n",
              "2092  url url date number number numbertnumber numbe...  \n",
              "2165  url url date number number numbertnumber numbe...  "
            ],
            "text/html": [
              "\n",
              "  <div id=\"df-3fa331af-a2e2-411b-a786-34f5b93f8b86\">\n",
              "    <div class=\"colab-df-container\">\n",
              "      <div>\n",
              "<style scoped>\n",
              "    .dataframe tbody tr th:only-of-type {\n",
              "        vertical-align: middle;\n",
              "    }\n",
              "\n",
              "    .dataframe tbody tr th {\n",
              "        vertical-align: top;\n",
              "    }\n",
              "\n",
              "    .dataframe thead th {\n",
              "        text-align: right;\n",
              "    }\n",
              "</style>\n",
              "<table border=\"1\" class=\"dataframe\">\n",
              "  <thead>\n",
              "    <tr style=\"text-align: right;\">\n",
              "      <th></th>\n",
              "      <th>text</th>\n",
              "      <th>spam</th>\n",
              "      <th>cleaned_text_sm</th>\n",
              "    </tr>\n",
              "  </thead>\n",
              "  <tbody>\n",
              "    <tr>\n",
              "      <th>973</th>\n",
              "      <td>i use exmh NUMBER NUMBER with procmail for pre...</td>\n",
              "      <td>0</td>\n",
              "      <td>use exmh number number procmail presorte incom...</td>\n",
              "    </tr>\n",
              "    <tr>\n",
              "      <th>2897</th>\n",
              "      <td>hyperlink you ve been hand selected to access...</td>\n",
              "      <td>1</td>\n",
              "      <td>hyperlink ve hand select access exclusive work...</td>\n",
              "    </tr>\n",
              "    <tr>\n",
              "      <th>1086</th>\n",
              "      <td>on mon feb NUMBER NUMBER at NUMBER NUMBER NUMB...</td>\n",
              "      <td>0</td>\n",
              "      <td>mon feb number number number number numberpm n...</td>\n",
              "    </tr>\n",
              "    <tr>\n",
              "      <th>2166</th>\n",
              "      <td>url URL date NUMBER NUMBER NUMBERtNUMBER NUMBE...</td>\n",
              "      <td>0</td>\n",
              "      <td>url url date number number numbertnumber numbe...</td>\n",
              "    </tr>\n",
              "    <tr>\n",
              "      <th>1967</th>\n",
              "      <td>url URL date not supplied males suffer more pa...</td>\n",
              "      <td>0</td>\n",
              "      <td>url url date supply male suffer parasitic infe...</td>\n",
              "    </tr>\n",
              "    <tr>\n",
              "      <th>350</th>\n",
              "      <td>mike masnick wrote why is it that people don t...</td>\n",
              "      <td>0</td>\n",
              "      <td>mike masnick write people don t understand giv...</td>\n",
              "    </tr>\n",
              "    <tr>\n",
              "      <th>988</th>\n",
              "      <td>on mon NUMBER sep NUMBER NUMBER NUMBER NUMBER ...</td>\n",
              "      <td>0</td>\n",
              "      <td>mon number sep number number number number num...</td>\n",
              "    </tr>\n",
              "    <tr>\n",
              "      <th>371</th>\n",
              "      <td>reza b far ebuilt wrote problems why do most c...</td>\n",
              "      <td>0</td>\n",
              "      <td>reza b far ebuilt write problem computer scien...</td>\n",
              "    </tr>\n",
              "    <tr>\n",
              "      <th>442</th>\n",
              "      <td>i dunno bb women who like to be thought of thi...</td>\n",
              "      <td>0</td>\n",
              "      <td>dunno bb woman like think way right choose tre...</td>\n",
              "    </tr>\n",
              "    <tr>\n",
              "      <th>394</th>\n",
              "      <td>today an apt get upgrade holds back php and su...</td>\n",
              "      <td>0</td>\n",
              "      <td>today apt upgrade hold php submodule like php ...</td>\n",
              "    </tr>\n",
              "    <tr>\n",
              "      <th>2731</th>\n",
              "      <td>behind every elite producer is an elite semin...</td>\n",
              "      <td>1</td>\n",
              "      <td>elite producer elite seminar system attention ...</td>\n",
              "    </tr>\n",
              "    <tr>\n",
              "      <th>1296</th>\n",
              "      <td>once upon a time roi wrote oh xmms didn t work...</td>\n",
              "      <td>0</td>\n",
              "      <td>time roi write oh xmms didn t work mpgnumber t...</td>\n",
              "    </tr>\n",
              "    <tr>\n",
              "      <th>2912</th>\n",
              "      <td>you have been removed from our list you will n...</td>\n",
              "      <td>1</td>\n",
              "      <td>remove list able recieve today pick email noti...</td>\n",
              "    </tr>\n",
              "    <tr>\n",
              "      <th>2092</th>\n",
              "      <td>url URL date NUMBER NUMBER NUMBERtNUMBER NUMBE...</td>\n",
              "      <td>0</td>\n",
              "      <td>url url date number number numbertnumber numbe...</td>\n",
              "    </tr>\n",
              "    <tr>\n",
              "      <th>2165</th>\n",
              "      <td>url URL date NUMBER NUMBER NUMBERtNUMBER NUMBE...</td>\n",
              "      <td>0</td>\n",
              "      <td>url url date number number numbertnumber numbe...</td>\n",
              "    </tr>\n",
              "  </tbody>\n",
              "</table>\n",
              "</div>\n",
              "      <button class=\"colab-df-convert\" onclick=\"convertToInteractive('df-3fa331af-a2e2-411b-a786-34f5b93f8b86')\"\n",
              "              title=\"Convert this dataframe to an interactive table.\"\n",
              "              style=\"display:none;\">\n",
              "        \n",
              "  <svg xmlns=\"http://www.w3.org/2000/svg\" height=\"24px\"viewBox=\"0 0 24 24\"\n",
              "       width=\"24px\">\n",
              "    <path d=\"M0 0h24v24H0V0z\" fill=\"none\"/>\n",
              "    <path d=\"M18.56 5.44l.94 2.06.94-2.06 2.06-.94-2.06-.94-.94-2.06-.94 2.06-2.06.94zm-11 1L8.5 8.5l.94-2.06 2.06-.94-2.06-.94L8.5 2.5l-.94 2.06-2.06.94zm10 10l.94 2.06.94-2.06 2.06-.94-2.06-.94-.94-2.06-.94 2.06-2.06.94z\"/><path d=\"M17.41 7.96l-1.37-1.37c-.4-.4-.92-.59-1.43-.59-.52 0-1.04.2-1.43.59L10.3 9.45l-7.72 7.72c-.78.78-.78 2.05 0 2.83L4 21.41c.39.39.9.59 1.41.59.51 0 1.02-.2 1.41-.59l7.78-7.78 2.81-2.81c.8-.78.8-2.07 0-2.86zM5.41 20L4 18.59l7.72-7.72 1.47 1.35L5.41 20z\"/>\n",
              "  </svg>\n",
              "      </button>\n",
              "      \n",
              "  <style>\n",
              "    .colab-df-container {\n",
              "      display:flex;\n",
              "      flex-wrap:wrap;\n",
              "      gap: 12px;\n",
              "    }\n",
              "\n",
              "    .colab-df-convert {\n",
              "      background-color: #E8F0FE;\n",
              "      border: none;\n",
              "      border-radius: 50%;\n",
              "      cursor: pointer;\n",
              "      display: none;\n",
              "      fill: #1967D2;\n",
              "      height: 32px;\n",
              "      padding: 0 0 0 0;\n",
              "      width: 32px;\n",
              "    }\n",
              "\n",
              "    .colab-df-convert:hover {\n",
              "      background-color: #E2EBFA;\n",
              "      box-shadow: 0px 1px 2px rgba(60, 64, 67, 0.3), 0px 1px 3px 1px rgba(60, 64, 67, 0.15);\n",
              "      fill: #174EA6;\n",
              "    }\n",
              "\n",
              "    [theme=dark] .colab-df-convert {\n",
              "      background-color: #3B4455;\n",
              "      fill: #D2E3FC;\n",
              "    }\n",
              "\n",
              "    [theme=dark] .colab-df-convert:hover {\n",
              "      background-color: #434B5C;\n",
              "      box-shadow: 0px 1px 3px 1px rgba(0, 0, 0, 0.15);\n",
              "      filter: drop-shadow(0px 1px 2px rgba(0, 0, 0, 0.3));\n",
              "      fill: #FFFFFF;\n",
              "    }\n",
              "  </style>\n",
              "\n",
              "      <script>\n",
              "        const buttonEl =\n",
              "          document.querySelector('#df-3fa331af-a2e2-411b-a786-34f5b93f8b86 button.colab-df-convert');\n",
              "        buttonEl.style.display =\n",
              "          google.colab.kernel.accessAllowed ? 'block' : 'none';\n",
              "\n",
              "        async function convertToInteractive(key) {\n",
              "          const element = document.querySelector('#df-3fa331af-a2e2-411b-a786-34f5b93f8b86');\n",
              "          const dataTable =\n",
              "            await google.colab.kernel.invokeFunction('convertToInteractive',\n",
              "                                                     [key], {});\n",
              "          if (!dataTable) return;\n",
              "\n",
              "          const docLinkHtml = 'Like what you see? Visit the ' +\n",
              "            '<a target=\"_blank\" href=https://colab.research.google.com/notebooks/data_table.ipynb>data table notebook</a>'\n",
              "            + ' to learn more about interactive tables.';\n",
              "          element.innerHTML = '';\n",
              "          dataTable['output_type'] = 'display_data';\n",
              "          await google.colab.output.renderOutput(dataTable, element);\n",
              "          const docLink = document.createElement('div');\n",
              "          docLink.innerHTML = docLinkHtml;\n",
              "          element.appendChild(docLink);\n",
              "        }\n",
              "      </script>\n",
              "    </div>\n",
              "  </div>\n",
              "  "
            ]
          },
          "metadata": {},
          "execution_count": 17
        }
      ],
      "source": [
        "%%time\n",
        "\n",
        "data['cleaned_text_sm'] = data['text'].apply(\n",
        "    lambda x: ' '.join(\n",
        "        token.lemma_.lower() for token in nlp_sm(x) if  # Приведём к нижнему регистру и смотрим\n",
        "        not token.is_stop                               # Стоп слова \n",
        "        and not token.is_punct                          # Пунктуация\n",
        "        #and not token.is_digit                          # Цифра\n",
        "        #and not token.like_email                        # Электронный почтовый адресс\n",
        "        #and not token.like_num                          # Описание цифры\n",
        "        and not token.is_space                          # Пробельные символы\n",
        "    )\n",
        ")\n",
        "data.sample(15)"
      ]
    },
    {
      "cell_type": "markdown",
      "metadata": {
        "id": "8rA2Rb0baQGE"
      },
      "source": [
        "# Gensim\n",
        "\n",
        "[Gensim](https://radimrehurek.com/gensim/index.html) – библиотека обработки естественного языка предназначения для «Тематического моделирования». С его помощью можно обрабатывать тексты, работать с векторными моделями слов (такими как Word2Vec, FastText и т. д.) и создавать тематические модели текстов"
      ]
    },
    {
      "cell_type": "code",
      "execution_count": 18,
      "metadata": {
        "id": "qFDCVuSSaQGF"
      },
      "outputs": [],
      "source": [
        "#!pip install gensim"
      ]
    },
    {
      "cell_type": "code",
      "execution_count": 19,
      "metadata": {
        "id": "AP_XvqzHaQGF"
      },
      "outputs": [],
      "source": [
        "import gensim.downloader as api     # Импортируем загрузчик gensim\n",
        "import warnings                     # импортируем блок warnin-гов для их игнорирования.\n",
        "\n",
        "warnings.simplefilter(action='ignore', category=FutureWarning)"
      ]
    },
    {
      "cell_type": "code",
      "execution_count": 20,
      "metadata": {
        "id": "S7PPPVy7k4Du",
        "colab": {
          "base_uri": "https://localhost:8080/"
        },
        "outputId": "68db5405-7510-4f8f-9ab1-8ed87cc37640"
      },
      "outputs": [
        {
          "output_type": "stream",
          "name": "stdout",
          "text": [
            "[=================================================-] 98.5% 126.2/128.1MB downloaded"
          ]
        }
      ],
      "source": [
        "wv_en = api.load('glove-wiki-gigaword-100')"
      ]
    },
    {
      "cell_type": "code",
      "execution_count": 21,
      "metadata": {
        "colab": {
          "base_uri": "https://localhost:8080/"
        },
        "id": "XxmFoaWxmY8n",
        "outputId": "44c3e61a-8ee1-4f5d-f5dc-af98c1e4f673"
      },
      "outputs": [
        {
          "output_type": "execute_result",
          "data": {
            "text/plain": [
              "gensim.models.keyedvectors.KeyedVectors"
            ]
          },
          "metadata": {},
          "execution_count": 21
        }
      ],
      "source": [
        "type(wv_en)"
      ]
    },
    {
      "cell_type": "code",
      "execution_count": 22,
      "metadata": {
        "colab": {
          "base_uri": "https://localhost:8080/"
        },
        "id": "z1tvjcJplxMU",
        "outputId": "4be9a0b1-812b-4f7f-b8f5-8897b596ecc5"
      },
      "outputs": [
        {
          "output_type": "execute_result",
          "data": {
            "text/plain": [
              "(100,)"
            ]
          },
          "metadata": {},
          "execution_count": 22
        }
      ],
      "source": [
        "word_vector = wv_en['apple']      # Для примера посмотрим вектор слова \"apple\" (яблоко) в данной уже обученной модели.\n",
        "word_vector.shape"
      ]
    },
    {
      "cell_type": "code",
      "execution_count": 23,
      "metadata": {
        "colab": {
          "base_uri": "https://localhost:8080/"
        },
        "id": "15-PDIDpm3l_",
        "outputId": "8c86ac2d-9e50-4f18-ee42-d8579b26e147"
      },
      "outputs": [
        {
          "output_type": "execute_result",
          "data": {
            "text/plain": [
              "[('software', 0.5999448299407959),\n",
              " ('linux', 0.5880342125892639),\n",
              " ('microsoft', 0.570721447467804),\n",
              " ('blackberry', 0.5705849528312683),\n",
              " ('computer', 0.5621128678321838)]"
            ]
          },
          "metadata": {},
          "execution_count": 23
        }
      ],
      "source": [
        "wv_en.most_similar(positive=['apple', 'python'], topn=5)     # Посмотрим что покажет."
      ]
    },
    {
      "cell_type": "code",
      "execution_count": 24,
      "metadata": {
        "colab": {
          "base_uri": "https://localhost:8080/"
        },
        "id": "84L6ypAeaQGI",
        "outputId": "3f50505b-5676-4b1c-fd84-5b3ea792b08e"
      },
      "outputs": [
        {
          "output_type": "execute_result",
          "data": {
            "text/plain": [
              "[('confit', 0.5801767110824585),\n",
              " ('darkwing', 0.5414749979972839),\n",
              " ('venison', 0.526385486125946),\n",
              " ('daffy', 0.4835190176963806),\n",
              " ('quacking', 0.4802570939064026)]"
            ]
          },
          "metadata": {},
          "execution_count": 24
        }
      ],
      "source": [
        "wv_en.most_similar(positive=['duck'], negative=['female'], topn=5)  # Для проверки что это близко к утке, но не женщина."
      ]
    },
    {
      "cell_type": "code",
      "execution_count": 25,
      "metadata": {
        "colab": {
          "base_uri": "https://localhost:8080/"
        },
        "id": "tHdK-veEaQGI",
        "outputId": "534b3842-1df7-4756-97c6-116a90c0df8d"
      },
      "outputs": [
        {
          "output_type": "stream",
          "name": "stdout",
          "text": [
            "eraser\n"
          ]
        }
      ],
      "source": [
        "# Посмотрим какое слово самое далёкое\n",
        "print(wv_en.doesnt_match(['pen', 'eraser', 'door', 'bucket', 'girl']))"
      ]
    },
    {
      "cell_type": "markdown",
      "metadata": {
        "id": "tdemSadAaQGI"
      },
      "source": [
        "А теперь проведём обучение своих SkipGram эмбеддингов с Gensim"
      ]
    },
    {
      "cell_type": "markdown",
      "metadata": {
        "id": "a2k9musqaQGI"
      },
      "source": [
        "У нас уже скачен и обработан \"спам не спам\"."
      ]
    },
    {
      "cell_type": "code",
      "execution_count": 26,
      "metadata": {
        "colab": {
          "base_uri": "https://localhost:8080/"
        },
        "id": "4HGx-y10aQGJ",
        "outputId": "6eb9db05-946f-4f26-c535-1fe5fb3ccb54"
      },
      "outputs": [
        {
          "output_type": "execute_result",
          "data": {
            "text/plain": [
              "0    date d number aug number number number number ...\n",
              "1    martin post tassos papadopoulo greek sculptor ...\n",
              "2    man threaten explosion moscow thursday august ...\n",
              "3    klez virus win t die prolific virus klez conti...\n",
              "4    add cream spaghetti carbonara effect pasta mak...\n",
              "5    jump carbonara favourite ask hell suppose use ...\n",
              "Name: cleaned_text_sm, dtype: object"
            ]
          },
          "metadata": {},
          "execution_count": 26
        }
      ],
      "source": [
        "data['cleaned_text_sm'].head(6)     # пример обработанных данных"
      ]
    },
    {
      "cell_type": "code",
      "execution_count": 27,
      "metadata": {
        "id": "7OWVC-6baQGJ"
      },
      "outputs": [],
      "source": [
        "import gensim.models\n",
        "import string"
      ]
    },
    {
      "cell_type": "code",
      "execution_count": 28,
      "metadata": {
        "id": "LM_vhgzHw14k"
      },
      "outputs": [],
      "source": [
        "data = data[data.text.str.len() != 0]   #Удалим строки без текста"
      ]
    },
    {
      "cell_type": "code",
      "execution_count": 29,
      "metadata": {
        "id": "WyeSeRXjaQGJ"
      },
      "outputs": [],
      "source": [
        "res = []\n",
        "\n",
        "# Обработаем по другому.\n",
        "for doc in nlp_sm.pipe(data['text']):\n",
        "    res.append([token.lemma_ for token in doc if token.lemma_ not in string.punctuation and not token.is_stop])\n",
        "    "
      ]
    },
    {
      "cell_type": "code",
      "execution_count": 30,
      "metadata": {
        "colab": {
          "base_uri": "https://localhost:8080/",
          "height": 53
        },
        "id": "lU9OJI_VaQGK",
        "outputId": "d73c4521-e938-4c05-8844-5751350163a3"
      },
      "outputs": [
        {
          "output_type": "execute_result",
          "data": {
            "text/plain": [
              "'hello see discuss article approach thank url hell rule try accomplish thomas alva edison url email sponsor osdn tired old cell phone new free url spamassassin devel mailing list spamassassin devel url url'"
            ],
            "application/vnd.google.colaboratory.intrinsic+json": {
              "type": "string"
            }
          },
          "metadata": {},
          "execution_count": 30
        }
      ],
      "source": [
        "# Это что было изначально обработано.\n",
        "data['cleaned_text_sm'][10]"
      ]
    },
    {
      "cell_type": "code",
      "execution_count": 31,
      "metadata": {
        "colab": {
          "base_uri": "https://localhost:8080/"
        },
        "id": "Hzzqfx4kaQGL",
        "outputId": "440c78c6-7878-461a-dd0f-77a123f71e63"
      },
      "outputs": [
        {
          "output_type": "stream",
          "name": "stdout",
          "text": [
            "[' ', 'date', 'd', 'NUMBER', 'aug', 'NUMBER', 'NUMBER', 'NUMBER', 'number', 'number', 'chris', 'garrigues', 'cwg', 'date', 'NUMBER', 'NUMBERfaNUMBERd', 'deepeddy', 'com', 'message', 'd', 'NUMBER', 'NUMBER', 'tmda', 'deepeddy', 'vircio', 'com', 't', 'reproduce', 'error', 'repeatable', 'like', 'time', 'fail', 'debug', 'log', 'pick', 'happen', 'NUMBER', 'NUMBER', 'NUMBER', 'pick_it', 'exec', 'pick', 'inbox', 'list', 'lbrace', 'lbrace', 'subject', 'ftp', 'rbrace', 'rbrace', 'number', 'number', 'sequence', 'mercury', 'NUMBER', 'NUMBER', 'NUMBER', 'exec', 'pick', 'inbox', 'list', 'lbrace', 'lbrace', 'subject', 'ftp', 'rbrace', 'rbrace', 'number', 'number', 'sequence', 'mercury', 'NUMBER', 'NUMBER', 'NUMBER', 'ftoc_pickmsgs', 'number', 'hit', 'NUMBER', 'number', 'number', 'mark', 'NUMBER', 'hit', 'NUMBER', 'NUMBER', 'NUMBER', 'tkerror', 'syntax', 'error', 'expression', 'int', 'note', 'run', 'pick', 'command', 'hand', 'delta', 'pick', 'inbox', 'list', 'lbrace', 'lbrace', 'subject', 'ftp', 'rbrace', 'rbrace', 'number', 'number', 'sequence', 'mercury', 'NUMBER', 'hit', 's', 'NUMBER', 'hit', 'come', 'obviously', 'version', 'nmh', 'm', 'delta', 'pick', 'version', 'pick', 'nmh', 'NUMBER', 'NUMBER', 'number', 'compile', 'url', 'sun', 'mar', 'NUMBER', 'NUMBER', 'NUMBER', 'NUMBER', 'ict', 'NUMBER', 'relevant', 'mh_profile', 'delta', 'mhparam', 'pick', 'seq', 'sel', 'list', 'pick', 'command', 'work', 'sequence', 'actually', 's', 'explicit', 'command', 'line', 'search', 'popup', 'come', 'mh_profile', 'create', 'kre', 'ps', 'version', 'code', 'form', 'day', 'ago', 'haven', 't', 'able', 'reach', 'cvs', 'repository', 'today', 'local', 'routing', 'issue', 'think', 'exmh', 'worker', 'mailing', 'list', 'exmh', 'worker', 'URL', 'url']\n"
          ]
        }
      ],
      "source": [
        "print(res[0])"
      ]
    },
    {
      "cell_type": "markdown",
      "source": [
        "## **Skip Gram**"
      ],
      "metadata": {
        "id": "tyZ54eSw_Msq"
      }
    },
    {
      "cell_type": "code",
      "execution_count": 32,
      "metadata": {
        "colab": {
          "base_uri": "https://localhost:8080/"
        },
        "id": "clEzjsUxaQGM",
        "outputId": "ce9cb21f-a07e-467b-eaad-4dc548a5c8d5"
      },
      "outputs": [
        {
          "output_type": "stream",
          "name": "stdout",
          "text": [
            "CPU times: user 1min 53s, sys: 239 ms, total: 1min 53s\n",
            "Wall time: 1min 10s\n"
          ]
        }
      ],
      "source": [
        "%%time\n",
        "\n",
        "model_W2V_skip_gram = gensim.models.Word2Vec(\n",
        "    sentences=res, \n",
        "    vector_size=256, # vector_size, default = 100\n",
        "    window=5, # default = 5\n",
        "    min_count=3, \n",
        "    sg=1, # Training algorithm: 1 for skip-gram; otherwise CBOW\n",
        "    hs=0, #  If 1, hierarchical softmax will be used for model training. If 0, and negative is non-zero, negative sampling will be used.\n",
        "    negative=5, # If > 0, negative sampling will be used, if set to 0, no negative sampling is used.\n",
        "    epochs=25, # epochs, Number of iterations (epochs) over the corpus\n",
        "    seed=2023,\n",
        ")"
      ]
    },
    {
      "cell_type": "code",
      "execution_count": 33,
      "metadata": {
        "colab": {
          "base_uri": "https://localhost:8080/"
        },
        "id": "yjEzvF2SleJL",
        "outputId": "49a2cb71-ae88-4b23-fe92-88e4dd973d03"
      },
      "outputs": [
        {
          "output_type": "execute_result",
          "data": {
            "text/plain": [
              "['NUMBER', 'number', 's', 'url', 'URL', 't', 'list', 'time', 'write', 'people']"
            ]
          },
          "metadata": {},
          "execution_count": 33
        }
      ],
      "source": [
        "list(model_W2V_skip_gram.wv.key_to_index)[:10]"
      ]
    },
    {
      "cell_type": "code",
      "execution_count": 34,
      "metadata": {
        "colab": {
          "base_uri": "https://localhost:8080/"
        },
        "id": "mARZG3DJaQGM",
        "outputId": "acd1c5f6-6471-4b5f-ff49-c26d3f3f2c50"
      },
      "outputs": [
        {
          "output_type": "execute_result",
          "data": {
            "text/plain": [
              "[('osdn', 0.7126435041427612),\n",
              " ('thinkgeek', 0.7051084041595459),\n",
              " ('jabber', 0.6602119207382202),\n",
              " ('joetopshot', 0.539314866065979),\n",
              " ('email', 0.5303345322608948)]"
            ]
          },
          "metadata": {},
          "execution_count": 34
        }
      ],
      "source": [
        "# Для проверки попробуем взять слово из 11-го текста. Рядом со словом \"sponsor\".\n",
        "model_W2V_skip_gram.wv.most_similar(positive=['sponsor'], topn=5) "
      ]
    },
    {
      "cell_type": "code",
      "execution_count": 35,
      "metadata": {
        "colab": {
          "base_uri": "https://localhost:8080/"
        },
        "id": "AD9MsMqgaQGN",
        "outputId": "7c445bbe-158d-4ab6-bfce-0af42e4322ba"
      },
      "outputs": [
        {
          "output_type": "execute_result",
          "data": {
            "text/plain": [
              "[('tired', 0.7747728228569031),\n",
              " ('sponsor', 0.7126435041427612),\n",
              " ('thinkgeek', 0.6490980386734009),\n",
              " ('webmake', 0.6195493340492249),\n",
              " ('joetopshot', 0.6138551235198975)]"
            ]
          },
          "metadata": {},
          "execution_count": 35
        }
      ],
      "source": [
        "# Для проверки ещё попробуем взять слово из 11-го текста. Рядом со словом \"odsn\".\n",
        "model_W2V_skip_gram.wv.most_similar(positive=['osdn'], topn=5)"
      ]
    },
    {
      "cell_type": "code",
      "execution_count": 36,
      "metadata": {
        "colab": {
          "base_uri": "https://localhost:8080/",
          "height": 35
        },
        "id": "vSnXa4hhGANw",
        "outputId": "81c2504b-cd35-424b-99a5-f28ceb7f84c2"
      },
      "outputs": [
        {
          "output_type": "execute_result",
          "data": {
            "text/plain": [
              "'door'"
            ],
            "application/vnd.google.colaboratory.intrinsic+json": {
              "type": "string"
            }
          },
          "metadata": {},
          "execution_count": 36
        }
      ],
      "source": [
        "# Для проверки посмотрим какое из этих слов не подходит.\n",
        "model_W2V_skip_gram.wv.doesnt_match(['sponsor', 'thinkgeek', 'door', 'jabber', 'webmake'])"
      ]
    },
    {
      "cell_type": "code",
      "execution_count": 37,
      "metadata": {
        "id": "82oigkCQrsCN"
      },
      "outputs": [],
      "source": [
        "vocab_skip_gram = model_W2V_skip_gram.wv.key_to_index.keys()    # Это словарь слов в модели"
      ]
    },
    {
      "cell_type": "code",
      "execution_count": 38,
      "metadata": {
        "colab": {
          "base_uri": "https://localhost:8080/"
        },
        "id": "lFwkJ-9JH5--",
        "outputId": "ad261d75-2c3b-40c7-a7ae-26d5df2ca209"
      },
      "outputs": [
        {
          "output_type": "stream",
          "name": "stdout",
          "text": [
            "data =  ['nan']\n",
            "spam =  1\n"
          ]
        }
      ],
      "source": [
        "X_skip_gram = []   # Здесь будет полученный результат\n",
        "Y_skip_gram = []\n",
        "i=0\n",
        "for sentence in res:    # Пройдёмся по всем предложеним в наших данных \"res\"\n",
        "  sentence_vectors = []   # Создадим пустой список для векторов слов в предложении\n",
        "  for word in sentence:   # Пройдёмся по всем словам в предложении\n",
        "    if word in vocab_skip_gram:   # Если слово присутствует в словаре полученной модели, тогда..\n",
        "      sentence_vectors.append(model_W2V_skip_gram.wv[word])   # Добавим вектор каждого слова в предложении\n",
        "      \n",
        "  if sentence_vectors:    # Если не пустой\n",
        "    X_skip_gram.append(np.mean(sentence_vectors, axis=0))    # В результат положим вектор предложения, \n",
        "                                                      # полученный как усреднённое значение векторов слов в предложении.\n",
        "    Y_skip_gram.append(data.spam[i])    # и соответствующую метку\n",
        "  else :\n",
        "    print('data = ',sentence)\n",
        "    print('spam = ', data.spam[i])\n",
        "  i=i+1     # увеличим счётчик"
      ]
    },
    {
      "cell_type": "code",
      "execution_count": 39,
      "metadata": {
        "colab": {
          "base_uri": "https://localhost:8080/"
        },
        "id": "jaticvHodCoK",
        "outputId": "e4c4f283-9465-4d12-edfe-22d985600c9f"
      },
      "outputs": [
        {
          "output_type": "execute_result",
          "data": {
            "text/plain": [
              "2999"
            ]
          },
          "metadata": {},
          "execution_count": 39
        }
      ],
      "source": [
        "len(X_skip_gram) # Проверим длинну X"
      ]
    },
    {
      "cell_type": "code",
      "execution_count": 40,
      "metadata": {
        "colab": {
          "base_uri": "https://localhost:8080/"
        },
        "id": "YQPltuotcz3r",
        "outputId": "e1b60bec-58e4-46c2-d708-25f1b35f7632"
      },
      "outputs": [
        {
          "output_type": "execute_result",
          "data": {
            "text/plain": [
              "2999"
            ]
          },
          "metadata": {},
          "execution_count": 40
        }
      ],
      "source": [
        "len(Y_skip_gram)    # Проверим длину Y"
      ]
    },
    {
      "cell_type": "code",
      "execution_count": 41,
      "metadata": {
        "id": "gt_L-vdQH52Z"
      },
      "outputs": [],
      "source": [
        "# Разделим на выборки\n",
        "X_train_skip_gram, X_test_skip_gram, y_train_skip_gram, y_test_skip_gram = train_test_split(X_skip_gram, Y_skip_gram, random_state=2303)"
      ]
    },
    {
      "cell_type": "code",
      "execution_count": 42,
      "metadata": {
        "colab": {
          "base_uri": "https://localhost:8080/"
        },
        "id": "CyMqhoqoH5xd",
        "outputId": "ac18d5ea-6081-4623-9946-4a58349bcb5b"
      },
      "outputs": [
        {
          "output_type": "stream",
          "name": "stdout",
          "text": [
            "              precision    recall  f1-score   support\n",
            "\n",
            "           0       0.98      0.99      0.99       622\n",
            "           1       0.96      0.91      0.94       128\n",
            "\n",
            "    accuracy                           0.98       750\n",
            "   macro avg       0.97      0.95      0.96       750\n",
            "weighted avg       0.98      0.98      0.98       750\n",
            "\n"
          ]
        }
      ],
      "source": [
        "log_reg_model_skip_gram = LogisticRegression()    # Создадим модель логистической регрессии\n",
        "log_reg_model_skip_gram.fit(X_train_skip_gram, y_train_skip_gram)   # Обучим модель\n",
        "pred_skip_gram = log_reg_model_skip_gram.predict(X_test_skip_gram)    # Посмотрим результат\n",
        "print(classification_report(y_test_skip_gram, pred_skip_gram))"
      ]
    },
    {
      "cell_type": "code",
      "execution_count": 43,
      "metadata": {
        "colab": {
          "base_uri": "https://localhost:8080/",
          "height": 449
        },
        "id": "ZyC68lVXgEtY",
        "outputId": "9927ad99-a3f0-487c-f6a4-60f681e2ffde"
      },
      "outputs": [
        {
          "output_type": "display_data",
          "data": {
            "text/plain": [
              "<Figure size 640x480 with 2 Axes>"
            ],
            "image/png": "[encoded data removed]"
          },
          "metadata": {}
        }
      ],
      "source": [
        "visual_skip_gram = confusion_matrix(y_test_skip_gram, pred_skip_gram)\n",
        "sns.heatmap(visual_skip_gram.T, square=True, annot=True, fmt=\"d\")\n",
        "plt.xlabel('Правильные значения \"spam\"')\n",
        "plt.ylabel('Предсказанные значения \"spam\"')\n",
        "plt.show()"
      ]
    },
    {
      "cell_type": "markdown",
      "source": [
        "В случае с Skip Gram  получили  точность 0.98. Видно, что были опеределены ошибочно 10 как не \"spam\", а 6 как \"spam\"."
      ],
      "metadata": {
        "id": "rzmaz8IdMlFQ"
      }
    },
    {
      "cell_type": "markdown",
      "metadata": {
        "id": "RBpHB3Ls4ay6"
      },
      "source": [
        "## **CBOW**"
      ]
    },
    {
      "cell_type": "code",
      "execution_count": 44,
      "metadata": {
        "colab": {
          "base_uri": "https://localhost:8080/"
        },
        "id": "1li1wF1z4bip",
        "outputId": "41cc0cc9-a8f1-4e22-acba-0e7ad14bd461"
      },
      "outputs": [
        {
          "output_type": "stream",
          "name": "stdout",
          "text": [
            "CPU times: user 38.1 s, sys: 153 ms, total: 38.3 s\n",
            "Wall time: 22.4 s\n"
          ]
        }
      ],
      "source": [
        "%%time\n",
        "\n",
        "model_W2V_CBOW = gensim.models.Word2Vec(\n",
        "    sentences=res, \n",
        "    vector_size=256, # vector_size, default = 100\n",
        "    window=10, # default = 5\n",
        "    min_count=3, \n",
        "    sg=0, # Training algorithm: 1 for skip-gram; otherwise CBOW\n",
        "    hs=0, #  If 1, hierarchical softmax will be used for model training. If 0, and negative is non-zero, negative sampling will be used.\n",
        "    negative=5, # If > 0, negative sampling will be used, if set to 0, no negative sampling is used.\n",
        "    epochs=25, # epochs, Number of iterations (epochs) over the corpus\n",
        "    seed=2023,\n",
        ")"
      ]
    },
    {
      "cell_type": "code",
      "execution_count": 45,
      "metadata": {
        "colab": {
          "base_uri": "https://localhost:8080/"
        },
        "id": "1VgEslpqAA2g",
        "outputId": "ae49adb0-23ed-4c40-a939-79df35b58949"
      },
      "outputs": [
        {
          "output_type": "stream",
          "name": "stdout",
          "text": [
            "10817\n"
          ]
        }
      ],
      "source": [
        "print(len(model_W2V_CBOW.wv.key_to_index))"
      ]
    },
    {
      "cell_type": "code",
      "execution_count": 46,
      "metadata": {
        "colab": {
          "base_uri": "https://localhost:8080/"
        },
        "id": "pIYhoy7-4cJd",
        "outputId": "66942968-c262-41bc-b175-1d1b5f500f20"
      },
      "outputs": [
        {
          "output_type": "execute_result",
          "data": {
            "text/plain": [
              "[('thinkgeek', 0.7744281888008118),\n",
              " ('osdn', 0.7689492106437683),\n",
              " ('geek', 0.749823808670044),\n",
              " ('jabber', 0.7208877801895142),\n",
              " ('tired', 0.7195780873298645)]"
            ]
          },
          "metadata": {},
          "execution_count": 46
        }
      ],
      "source": [
        "# Для проверки попробуем взять слово из 11-го текста. Рядом со словом \"sponsor\".\n",
        "model_W2V_CBOW.wv.most_similar(positive=['sponsor'], topn=5) "
      ]
    },
    {
      "cell_type": "code",
      "execution_count": 47,
      "metadata": {
        "colab": {
          "base_uri": "https://localhost:8080/"
        },
        "id": "ml1Jkt914cEI",
        "outputId": "b08d3cdd-f5d6-4f81-b178-135c6bb27389"
      },
      "outputs": [
        {
          "output_type": "execute_result",
          "data": {
            "text/plain": [
              "[('tired', 0.9359095692634583),\n",
              " ('cell', 0.8501704335212708),\n",
              " ('sponsor', 0.7689492702484131),\n",
              " ('heaven', 0.6448954343795776),\n",
              " ('thinkgeek', 0.6246991753578186)]"
            ]
          },
          "metadata": {},
          "execution_count": 47
        }
      ],
      "source": [
        "# Для проверки ещё попробуем взять слово из 11-го текста. Рядом со словом \"odsn\".\n",
        "model_W2V_CBOW.wv.most_similar(positive=['osdn'], topn=5)"
      ]
    },
    {
      "cell_type": "code",
      "execution_count": 48,
      "metadata": {
        "colab": {
          "base_uri": "https://localhost:8080/",
          "height": 35
        },
        "id": "VCLhYje6G9Ln",
        "outputId": "3e7ec442-594a-4962-dc09-1ee54c0e759a"
      },
      "outputs": [
        {
          "output_type": "execute_result",
          "data": {
            "text/plain": [
              "'door'"
            ],
            "application/vnd.google.colaboratory.intrinsic+json": {
              "type": "string"
            }
          },
          "metadata": {},
          "execution_count": 48
        }
      ],
      "source": [
        "# Для проверки посмотрим какое из этих слов не подходит.\n",
        "model_W2V_CBOW.wv.doesnt_match(['sponsor', 'thinkgeek', 'door', 'jabber', 'webmake'])"
      ]
    },
    {
      "cell_type": "code",
      "source": [
        "vocab_CBOW = model_W2V_skip_gram.wv.key_to_index.keys()    # Это словарь слов в модели"
      ],
      "metadata": {
        "id": "VHQPzaufHLdG"
      },
      "execution_count": 49,
      "outputs": []
    },
    {
      "cell_type": "code",
      "execution_count": 50,
      "metadata": {
        "colab": {
          "base_uri": "https://localhost:8080/"
        },
        "outputId": "b5546892-40f8-468f-d567-614f9df4452c",
        "id": "Wjd19kgUHW3U"
      },
      "outputs": [
        {
          "output_type": "stream",
          "name": "stdout",
          "text": [
            "data =  ['nan']\n",
            "spam =  1\n"
          ]
        }
      ],
      "source": [
        "X_CBOW = []   # Здесь будет полученный результат\n",
        "Y_CBOW = []\n",
        "i=0\n",
        "for sentence in res:    # Пройдёмся по всем предложеним в наших данных \"res\"\n",
        "  sentence_vectors = []   # Создадим пустой список для векторов слов в предложении\n",
        "  for word in sentence:   # Пройдёмся по всем словам в предложении\n",
        "    if word in vocab_CBOW:   # Если слово присутствует в словаре полученной модели, тогда..\n",
        "      sentence_vectors.append(model_W2V_CBOW.wv[word])   # Добавим вектор каждого слова в предложении\n",
        "      \n",
        "  if sentence_vectors:    # Если не пустой\n",
        "    X_CBOW.append(np.mean(sentence_vectors, axis=0))    # В результат положим вектор предложения, \n",
        "                                                      # полученный как усреднённое значение векторов слов в предложении.\n",
        "    Y_CBOW.append(data.spam[i])    # и соответствующую метку\n",
        "  else :\n",
        "    print('data = ',sentence)\n",
        "    print('spam = ', data.spam[i])\n",
        "  i=i+1     # увеличим счётчик"
      ]
    },
    {
      "cell_type": "code",
      "execution_count": 51,
      "metadata": {
        "id": "8KPvNCRBHW3X"
      },
      "outputs": [],
      "source": [
        "# Разделим на выборки\n",
        "X_train_CBOW, X_test_CBOW, y_train_CBOW, y_test_CBOW = train_test_split(X_CBOW, Y_CBOW, random_state=2303)"
      ]
    },
    {
      "cell_type": "code",
      "execution_count": 52,
      "metadata": {
        "colab": {
          "base_uri": "https://localhost:8080/"
        },
        "outputId": "ada07547-bac4-43c9-ee95-bcf41f31ad25",
        "id": "oq6-kGPbHW3Y"
      },
      "outputs": [
        {
          "output_type": "stream",
          "name": "stdout",
          "text": [
            "              precision    recall  f1-score   support\n",
            "\n",
            "           0       0.99      0.99      0.99       622\n",
            "           1       0.93      0.97      0.95       128\n",
            "\n",
            "    accuracy                           0.98       750\n",
            "   macro avg       0.96      0.98      0.97       750\n",
            "weighted avg       0.98      0.98      0.98       750\n",
            "\n"
          ]
        }
      ],
      "source": [
        "log_reg_model_CBOW = LogisticRegression()    # Создадим модель логистической регрессии\n",
        "log_reg_model_CBOW.fit(X_train_CBOW, y_train_CBOW)   # Обучим модель\n",
        "pred_CBOW = log_reg_model_CBOW.predict(X_test_CBOW)    # Посмотрим результат\n",
        "print(classification_report(y_test_CBOW, pred_CBOW))"
      ]
    },
    {
      "cell_type": "code",
      "execution_count": 53,
      "metadata": {
        "colab": {
          "base_uri": "https://localhost:8080/",
          "height": 449
        },
        "outputId": "37b31fc5-168e-4213-9704-ddfdb90978da",
        "id": "8jNIsIoYHW3Y"
      },
      "outputs": [
        {
          "output_type": "display_data",
          "data": {
            "text/plain": [
              "<Figure size 640x480 with 2 Axes>"
            ],
            "image/png": "[encoded data removed]"
          },
          "metadata": {}
        }
      ],
      "source": [
        "visual_CBOW = confusion_matrix(y_test_CBOW, pred_CBOW)\n",
        "sns.heatmap(visual_CBOW.T, square=True, annot=True, fmt=\"d\")\n",
        "plt.xlabel('Правильные значения \"spam\"')\n",
        "plt.ylabel('Предсказанные значения \"spam\"')\n",
        "plt.show()"
      ]
    },
    {
      "cell_type": "markdown",
      "source": [
        "В случае с CBOW получили  точность 0.98. Видно, что были опеределены ошибочно 4 как не \"spam\", а 9 как \"spam\"."
      ],
      "metadata": {
        "id": "Pg08srtdLStK"
      }
    },
    {
      "cell_type": "markdown",
      "metadata": {
        "id": "lwBNT3vlaQGP"
      },
      "source": [
        "# **FastText**\n",
        "Обучим свою модель"
      ]
    },
    {
      "cell_type": "code",
      "execution_count": 54,
      "metadata": {
        "id": "I9eRcJLFaQGP"
      },
      "outputs": [],
      "source": [
        "#!pip install fasttext"
      ]
    },
    {
      "cell_type": "code",
      "execution_count": 55,
      "metadata": {
        "colab": {
          "base_uri": "https://localhost:8080/"
        },
        "id": "ymYtoFjjsOHL",
        "outputId": "d4ae6189-b63e-4b9d-fc8d-83a2fdadab4a"
      },
      "outputs": [
        {
          "output_type": "execute_result",
          "data": {
            "text/plain": [
              "['fasttext-wiki-news-subwords-300',\n",
              " 'conceptnet-numberbatch-17-06-300',\n",
              " 'word2vec-ruscorpora-300',\n",
              " 'word2vec-google-news-300',\n",
              " 'glove-wiki-gigaword-50',\n",
              " 'glove-wiki-gigaword-100',\n",
              " 'glove-wiki-gigaword-200',\n",
              " 'glove-wiki-gigaword-300',\n",
              " 'glove-twitter-25',\n",
              " 'glove-twitter-50',\n",
              " 'glove-twitter-100',\n",
              " 'glove-twitter-200',\n",
              " '__testing_word2vec-matrix-synopsis']"
            ]
          },
          "metadata": {},
          "execution_count": 55
        }
      ],
      "source": [
        "list(gensim.downloader.info()['models'].keys())   # Посмотрим что есть в gensim ))"
      ]
    },
    {
      "cell_type": "code",
      "execution_count": 56,
      "metadata": {
        "id": "00xg4SS2aQGQ"
      },
      "outputs": [],
      "source": [
        "from gensim.models import FastText    # Импортируем FastText"
      ]
    },
    {
      "cell_type": "code",
      "execution_count": 57,
      "metadata": {
        "id": "yWcTuMoI1kh-"
      },
      "outputs": [],
      "source": [
        "model_fast_text = FastText(vector_size=256, window=10, min_count=3)    # Создадим модель FastText\n",
        "# size — размер вектора,\n",
        "# window — размер окна наблюдения,\n",
        "# min_count — мин. частотность слова в корпусе,"
      ]
    },
    {
      "cell_type": "code",
      "execution_count": 58,
      "metadata": {
        "id": "ClckPPnp1MEZ"
      },
      "outputs": [],
      "source": [
        "model_fast_text.build_vocab(corpus_iterable = res)   # строительство словаря"
      ]
    },
    {
      "cell_type": "code",
      "execution_count": 59,
      "metadata": {
        "colab": {
          "base_uri": "https://localhost:8080/"
        },
        "id": "z6QNp5RG23GR",
        "outputId": "a37e918d-35fd-453f-b97e-6f8ed1f4dabf"
      },
      "outputs": [
        {
          "output_type": "stream",
          "name": "stdout",
          "text": [
            "CPU times: user 4min 24s, sys: 399 ms, total: 4min 25s\n",
            "Wall time: 2min 40s\n"
          ]
        },
        {
          "output_type": "execute_result",
          "data": {
            "text/plain": [
              "(6687140, 7976600)"
            ]
          },
          "metadata": {},
          "execution_count": 59
        }
      ],
      "source": [
        "#from fasttext.FastText import cbow\n",
        "%%time\n",
        "model_fast_text.train(corpus_iterable =res, total_examples=len(res),epochs=20)\n",
        "# # обучение модели \n",
        "# первый аргумент - наша выборка, генератор будет вкидывать в модель наши тексты, пока они не кончатся\n",
        "# второй аргумент - число примеров в выборке \n",
        "# третий аргумент - количество эпох обучения: сколько раз модель пройдётся по всему корпусу текстов"
      ]
    },
    {
      "cell_type": "code",
      "source": [
        "list(model_fast_text.wv.key_to_index)[:10]    # Посмотрим что в словаре"
      ],
      "metadata": {
        "colab": {
          "base_uri": "https://localhost:8080/"
        },
        "id": "iOkS4q1o8TRu",
        "outputId": "ae786cb7-0c3d-419b-aafe-7dfd6d25b802"
      },
      "execution_count": 60,
      "outputs": [
        {
          "output_type": "execute_result",
          "data": {
            "text/plain": [
              "['NUMBER', 'number', 's', 'url', 'URL', 't', 'list', 'time', 'write', 'people']"
            ]
          },
          "metadata": {},
          "execution_count": 60
        }
      ]
    },
    {
      "cell_type": "code",
      "source": [
        "vocab_fast_text = model_fast_text.wv.key_to_index.keys()    # Это словарь слов в модели"
      ],
      "metadata": {
        "id": "A0XwZvrm57Lg"
      },
      "execution_count": 61,
      "outputs": []
    },
    {
      "cell_type": "code",
      "execution_count": 62,
      "metadata": {
        "id": "7zHKS4JH2D1d",
        "colab": {
          "base_uri": "https://localhost:8080/"
        },
        "outputId": "43d79860-b6fd-4fd8-80aa-22ea8863cbd0"
      },
      "outputs": [
        {
          "output_type": "execute_result",
          "data": {
            "text/plain": [
              "[('sensor', 0.7471818923950195),\n",
              " ('osdn', 0.7280378937721252),\n",
              " ('spoof', 0.7260761857032776),\n",
              " ('censor', 0.7244489192962646),\n",
              " ('geek', 0.7086994051933289)]"
            ]
          },
          "metadata": {},
          "execution_count": 62
        }
      ],
      "source": [
        "# Для проверки ещё попробуем взять слово из 11-го текста. Рядом со словом \"odsn\".\n",
        "model_fast_text.wv.most_similar(positive=['sponsor'], topn=5)"
      ]
    },
    {
      "cell_type": "code",
      "execution_count": 63,
      "metadata": {
        "id": "fgxVNwoCBN2G",
        "colab": {
          "base_uri": "https://localhost:8080/",
          "height": 35
        },
        "outputId": "27f675b2-1994-4149-f4e2-1b47f194d20d"
      },
      "outputs": [
        {
          "output_type": "execute_result",
          "data": {
            "text/plain": [
              "'door'"
            ],
            "application/vnd.google.colaboratory.intrinsic+json": {
              "type": "string"
            }
          },
          "metadata": {},
          "execution_count": 63
        }
      ],
      "source": [
        "# Для проверки посмотрим какое из этих слов не подходит.\n",
        "model_fast_text.wv.doesnt_match(['sponsor', 'thinkgeek', 'door', 'jabber', 'webmake'])"
      ]
    },
    {
      "cell_type": "markdown",
      "source": [
        "Обучим логистической регресии"
      ],
      "metadata": {
        "id": "nf_2i7ug81mq"
      }
    },
    {
      "cell_type": "code",
      "execution_count": 64,
      "metadata": {
        "id": "LDQhg34WhwKQ",
        "colab": {
          "base_uri": "https://localhost:8080/"
        },
        "outputId": "7b1a9548-9c30-4246-96d3-5a2cbf4e29a2"
      },
      "outputs": [
        {
          "output_type": "stream",
          "name": "stdout",
          "text": [
            "data =  ['nan']\n",
            "spam =  1\n"
          ]
        }
      ],
      "source": [
        "X_fast_text = []   # Здесь будет полученный результат\n",
        "Y_fast_text = []\n",
        "i=0\n",
        "for sentence in res:    # Пройдёмся по всем предложеним в наших данных \"res\"\n",
        "  sentence_vectors = []   # Создадим пустой список для векторов слов в предложении\n",
        "  for word in sentence:   # Пройдёмся по всем словам в предложении\n",
        "    if word in vocab_fast_text:   # Если слово присутствует в словаре полученной модели, тогда..\n",
        "      sentence_vectors.append(model_fast_text.wv[word])   # Добавим вектор каждого слова в предложении\n",
        "      \n",
        "  if sentence_vectors:\n",
        "    X_fast_text.append(np.mean(sentence_vectors, axis=0))    # В результат положим вектор предложения, \n",
        "                                                      # полученный как усреднённое значение векторов слов в предложении.\n",
        "    Y_fast_text.append(data.spam[i])\n",
        "  else :\n",
        "    print('data = ',sentence)\n",
        "    print('spam = ', data.spam[i])\n",
        "  i=i+1"
      ]
    },
    {
      "cell_type": "code",
      "execution_count": 65,
      "metadata": {
        "id": "GeuWK9EXhwHC"
      },
      "outputs": [],
      "source": [
        "# Разделим на выборки\n",
        "X_train_fast_text, X_test_fast_text, y_train_fast_text, y_test_fast_text = train_test_split(X_fast_text, Y_fast_text, random_state=2303)"
      ]
    },
    {
      "cell_type": "code",
      "execution_count": 66,
      "metadata": {
        "id": "K3PlsZYEhwEN",
        "colab": {
          "base_uri": "https://localhost:8080/"
        },
        "outputId": "ed36f57d-2fa4-4733-cbd2-f4ad499a71f5"
      },
      "outputs": [
        {
          "output_type": "stream",
          "name": "stdout",
          "text": [
            "              precision    recall  f1-score   support\n",
            "\n",
            "           0       0.99      0.98      0.98       622\n",
            "           1       0.90      0.94      0.92       128\n",
            "\n",
            "    accuracy                           0.97       750\n",
            "   macro avg       0.94      0.96      0.95       750\n",
            "weighted avg       0.97      0.97      0.97       750\n",
            "\n"
          ]
        },
        {
          "output_type": "stream",
          "name": "stderr",
          "text": [
            "/usr/local/lib/python3.10/dist-packages/sklearn/linear_model/_logistic.py:458: ConvergenceWarning: lbfgs failed to converge (status=1):\n",
            "STOP: TOTAL NO. of ITERATIONS REACHED LIMIT.\n",
            "\n",
            "Increase the number of iterations (max_iter) or scale the data as shown in:\n",
            "    https://scikit-learn.org/stable/modules/preprocessing.html\n",
            "Please also refer to the documentation for alternative solver options:\n",
            "    https://scikit-learn.org/stable/modules/linear_model.html#logistic-regression\n",
            "  n_iter_i = _check_optimize_result(\n"
          ]
        }
      ],
      "source": [
        "log_reg_model_fast_text = LogisticRegression()    # Создадим модель логистической регрессии\n",
        "log_reg_model_fast_text.fit(X_train_fast_text, y_train_fast_text)   # Обучим модель\n",
        "pred_fast_text = log_reg_model_fast_text.predict(X_test_fast_text)    # Посмотрим результат\n",
        "print(classification_report(y_test_fast_text, pred_fast_text))"
      ]
    },
    {
      "cell_type": "code",
      "execution_count": 67,
      "metadata": {
        "id": "_yHb2P9ghwAh",
        "colab": {
          "base_uri": "https://localhost:8080/",
          "height": 449
        },
        "outputId": "0a2f3d97-1f26-4f50-c036-c5bcc54db271"
      },
      "outputs": [
        {
          "output_type": "display_data",
          "data": {
            "text/plain": [
              "<Figure size 640x480 with 2 Axes>"
            ],
            "image/png": "[encoded data removed]"
          },
          "metadata": {}
        }
      ],
      "source": [
        "visual_fast_text = confusion_matrix(y_test_fast_text, pred_fast_text)\n",
        "sns.heatmap(visual_fast_text.T, square=True, annot=True, fmt=\"d\")\n",
        "plt.xlabel('Правильные значения \"spam\"')\n",
        "plt.ylabel('Предсказанные значения \"spam\"')\n",
        "plt.show()"
      ]
    },
    {
      "cell_type": "markdown",
      "source": [
        "В случае с FastText получили  точность 0.97. Видно, что были опеределены ошибочно 9 как не \"spam\", а 12 как \"spam\"."
      ],
      "metadata": {
        "id": "vnmywQ1XMVMX"
      }
    }
  ],
  "metadata": {
    "colab": {
      "provenance": []
    },
    "gpuClass": "standard",
    "kernelspec": {
      "display_name": "Python 3",
      "language": "python",
      "name": "python3"
    },
    "language_info": {
      "codemirror_mode": {
        "name": "ipython",
        "version": 3
      },
      "file_extension": ".py",
      "mimetype": "text/x-python",
      "name": "python",
      "nbconvert_exporter": "python",
      "pygments_lexer": "ipython3",
      "version": "3.10.7"
    }
  },
  "nbformat": 4,
  "nbformat_minor": 0
}