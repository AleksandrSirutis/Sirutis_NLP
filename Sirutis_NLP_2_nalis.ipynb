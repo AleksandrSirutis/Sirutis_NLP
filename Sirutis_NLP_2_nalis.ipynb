{
  "cells": [
    {
      "cell_type": "code",
      "execution_count": null,
      "metadata": {
        "colab": {
          "base_uri": "https://localhost:8080/",
          "height": 73
        },
        "id": "oTmeUNHUygzW",
        "outputId": "ce8db206-0e76-4b0a-c066-1e3835bb4532"
      },
      "outputs": [
        {
          "output_type": "display_data",
          "data": {
            "text/plain": [
              "<IPython.core.display.HTML object>"
            ],
            "text/html": [
              "\n",
              "     <input type=\"file\" id=\"files-5359deab-f79c-448e-987e-bc1f8539ed9e\" name=\"files[]\" multiple disabled\n",
              "        style=\"border:none\" />\n",
              "     <output id=\"result-5359deab-f79c-448e-987e-bc1f8539ed9e\">\n",
              "      Upload widget is only available when the cell has been executed in the\n",
              "      current browser session. Please rerun this cell to enable.\n",
              "      </output>\n",
              "      <script>// Copyright 2017 Google LLC\n",
              "//\n",
              "// Licensed under the Apache License, Version 2.0 (the \"License\");\n",
              "// you may not use this file except in compliance with the License.\n",
              "// You may obtain a copy of the License at\n",
              "//\n",
              "//      http://www.apache.org/licenses/LICENSE-2.0\n",
              "//\n",
              "// Unless required by applicable law or agreed to in writing, software\n",
              "// distributed under the License is distributed on an \"AS IS\" BASIS,\n",
              "// WITHOUT WARRANTIES OR CONDITIONS OF ANY KIND, either express or implied.\n",
              "// See the License for the specific language governing permissions and\n",
              "// limitations under the License.\n",
              "\n",
              "/**\n",
              " * @fileoverview Helpers for google.colab Python module.\n",
              " */\n",
              "(function(scope) {\n",
              "function span(text, styleAttributes = {}) {\n",
              "  const element = document.createElement('span');\n",
              "  element.textContent = text;\n",
              "  for (const key of Object.keys(styleAttributes)) {\n",
              "    element.style[key] = styleAttributes[key];\n",
              "  }\n",
              "  return element;\n",
              "}\n",
              "\n",
              "// Max number of bytes which will be uploaded at a time.\n",
              "const MAX_PAYLOAD_SIZE = 100 * 1024;\n",
              "\n",
              "function _uploadFiles(inputId, outputId) {\n",
              "  const steps = uploadFilesStep(inputId, outputId);\n",
              "  const outputElement = document.getElementById(outputId);\n",
              "  // Cache steps on the outputElement to make it available for the next call\n",
              "  // to uploadFilesContinue from Python.\n",
              "  outputElement.steps = steps;\n",
              "\n",
              "  return _uploadFilesContinue(outputId);\n",
              "}\n",
              "\n",
              "// This is roughly an async generator (not supported in the browser yet),\n",
              "// where there are multiple asynchronous steps and the Python side is going\n",
              "// to poll for completion of each step.\n",
              "// This uses a Promise to block the python side on completion of each step,\n",
              "// then passes the result of the previous step as the input to the next step.\n",
              "function _uploadFilesContinue(outputId) {\n",
              "  const outputElement = document.getElementById(outputId);\n",
              "  const steps = outputElement.steps;\n",
              "\n",
              "  const next = steps.next(outputElement.lastPromiseValue);\n",
              "  return Promise.resolve(next.value.promise).then((value) => {\n",
              "    // Cache the last promise value to make it available to the next\n",
              "    // step of the generator.\n",
              "    outputElement.lastPromiseValue = value;\n",
              "    return next.value.response;\n",
              "  });\n",
              "}\n",
              "\n",
              "/**\n",
              " * Generator function which is called between each async step of the upload\n",
              " * process.\n",
              " * @param {string} inputId Element ID of the input file picker element.\n",
              " * @param {string} outputId Element ID of the output display.\n",
              " * @return {!Iterable<!Object>} Iterable of next steps.\n",
              " */\n",
              "function* uploadFilesStep(inputId, outputId) {\n",
              "  const inputElement = document.getElementById(inputId);\n",
              "  inputElement.disabled = false;\n",
              "\n",
              "  const outputElement = document.getElementById(outputId);\n",
              "  outputElement.innerHTML = '';\n",
              "\n",
              "  const pickedPromise = new Promise((resolve) => {\n",
              "    inputElement.addEventListener('change', (e) => {\n",
              "      resolve(e.target.files);\n",
              "    });\n",
              "  });\n",
              "\n",
              "  const cancel = document.createElement('button');\n",
              "  inputElement.parentElement.appendChild(cancel);\n",
              "  cancel.textContent = 'Cancel upload';\n",
              "  const cancelPromise = new Promise((resolve) => {\n",
              "    cancel.onclick = () => {\n",
              "      resolve(null);\n",
              "    };\n",
              "  });\n",
              "\n",
              "  // Wait for the user to pick the files.\n",
              "  const files = yield {\n",
              "    promise: Promise.race([pickedPromise, cancelPromise]),\n",
              "    response: {\n",
              "      action: 'starting',\n",
              "    }\n",
              "  };\n",
              "\n",
              "  cancel.remove();\n",
              "\n",
              "  // Disable the input element since further picks are not allowed.\n",
              "  inputElement.disabled = true;\n",
              "\n",
              "  if (!files) {\n",
              "    return {\n",
              "      response: {\n",
              "        action: 'complete',\n",
              "      }\n",
              "    };\n",
              "  }\n",
              "\n",
              "  for (const file of files) {\n",
              "    const li = document.createElement('li');\n",
              "    li.append(span(file.name, {fontWeight: 'bold'}));\n",
              "    li.append(span(\n",
              "        `(${file.type || 'n/a'}) - ${file.size} bytes, ` +\n",
              "        `last modified: ${\n",
              "            file.lastModifiedDate ? file.lastModifiedDate.toLocaleDateString() :\n",
              "                                    'n/a'} - `));\n",
              "    const percent = span('0% done');\n",
              "    li.appendChild(percent);\n",
              "\n",
              "    outputElement.appendChild(li);\n",
              "\n",
              "    const fileDataPromise = new Promise((resolve) => {\n",
              "      const reader = new FileReader();\n",
              "      reader.onload = (e) => {\n",
              "        resolve(e.target.result);\n",
              "      };\n",
              "      reader.readAsArrayBuffer(file);\n",
              "    });\n",
              "    // Wait for the data to be ready.\n",
              "    let fileData = yield {\n",
              "      promise: fileDataPromise,\n",
              "      response: {\n",
              "        action: 'continue',\n",
              "      }\n",
              "    };\n",
              "\n",
              "    // Use a chunked sending to avoid message size limits. See b/62115660.\n",
              "    let position = 0;\n",
              "    do {\n",
              "      const length = Math.min(fileData.byteLength - position, MAX_PAYLOAD_SIZE);\n",
              "      const chunk = new Uint8Array(fileData, position, length);\n",
              "      position += length;\n",
              "\n",
              "      const base64 = btoa(String.fromCharCode.apply(null, chunk));\n",
              "      yield {\n",
              "        response: {\n",
              "          action: 'append',\n",
              "          file: file.name,\n",
              "          data: base64,\n",
              "        },\n",
              "      };\n",
              "\n",
              "      let percentDone = fileData.byteLength === 0 ?\n",
              "          100 :\n",
              "          Math.round((position / fileData.byteLength) * 100);\n",
              "      percent.textContent = `${percentDone}% done`;\n",
              "\n",
              "    } while (position < fileData.byteLength);\n",
              "  }\n",
              "\n",
              "  // All done.\n",
              "  yield {\n",
              "    response: {\n",
              "      action: 'complete',\n",
              "    }\n",
              "  };\n",
              "}\n",
              "\n",
              "scope.google = scope.google || {};\n",
              "scope.google.colab = scope.google.colab || {};\n",
              "scope.google.colab._files = {\n",
              "  _uploadFiles,\n",
              "  _uploadFilesContinue,\n",
              "};\n",
              "})(self);\n",
              "</script> "
            ]
          },
          "metadata": {}
        },
        {
          "output_type": "stream",
          "name": "stdout",
          "text": [
            "Saving spam_or_not_spam.csv to spam_or_not_spam.csv\n"
          ]
        }
      ],
      "source": [
        "from google.colab import files\n",
        "uploaded = files.upload()"
      ]
    },
    {
      "cell_type": "code",
      "execution_count": null,
      "metadata": {
        "id": "ircFHLsLwBya"
      },
      "outputs": [],
      "source": [
        "import pandas as pd         # Подключим библиотеку \"панд\"\n",
        "#import numpy as np"
      ]
    },
    {
      "cell_type": "code",
      "execution_count": null,
      "metadata": {
        "colab": {
          "base_uri": "https://localhost:8080/",
          "height": 206
        },
        "id": "W63vqPXswByk",
        "outputId": "1629c816-c0ce-456d-a4f2-0f173ce6ec74"
      },
      "outputs": [
        {
          "output_type": "execute_result",
          "data": {
            "text/plain": [
              "                                               email  label\n",
              "0   date wed NUMBER aug NUMBER NUMBER NUMBER NUMB...      0\n",
              "1  martin a posted tassos papadopoulos the greek ...      0\n",
              "2  man threatens explosion in moscow thursday aug...      0\n",
              "3  klez the virus that won t die already the most...      0\n",
              "4   in adding cream to spaghetti carbonara which ...      0"
            ],
            "text/html": [
              "\n",
              "  <div id=\"df-92f44d3e-ed19-491d-9aef-a527c47e3967\">\n",
              "    <div class=\"colab-df-container\">\n",
              "      <div>\n",
              "<style scoped>\n",
              "    .dataframe tbody tr th:only-of-type {\n",
              "        vertical-align: middle;\n",
              "    }\n",
              "\n",
              "    .dataframe tbody tr th {\n",
              "        vertical-align: top;\n",
              "    }\n",
              "\n",
              "    .dataframe thead th {\n",
              "        text-align: right;\n",
              "    }\n",
              "</style>\n",
              "<table border=\"1\" class=\"dataframe\">\n",
              "  <thead>\n",
              "    <tr style=\"text-align: right;\">\n",
              "      <th></th>\n",
              "      <th>email</th>\n",
              "      <th>label</th>\n",
              "    </tr>\n",
              "  </thead>\n",
              "  <tbody>\n",
              "    <tr>\n",
              "      <th>0</th>\n",
              "      <td>date wed NUMBER aug NUMBER NUMBER NUMBER NUMB...</td>\n",
              "      <td>0</td>\n",
              "    </tr>\n",
              "    <tr>\n",
              "      <th>1</th>\n",
              "      <td>martin a posted tassos papadopoulos the greek ...</td>\n",
              "      <td>0</td>\n",
              "    </tr>\n",
              "    <tr>\n",
              "      <th>2</th>\n",
              "      <td>man threatens explosion in moscow thursday aug...</td>\n",
              "      <td>0</td>\n",
              "    </tr>\n",
              "    <tr>\n",
              "      <th>3</th>\n",
              "      <td>klez the virus that won t die already the most...</td>\n",
              "      <td>0</td>\n",
              "    </tr>\n",
              "    <tr>\n",
              "      <th>4</th>\n",
              "      <td>in adding cream to spaghetti carbonara which ...</td>\n",
              "      <td>0</td>\n",
              "    </tr>\n",
              "  </tbody>\n",
              "</table>\n",
              "</div>\n",
              "      <button class=\"colab-df-convert\" onclick=\"convertToInteractive('df-92f44d3e-ed19-491d-9aef-a527c47e3967')\"\n",
              "              title=\"Convert this dataframe to an interactive table.\"\n",
              "              style=\"display:none;\">\n",
              "        \n",
              "  <svg xmlns=\"http://www.w3.org/2000/svg\" height=\"24px\"viewBox=\"0 0 24 24\"\n",
              "       width=\"24px\">\n",
              "    <path d=\"M0 0h24v24H0V0z\" fill=\"none\"/>\n",
              "    <path d=\"M18.56 5.44l.94 2.06.94-2.06 2.06-.94-2.06-.94-.94-2.06-.94 2.06-2.06.94zm-11 1L8.5 8.5l.94-2.06 2.06-.94-2.06-.94L8.5 2.5l-.94 2.06-2.06.94zm10 10l.94 2.06.94-2.06 2.06-.94-2.06-.94-.94-2.06-.94 2.06-2.06.94z\"/><path d=\"M17.41 7.96l-1.37-1.37c-.4-.4-.92-.59-1.43-.59-.52 0-1.04.2-1.43.59L10.3 9.45l-7.72 7.72c-.78.78-.78 2.05 0 2.83L4 21.41c.39.39.9.59 1.41.59.51 0 1.02-.2 1.41-.59l7.78-7.78 2.81-2.81c.8-.78.8-2.07 0-2.86zM5.41 20L4 18.59l7.72-7.72 1.47 1.35L5.41 20z\"/>\n",
              "  </svg>\n",
              "      </button>\n",
              "      \n",
              "  <style>\n",
              "    .colab-df-container {\n",
              "      display:flex;\n",
              "      flex-wrap:wrap;\n",
              "      gap: 12px;\n",
              "    }\n",
              "\n",
              "    .colab-df-convert {\n",
              "      background-color: #E8F0FE;\n",
              "      border: none;\n",
              "      border-radius: 50%;\n",
              "      cursor: pointer;\n",
              "      display: none;\n",
              "      fill: #1967D2;\n",
              "      height: 32px;\n",
              "      padding: 0 0 0 0;\n",
              "      width: 32px;\n",
              "    }\n",
              "\n",
              "    .colab-df-convert:hover {\n",
              "      background-color: #E2EBFA;\n",
              "      box-shadow: 0px 1px 2px rgba(60, 64, 67, 0.3), 0px 1px 3px 1px rgba(60, 64, 67, 0.15);\n",
              "      fill: #174EA6;\n",
              "    }\n",
              "\n",
              "    [theme=dark] .colab-df-convert {\n",
              "      background-color: #3B4455;\n",
              "      fill: #D2E3FC;\n",
              "    }\n",
              "\n",
              "    [theme=dark] .colab-df-convert:hover {\n",
              "      background-color: #434B5C;\n",
              "      box-shadow: 0px 1px 3px 1px rgba(0, 0, 0, 0.15);\n",
              "      filter: drop-shadow(0px 1px 2px rgba(0, 0, 0, 0.3));\n",
              "      fill: #FFFFFF;\n",
              "    }\n",
              "  </style>\n",
              "\n",
              "      <script>\n",
              "        const buttonEl =\n",
              "          document.querySelector('#df-92f44d3e-ed19-491d-9aef-a527c47e3967 button.colab-df-convert');\n",
              "        buttonEl.style.display =\n",
              "          google.colab.kernel.accessAllowed ? 'block' : 'none';\n",
              "\n",
              "        async function convertToInteractive(key) {\n",
              "          const element = document.querySelector('#df-92f44d3e-ed19-491d-9aef-a527c47e3967');\n",
              "          const dataTable =\n",
              "            await google.colab.kernel.invokeFunction('convertToInteractive',\n",
              "                                                     [key], {});\n",
              "          if (!dataTable) return;\n",
              "\n",
              "          const docLinkHtml = 'Like what you see? Visit the ' +\n",
              "            '<a target=\"_blank\" href=https://colab.research.google.com/notebooks/data_table.ipynb>data table notebook</a>'\n",
              "            + ' to learn more about interactive tables.';\n",
              "          element.innerHTML = '';\n",
              "          dataTable['output_type'] = 'display_data';\n",
              "          await google.colab.output.renderOutput(dataTable, element);\n",
              "          const docLink = document.createElement('div');\n",
              "          docLink.innerHTML = docLinkHtml;\n",
              "          element.appendChild(docLink);\n",
              "        }\n",
              "      </script>\n",
              "    </div>\n",
              "  </div>\n",
              "  "
            ]
          },
          "metadata": {},
          "execution_count": 3
        }
      ],
      "source": [
        "data = pd.read_csv('spam_or_not_spam.csv', encoding='iso-8859-1')   # Загрузим в data библиотеку \"спам или не спам\", \n",
        "                                                                    # котороя скачена и лежит в папке где и проект.\n",
        "data.head()         # Посмотрим примерно, что она из себя представляет."
      ]
    },
    {
      "cell_type": "code",
      "execution_count": null,
      "metadata": {
        "id": "-XPwvW9PyecJ"
      },
      "outputs": [],
      "source": []
    },
    {
      "cell_type": "code",
      "execution_count": null,
      "metadata": {
        "colab": {
          "base_uri": "https://localhost:8080/"
        },
        "id": "vZyWytiDwByo",
        "outputId": "9fa36e99-b494-48ab-ed75-cbe1228be54a"
      },
      "outputs": [
        {
          "output_type": "execute_result",
          "data": {
            "text/plain": [
              "(3000, 2)"
            ]
          },
          "metadata": {},
          "execution_count": 4
        }
      ],
      "source": [
        "data.shape             # Посмотрим размер."
      ]
    },
    {
      "cell_type": "code",
      "execution_count": null,
      "metadata": {
        "colab": {
          "base_uri": "https://localhost:8080/"
        },
        "id": "pGApUgRQwByq",
        "outputId": "422b6d4a-4202-4b07-aef7-b73ec763a8a6"
      },
      "outputs": [
        {
          "output_type": "execute_result",
          "data": {
            "text/plain": [
              "RangeIndex(start=0, stop=3000, step=1)"
            ]
          },
          "metadata": {},
          "execution_count": 5
        }
      ],
      "source": [
        "data.index.unique()     # Посмотрим правильность индексов."
      ]
    },
    {
      "cell_type": "code",
      "execution_count": null,
      "metadata": {
        "colab": {
          "base_uri": "https://localhost:8080/"
        },
        "id": "4NdBsJWhwByt",
        "outputId": "7c0919de-3e5f-4f9f-905e-435fa66d9101"
      },
      "outputs": [
        {
          "output_type": "execute_result",
          "data": {
            "text/plain": [
              "Index(['email', 'label'], dtype='object')"
            ]
          },
          "metadata": {},
          "execution_count": 6
        }
      ],
      "source": [
        "data.columns  # Посмотрим значения столбцов"
      ]
    },
    {
      "cell_type": "code",
      "execution_count": null,
      "metadata": {
        "colab": {
          "base_uri": "https://localhost:8080/",
          "height": 206
        },
        "id": "CFYgy7cBwByx",
        "outputId": "a914bf68-b0d1-4f62-e598-cec963b9535b"
      },
      "outputs": [
        {
          "output_type": "execute_result",
          "data": {
            "text/plain": [
              "                                                text  label \"spam\"\n",
              "0   date wed NUMBER aug NUMBER NUMBER NUMBER NUMB...             0\n",
              "1  martin a posted tassos papadopoulos the greek ...             0\n",
              "2  man threatens explosion in moscow thursday aug...             0\n",
              "3  klez the virus that won t die already the most...             0\n",
              "4   in adding cream to spaghetti carbonara which ...             0"
            ],
            "text/html": [
              "\n",
              "  <div id=\"df-55e3824e-e7ed-49a5-900b-3e7444fc4e91\">\n",
              "    <div class=\"colab-df-container\">\n",
              "      <div>\n",
              "<style scoped>\n",
              "    .dataframe tbody tr th:only-of-type {\n",
              "        vertical-align: middle;\n",
              "    }\n",
              "\n",
              "    .dataframe tbody tr th {\n",
              "        vertical-align: top;\n",
              "    }\n",
              "\n",
              "    .dataframe thead th {\n",
              "        text-align: right;\n",
              "    }\n",
              "</style>\n",
              "<table border=\"1\" class=\"dataframe\">\n",
              "  <thead>\n",
              "    <tr style=\"text-align: right;\">\n",
              "      <th></th>\n",
              "      <th>text</th>\n",
              "      <th>label \"spam\"</th>\n",
              "    </tr>\n",
              "  </thead>\n",
              "  <tbody>\n",
              "    <tr>\n",
              "      <th>0</th>\n",
              "      <td>date wed NUMBER aug NUMBER NUMBER NUMBER NUMB...</td>\n",
              "      <td>0</td>\n",
              "    </tr>\n",
              "    <tr>\n",
              "      <th>1</th>\n",
              "      <td>martin a posted tassos papadopoulos the greek ...</td>\n",
              "      <td>0</td>\n",
              "    </tr>\n",
              "    <tr>\n",
              "      <th>2</th>\n",
              "      <td>man threatens explosion in moscow thursday aug...</td>\n",
              "      <td>0</td>\n",
              "    </tr>\n",
              "    <tr>\n",
              "      <th>3</th>\n",
              "      <td>klez the virus that won t die already the most...</td>\n",
              "      <td>0</td>\n",
              "    </tr>\n",
              "    <tr>\n",
              "      <th>4</th>\n",
              "      <td>in adding cream to spaghetti carbonara which ...</td>\n",
              "      <td>0</td>\n",
              "    </tr>\n",
              "  </tbody>\n",
              "</table>\n",
              "</div>\n",
              "      <button class=\"colab-df-convert\" onclick=\"convertToInteractive('df-55e3824e-e7ed-49a5-900b-3e7444fc4e91')\"\n",
              "              title=\"Convert this dataframe to an interactive table.\"\n",
              "              style=\"display:none;\">\n",
              "        \n",
              "  <svg xmlns=\"http://www.w3.org/2000/svg\" height=\"24px\"viewBox=\"0 0 24 24\"\n",
              "       width=\"24px\">\n",
              "    <path d=\"M0 0h24v24H0V0z\" fill=\"none\"/>\n",
              "    <path d=\"M18.56 5.44l.94 2.06.94-2.06 2.06-.94-2.06-.94-.94-2.06-.94 2.06-2.06.94zm-11 1L8.5 8.5l.94-2.06 2.06-.94-2.06-.94L8.5 2.5l-.94 2.06-2.06.94zm10 10l.94 2.06.94-2.06 2.06-.94-2.06-.94-.94-2.06-.94 2.06-2.06.94z\"/><path d=\"M17.41 7.96l-1.37-1.37c-.4-.4-.92-.59-1.43-.59-.52 0-1.04.2-1.43.59L10.3 9.45l-7.72 7.72c-.78.78-.78 2.05 0 2.83L4 21.41c.39.39.9.59 1.41.59.51 0 1.02-.2 1.41-.59l7.78-7.78 2.81-2.81c.8-.78.8-2.07 0-2.86zM5.41 20L4 18.59l7.72-7.72 1.47 1.35L5.41 20z\"/>\n",
              "  </svg>\n",
              "      </button>\n",
              "      \n",
              "  <style>\n",
              "    .colab-df-container {\n",
              "      display:flex;\n",
              "      flex-wrap:wrap;\n",
              "      gap: 12px;\n",
              "    }\n",
              "\n",
              "    .colab-df-convert {\n",
              "      background-color: #E8F0FE;\n",
              "      border: none;\n",
              "      border-radius: 50%;\n",
              "      cursor: pointer;\n",
              "      display: none;\n",
              "      fill: #1967D2;\n",
              "      height: 32px;\n",
              "      padding: 0 0 0 0;\n",
              "      width: 32px;\n",
              "    }\n",
              "\n",
              "    .colab-df-convert:hover {\n",
              "      background-color: #E2EBFA;\n",
              "      box-shadow: 0px 1px 2px rgba(60, 64, 67, 0.3), 0px 1px 3px 1px rgba(60, 64, 67, 0.15);\n",
              "      fill: #174EA6;\n",
              "    }\n",
              "\n",
              "    [theme=dark] .colab-df-convert {\n",
              "      background-color: #3B4455;\n",
              "      fill: #D2E3FC;\n",
              "    }\n",
              "\n",
              "    [theme=dark] .colab-df-convert:hover {\n",
              "      background-color: #434B5C;\n",
              "      box-shadow: 0px 1px 3px 1px rgba(0, 0, 0, 0.15);\n",
              "      filter: drop-shadow(0px 1px 2px rgba(0, 0, 0, 0.3));\n",
              "      fill: #FFFFFF;\n",
              "    }\n",
              "  </style>\n",
              "\n",
              "      <script>\n",
              "        const buttonEl =\n",
              "          document.querySelector('#df-55e3824e-e7ed-49a5-900b-3e7444fc4e91 button.colab-df-convert');\n",
              "        buttonEl.style.display =\n",
              "          google.colab.kernel.accessAllowed ? 'block' : 'none';\n",
              "\n",
              "        async function convertToInteractive(key) {\n",
              "          const element = document.querySelector('#df-55e3824e-e7ed-49a5-900b-3e7444fc4e91');\n",
              "          const dataTable =\n",
              "            await google.colab.kernel.invokeFunction('convertToInteractive',\n",
              "                                                     [key], {});\n",
              "          if (!dataTable) return;\n",
              "\n",
              "          const docLinkHtml = 'Like what you see? Visit the ' +\n",
              "            '<a target=\"_blank\" href=https://colab.research.google.com/notebooks/data_table.ipynb>data table notebook</a>'\n",
              "            + ' to learn more about interactive tables.';\n",
              "          element.innerHTML = '';\n",
              "          dataTable['output_type'] = 'display_data';\n",
              "          await google.colab.output.renderOutput(dataTable, element);\n",
              "          const docLink = document.createElement('div');\n",
              "          docLink.innerHTML = docLinkHtml;\n",
              "          element.appendChild(docLink);\n",
              "        }\n",
              "      </script>\n",
              "    </div>\n",
              "  </div>\n",
              "  "
            ]
          },
          "metadata": {},
          "execution_count": 7
        }
      ],
      "source": [
        "# Переименуем стобцы.\n",
        "data = data[['email','label']].rename(columns={'email':'text', 'label' :'label \"spam\"'})\n",
        "data.head()"
      ]
    },
    {
      "cell_type": "code",
      "execution_count": null,
      "metadata": {
        "colab": {
          "base_uri": "https://localhost:8080/"
        },
        "id": "OkCQ5sgvwByz",
        "outputId": "fdd721cf-8109-429f-8714-cbd7fb5b68f4"
      },
      "outputs": [
        {
          "output_type": "execute_result",
          "data": {
            "text/plain": [
              "label \"spam\"\n",
              "0    2500\n",
              "1     500\n",
              "dtype: int64"
            ]
          },
          "metadata": {},
          "execution_count": 8
        }
      ],
      "source": [
        "data.value_counts('label \"spam\"')       # Посмотрим распределение значений \"Спама\""
      ]
    },
    {
      "cell_type": "markdown",
      "metadata": {
        "id": "L8bfQJZmwBy0"
      },
      "source": [
        "Стоп-слова для англиского языка в spaCy"
      ]
    },
    {
      "cell_type": "code",
      "execution_count": null,
      "metadata": {
        "id": "34mHuxdwwBy5"
      },
      "outputs": [],
      "source": [
        "import spacy    # Импортируем библиотеку"
      ]
    },
    {
      "cell_type": "code",
      "execution_count": null,
      "metadata": {
        "id": "JX_XwkoDwBy7"
      },
      "outputs": [],
      "source": [
        "pd.set_option('max_colwidth', 400)"
      ]
    },
    {
      "cell_type": "code",
      "execution_count": null,
      "metadata": {
        "id": "fniVvx5ywBzA"
      },
      "outputs": [],
      "source": [
        "#!python -m spacy download en_core_web_sm"
      ]
    },
    {
      "cell_type": "code",
      "execution_count": null,
      "metadata": {
        "colab": {
          "base_uri": "https://localhost:8080/",
          "height": 165
        },
        "id": "BuSFBZzQwBzB",
        "outputId": "71afb0d7-677b-4b3f-9bf3-413440f6c14e"
      },
      "outputs": [
        {
          "output_type": "stream",
          "name": "stdout",
          "text": [
            "Spacy english stopwords size (web_sm): 326\n",
            "\n"
          ]
        },
        {
          "output_type": "execute_result",
          "data": {
            "text/plain": [
              "\"is regarding as whose always eleven go once several yourself further therein one fifty quite although nevertheless became seem hundred amongst made this over where used forty others hereupon own nine he wherever ‘ve upon yourselves would myself seeming does due than thereupon cannot because had whoever same hereafter 're top toward himself two at both she back just done 've do latterly hereby put everywhere last while are throughout off there via about but his above really such no other ours only behind along into say with again whither becomes take that becoming ‘m else already our none up twenty side six if ten ’d another can some ever us seemed within my them least will him serious whole whereby have whether whom when third these so has get meanwhile nobody to alone before twelve must otherwise were am first therefore fifteen unless ’m noone how after a you everything bottom their sixty your four between under amount formerly see below 's 'm never thereafter somewhere each mostly three all sometimes enough make latter by please beforehand for until and towards did against empty also anything nowhere or ‘d ‘re ’s around become too we an various across except from anyone next besides it most ca out why more show perhaps ’ll during give using any name elsewhere whereas without then was could part ’ve beside thereby anyway thru on sometime keep 'd anyhow ’re afterwards not which beyond five everyone nor themselves still n't me someone now ‘s being her yours itself whenever 'll among doing even together namely be may few yet ‘ll well indeed front in herein many its n‘t mine who through often those here former re the either whence nothing less what seems wherein neither onto eight move been whatever herself call down though anywhere hence ourselves much very something they thence however hers since might n’t somehow full moreover rather i per every thus whereupon of should almost whereafter\""
            ],
            "application/vnd.google.colaboratory.intrinsic+json": {
              "type": "string"
            }
          },
          "metadata": {},
          "execution_count": 12
        }
      ],
      "source": [
        "nlp_sm = spacy.load(\"en_core_web_sm\")\n",
        "stopwords_sm = nlp_sm.Defaults.stop_words\n",
        "print(f'Spacy english stopwords size (web_sm): {len(stopwords_sm)}', end='\\n\\n')\n",
        "' '.join(stopwords_sm)"
      ]
    },
    {
      "cell_type": "code",
      "execution_count": null,
      "metadata": {
        "id": "EW2X2HYI0czi"
      },
      "outputs": [],
      "source": [
        "import pandas as pd\n",
        "import numpy as np\n",
        "import re\n",
        "import string\n",
        "import spacy\n",
        "from sklearn.model_selection import train_test_split\n",
        "import matplotlib.pyplot as plt"
      ]
    },
    {
      "cell_type": "code",
      "execution_count": null,
      "metadata": {
        "id": "MdjBeTP7wBzD"
      },
      "outputs": [],
      "source": [
        "#!python3 -m spacy download en_core_web_md"
      ]
    },
    {
      "cell_type": "markdown",
      "metadata": {
        "id": "-ua1xhQWwBzF"
      },
      "source": [
        "Как мы видим, количество стоп-слов в en_core_web_sm и en_core_web_md одинаковое."
      ]
    },
    {
      "cell_type": "code",
      "execution_count": null,
      "metadata": {
        "id": "LGeFDf5cwBzG"
      },
      "outputs": [],
      "source": [
        "#pd.set_option('max_colwidth', 400)"
      ]
    },
    {
      "cell_type": "code",
      "execution_count": null,
      "metadata": {
        "id": "NvFskz6XwBzH",
        "colab": {
          "base_uri": "https://localhost:8080/",
          "height": 406
        },
        "outputId": "1975ff5e-d80c-46aa-9f2f-d97229b66cd1"
      },
      "outputs": [
        {
          "output_type": "execute_result",
          "data": {
            "text/plain": [
              "                                                                                                                                                                                                                                                                                                                                                                                                              text  \\\n",
              "0   date wed NUMBER aug NUMBER NUMBER NUMBER NUMBER NUMBER from chris garrigues cwg dated NUMBER NUMBERfaNUMBERd deepeddy com message id NUMBER NUMBER tmda deepeddy vircio com i can t reproduce this error for me it is very repeatable like every time without fail this is the debug log of the pick happening NUMBER NUMBER NUMBER pick_it exec pick inbox list lbrace lbrace subject ftp rbrace rbrace NU...   \n",
              "1  martin a posted tassos papadopoulos the greek sculptor behind the plan judged that the limestone of mount kerdylio NUMBER miles east of salonika and not far from the mount athos monastic community was ideal for the patriotic sculpture as well as alexander s granite features NUMBER ft high and NUMBER ft wide a museum a restored amphitheatre and car park for admiring crowds are planned so is thi...   \n",
              "2  man threatens explosion in moscow thursday august NUMBER NUMBER NUMBER NUMBER pm moscow ap security officers on thursday seized an unidentified man who said he was armed with explosives and threatened to blow up his truck in front of russia s federal security services headquarters in moscow ntv television reported the officers seized an automatic rifle the man was carrying then the man got out...   \n",
              "3  klez the virus that won t die already the most prolific virus ever klez continues to wreak havoc andrew brandt from the september NUMBER issue of pc world magazine posted thursday august NUMBER NUMBER the klez worm is approaching its seventh month of wriggling across the web making it one of the most persistent viruses ever and experts warn that it may be a harbinger of new viruses that use a ...   \n",
              "4   in adding cream to spaghetti carbonara which has the same effect on pasta as making a pizza a deep pie i just had to jump in here as carbonara is one of my favourites to make and ask what the hell are you supposed to use instead of cream i ve never seen a recipe that hasn t used this personally i use low fat creme fraiche because it works quite nicely but the only time i ve seen an supposedly...   \n",
              "\n",
              "   label \"spam\"  \n",
              "0             0  \n",
              "1             0  \n",
              "2             0  \n",
              "3             0  \n",
              "4             0  "
            ],
            "text/html": [
              "\n",
              "  <div id=\"df-32f0e3d1-4809-42bb-858e-af75daedfa26\">\n",
              "    <div class=\"colab-df-container\">\n",
              "      <div>\n",
              "<style scoped>\n",
              "    .dataframe tbody tr th:only-of-type {\n",
              "        vertical-align: middle;\n",
              "    }\n",
              "\n",
              "    .dataframe tbody tr th {\n",
              "        vertical-align: top;\n",
              "    }\n",
              "\n",
              "    .dataframe thead th {\n",
              "        text-align: right;\n",
              "    }\n",
              "</style>\n",
              "<table border=\"1\" class=\"dataframe\">\n",
              "  <thead>\n",
              "    <tr style=\"text-align: right;\">\n",
              "      <th></th>\n",
              "      <th>text</th>\n",
              "      <th>label \"spam\"</th>\n",
              "    </tr>\n",
              "  </thead>\n",
              "  <tbody>\n",
              "    <tr>\n",
              "      <th>0</th>\n",
              "      <td>date wed NUMBER aug NUMBER NUMBER NUMBER NUMBER NUMBER from chris garrigues cwg dated NUMBER NUMBERfaNUMBERd deepeddy com message id NUMBER NUMBER tmda deepeddy vircio com i can t reproduce this error for me it is very repeatable like every time without fail this is the debug log of the pick happening NUMBER NUMBER NUMBER pick_it exec pick inbox list lbrace lbrace subject ftp rbrace rbrace NU...</td>\n",
              "      <td>0</td>\n",
              "    </tr>\n",
              "    <tr>\n",
              "      <th>1</th>\n",
              "      <td>martin a posted tassos papadopoulos the greek sculptor behind the plan judged that the limestone of mount kerdylio NUMBER miles east of salonika and not far from the mount athos monastic community was ideal for the patriotic sculpture as well as alexander s granite features NUMBER ft high and NUMBER ft wide a museum a restored amphitheatre and car park for admiring crowds are planned so is thi...</td>\n",
              "      <td>0</td>\n",
              "    </tr>\n",
              "    <tr>\n",
              "      <th>2</th>\n",
              "      <td>man threatens explosion in moscow thursday august NUMBER NUMBER NUMBER NUMBER pm moscow ap security officers on thursday seized an unidentified man who said he was armed with explosives and threatened to blow up his truck in front of russia s federal security services headquarters in moscow ntv television reported the officers seized an automatic rifle the man was carrying then the man got out...</td>\n",
              "      <td>0</td>\n",
              "    </tr>\n",
              "    <tr>\n",
              "      <th>3</th>\n",
              "      <td>klez the virus that won t die already the most prolific virus ever klez continues to wreak havoc andrew brandt from the september NUMBER issue of pc world magazine posted thursday august NUMBER NUMBER the klez worm is approaching its seventh month of wriggling across the web making it one of the most persistent viruses ever and experts warn that it may be a harbinger of new viruses that use a ...</td>\n",
              "      <td>0</td>\n",
              "    </tr>\n",
              "    <tr>\n",
              "      <th>4</th>\n",
              "      <td>in adding cream to spaghetti carbonara which has the same effect on pasta as making a pizza a deep pie i just had to jump in here as carbonara is one of my favourites to make and ask what the hell are you supposed to use instead of cream i ve never seen a recipe that hasn t used this personally i use low fat creme fraiche because it works quite nicely but the only time i ve seen an supposedly...</td>\n",
              "      <td>0</td>\n",
              "    </tr>\n",
              "  </tbody>\n",
              "</table>\n",
              "</div>\n",
              "      <button class=\"colab-df-convert\" onclick=\"convertToInteractive('df-32f0e3d1-4809-42bb-858e-af75daedfa26')\"\n",
              "              title=\"Convert this dataframe to an interactive table.\"\n",
              "              style=\"display:none;\">\n",
              "        \n",
              "  <svg xmlns=\"http://www.w3.org/2000/svg\" height=\"24px\"viewBox=\"0 0 24 24\"\n",
              "       width=\"24px\">\n",
              "    <path d=\"M0 0h24v24H0V0z\" fill=\"none\"/>\n",
              "    <path d=\"M18.56 5.44l.94 2.06.94-2.06 2.06-.94-2.06-.94-.94-2.06-.94 2.06-2.06.94zm-11 1L8.5 8.5l.94-2.06 2.06-.94-2.06-.94L8.5 2.5l-.94 2.06-2.06.94zm10 10l.94 2.06.94-2.06 2.06-.94-2.06-.94-.94-2.06-.94 2.06-2.06.94z\"/><path d=\"M17.41 7.96l-1.37-1.37c-.4-.4-.92-.59-1.43-.59-.52 0-1.04.2-1.43.59L10.3 9.45l-7.72 7.72c-.78.78-.78 2.05 0 2.83L4 21.41c.39.39.9.59 1.41.59.51 0 1.02-.2 1.41-.59l7.78-7.78 2.81-2.81c.8-.78.8-2.07 0-2.86zM5.41 20L4 18.59l7.72-7.72 1.47 1.35L5.41 20z\"/>\n",
              "  </svg>\n",
              "      </button>\n",
              "      \n",
              "  <style>\n",
              "    .colab-df-container {\n",
              "      display:flex;\n",
              "      flex-wrap:wrap;\n",
              "      gap: 12px;\n",
              "    }\n",
              "\n",
              "    .colab-df-convert {\n",
              "      background-color: #E8F0FE;\n",
              "      border: none;\n",
              "      border-radius: 50%;\n",
              "      cursor: pointer;\n",
              "      display: none;\n",
              "      fill: #1967D2;\n",
              "      height: 32px;\n",
              "      padding: 0 0 0 0;\n",
              "      width: 32px;\n",
              "    }\n",
              "\n",
              "    .colab-df-convert:hover {\n",
              "      background-color: #E2EBFA;\n",
              "      box-shadow: 0px 1px 2px rgba(60, 64, 67, 0.3), 0px 1px 3px 1px rgba(60, 64, 67, 0.15);\n",
              "      fill: #174EA6;\n",
              "    }\n",
              "\n",
              "    [theme=dark] .colab-df-convert {\n",
              "      background-color: #3B4455;\n",
              "      fill: #D2E3FC;\n",
              "    }\n",
              "\n",
              "    [theme=dark] .colab-df-convert:hover {\n",
              "      background-color: #434B5C;\n",
              "      box-shadow: 0px 1px 3px 1px rgba(0, 0, 0, 0.15);\n",
              "      filter: drop-shadow(0px 1px 2px rgba(0, 0, 0, 0.3));\n",
              "      fill: #FFFFFF;\n",
              "    }\n",
              "  </style>\n",
              "\n",
              "      <script>\n",
              "        const buttonEl =\n",
              "          document.querySelector('#df-32f0e3d1-4809-42bb-858e-af75daedfa26 button.colab-df-convert');\n",
              "        buttonEl.style.display =\n",
              "          google.colab.kernel.accessAllowed ? 'block' : 'none';\n",
              "\n",
              "        async function convertToInteractive(key) {\n",
              "          const element = document.querySelector('#df-32f0e3d1-4809-42bb-858e-af75daedfa26');\n",
              "          const dataTable =\n",
              "            await google.colab.kernel.invokeFunction('convertToInteractive',\n",
              "                                                     [key], {});\n",
              "          if (!dataTable) return;\n",
              "\n",
              "          const docLinkHtml = 'Like what you see? Visit the ' +\n",
              "            '<a target=\"_blank\" href=https://colab.research.google.com/notebooks/data_table.ipynb>data table notebook</a>'\n",
              "            + ' to learn more about interactive tables.';\n",
              "          element.innerHTML = '';\n",
              "          dataTable['output_type'] = 'display_data';\n",
              "          await google.colab.output.renderOutput(dataTable, element);\n",
              "          const docLink = document.createElement('div');\n",
              "          docLink.innerHTML = docLinkHtml;\n",
              "          element.appendChild(docLink);\n",
              "        }\n",
              "      </script>\n",
              "    </div>\n",
              "  </div>\n",
              "  "
            ]
          },
          "metadata": {},
          "execution_count": 18
        }
      ],
      "source": [
        "data.head()"
      ]
    },
    {
      "cell_type": "code",
      "execution_count": null,
      "metadata": {
        "id": "njOX8taNwBzI"
      },
      "outputs": [],
      "source": [
        "data['text']= data['text'].astype(str)"
      ]
    },
    {
      "cell_type": "markdown",
      "metadata": {
        "id": "O0GrRMVGwBzJ"
      },
      "source": [
        "Атрибуты Token"
      ]
    },
    {
      "cell_type": "code",
      "execution_count": null,
      "metadata": {
        "id": "XtDX2pdWwBzK",
        "colab": {
          "base_uri": "https://localhost:8080/",
          "height": 1000
        },
        "outputId": "c35e1cae-4996-4391-91d3-6d3de27275c4"
      },
      "outputs": [
        {
          "output_type": "stream",
          "name": "stdout",
          "text": [
            "CPU times: user 1min 44s, sys: 826 ms, total: 1min 44s\n",
            "Wall time: 1min 45s\n"
          ]
        },
        {
          "output_type": "execute_result",
          "data": {
            "text/plain": [
              "                                                                                                                                                                                                                                                                                                                                                                                                                 text  \\\n",
              "1268  hi in my build scripts i have problems with some of the kernel packages for kernel sources i get package kernel source is a virtual package provided by kernel source NUMBER NUMBER NUMBER NUMBER NUMBER NUMBER NUMBER NUMBER kernel source NUMBER NUMBER NUMBER NUMBER NUMBER NUMBER NUMBER NUMBER on running apt get install kernel source now first of all this doesn t really tell me what the two optio...   \n",
              "2959  hi URL you get emails every day offering to show you how to make money most of these emails are from people who are not making any money and they expect you to listen to them enough if you want to make money with your computer then you should hook up with a group that is actually doing it we are making a large continuing income every month what s more we will show you how to do the same thing ...   \n",
              "885    don t know much about eroom but there is the magic phrase collaborate in real time groove really has people running scared wonder if any users actually benefit from collaborating in real time URL content management vendor documentum said late thursday it plans to acquire privately held e room technologies in a deal worth about NUMBER million documentum will issue approximately NUMBER NUMBER m...   \n",
              "2549   save up to NUMBER on your term life insurance compare rates from top insurance companies around the country in our life and times it s important to plan for your family s future while being comfortable financially choose the right life insurance policy today click the link below to compare the lowest rates and save up to NUMBER hyperlink compare your coverage you ll be able to compare rates a...   \n",
              "2201                                                                                                                                       url URL date not supplied nyt op ed piece about this newfangled os called linux and how it is developed using something called the open source method this is the paper to go to for breaking news folks link NUMBER discuss NUMBER _ thanks dave _ NUMBER URL NUMBER URL    \n",
              "1029  i just updated to the latest cvs i had been running a build from june hitting the flist button gives the following traceback syntax error in expression int NUMBER NUMBER NUMBER NUMBER NUMBER NUMBER NUMBER while executing expr int minline NUMBER msgid minmsg maxline minline NUMBER maxmsg minmsg procedure ftoc_findmsg line NUMBER invoked from within ftoc_findmsg i procedure ftoc_showsequences li...   \n",
              "217   inn share wrote hi all does anyone know how to list the biggest file in my root directory or the second biggest etc because i want to find out what is the reason cause my root all most full the system is solaris NUMBER sparc thanks i think everybody has their own version of this but in case it s useful only tested on linux find type f o type l maxdepth NUMBER mindepth NUMBER printNUMBER xargs ...   \n",
              "1528   URL summary img tag based rules product spamassassin version unspecified platform other os version other status new severity enhancement priority pNUMBER component eval tests assignedto spamassassin devel URL reportedby matt URL inspired by complaints about all image or mostly image spam that s getting by sa i ve cooked up three sets of rules that analyze the use of img tags in html one that ...   \n",
              "1461                                       so far today i ve found URL and URL in dcc my confidence in dcc is beginning to drop robin lynn frank paradigm omega llc no electrons were harmed in the sending of this message however two neutrons and a proton complained about the noise in remembrance URL _______________________________________________ spamassassin talk mailing list spamassassin talk URL URL    \n",
              "1558  oh i was serious i m awful with perl etc i just think the html graph that was created was pretty neat and i wish i could do something like that i can t tell if you are serious or joking i have a custom perl based spam blocking framework that uses plug ins to block spam i test each message with every plug in and keep the stats in a mysql database which are what you see below fox original messag...   \n",
              "1076  once upon a time lance wrote i have failed dependencies in rpm database to i am unable to use apt get i requests to run apt get f install to fix these dependencies however i get these errors when running apt get f install error unpacking of archive failed on file usr share libgcj zip NUMBERcNUMBERbNUMBEReNUMBER cpio mdNUMBER sum mismatch e sub process bin rpm returned an error code NUMBER root...   \n",
              "277   on tue oct NUMBER NUMBER at NUMBER NUMBER NUMBERpm NUMBER matthias saou wrote two new things today NUMBER i ve had to install a red hat linux NUMBER NUMBER server because of an old proprietary ivr software that doesn t work on newer releases so i ve recompiled both the latest apt and openssh packages for it and they are now available with a complete os updates freshrpms apt repository at URL f...   \n",
              "731          i did not have sex with that woman original message from fork admin URL mailto fork admin URL on behalf of mr fork sent monday september NUMBER NUMBER NUMBER NUMBER pm to fork subject re goodbye global warming original message from john hall johnhall evergo net a green once said that if the spotted owl hadn t existed they would have had to invent it a republican once said i am not a crook    \n",
              "2101                                                                                                                                                                  url URL date NUMBER NUMBER NUMBERtNUMBER NUMBER NUMBER NUMBER NUMBER politics michael portillo strode into the hostile territory of the labour party conference in blackpool last night to mock david blunkett as an authoritarian rightwinger    \n",
              "2293                                                                                                                                                     url URL date NUMBER NUMBER NUMBERtNUMBER NUMBER NUMBER NUMBER NUMBER the observer profile brazil goes to the polls today and all the indications are that its NUMBER million voters will elect a man who once sold peanuts on the street luis lula da silva    \n",
              "\n",
              "      label \"spam\"  \\\n",
              "1268             0   \n",
              "2959             1   \n",
              "885              0   \n",
              "2549             1   \n",
              "2201             0   \n",
              "1029             0   \n",
              "217              0   \n",
              "1528             0   \n",
              "1461             0   \n",
              "1558             0   \n",
              "1076             0   \n",
              "277              0   \n",
              "731              0   \n",
              "2101             0   \n",
              "2293             0   \n",
              "\n",
              "                                                                                                                                                                                                                                                                                                                                                                                                      cleaned_text_sm  \n",
              "1268  hi build script problem kernel package kernel source package kernel source virtual package provide kernel source number number number number number number number number kernel source number number number number number number number number run apt install kernel source doesn t tell option second way tell apt install automatic build script d like proceed thank thomas dave dina project future tv ...  \n",
              "2959  hi url email day offer money email people make money expect listen want money computer hook group actually make large continue income month s thing business completely internet email join free check send email special skill require make number number month real people work business time mind work go insult intelligence say sign work rake cash kind job exist willing number number hour week thin...  \n",
              "885   don t know eroom magic phrase collaborate real time groove people run scared wonder user actually benefit collaborate real time url content management vendor documentum say late thursday plan acquire privately hold e room technology deal worth number million documentum issue approximately number number million share common stock pay number number million cash outstanding share eroom documentum...  \n",
              "2549  save number term life insurance compare rate insurance company country life time s important plan family s future comfortable financially choose right life insurance policy today click link compare low rate save number hyperlink compare coverage ll able compare rate free application minute free instant quote compare low price select company apply online hyperlink free quote t predict future pr...  \n",
              "2201                                                                                                                                                                                                                                    url url date supply nyt op ed piece newfangle os call linux develop call open source method paper break news folk link number discuss number thank dave number url number url  \n",
              "1029  update late cvs run build june hit flist button give follow traceback syntax error expression int number number number number number number number execute expr int minline number msgid minmsg maxline minline number maxmsg minmsg procedure ftoc_findmsg line number invoke ftoc_findmsg procedure ftoc_showsequence line number invoke ftoc_showsequence f procedure scanfolder line number invoke scanf...  \n",
              "217   inn share write hi know list big file root directory second big etc want find reason cause root system solaris number sparc thank think everybody version case s useful test linux find type f o type l maxdepth number mindepth number printnumber xarg rnumber du b max depth number sort knumbern grep v number pã¡draig irish linux user group ilug url url un subscription information list maintainer ...  \n",
              "1528  url summary img tag base rule product spamassassin version unspecified platform os version status new severity enhancement priority pnumber component eval test assignedto spamassassin devel url reportedby matt url inspire complaint image image spam s get sa ve cook set rule analyze use img tag html look total area image message t_html_image_area look total number image message t_html_num_img l...  \n",
              "1461                                                                                                                                                                                 far today ve find url url dcc confidence dcc begin drop robin lynn frank paradigm omega llc electron harm sending message neutron proton complain noise remembrance url spamassassin talk mailing list spamassassin talk url url  \n",
              "1558  oh m awful perl etc think html graph create pretty neat wish like t tell joke custom perl base spam blocking framework use plug in block spam test message plug stat mysql database fox original message jonathan nichols jnichols pbp net razor user url send tuesday september number number number number pm subject razor user razor vnumber effectiveness stat html table number graph like original me...  \n",
              "1076  time lance write fail dependency rpm database unable use apt request run apt f install fix dependency error run apt f install error unpacking archive fail file usr share libgcj zip numbercnumberbnumberenumber cpio mdnumber sum mismatch e sub process bin rpm return error code number root localhost root d file apt download corrupt maybe try apt clean remove download file solve problem matthia ma...  \n",
              "277   tue oct number number number number numberpm number matthia saou write new thing today number ve install red hat linux number number server old proprietary ivr software doesn t work new release ve recompile late apt openssh package available complete os update freshrpm apt repository url interested oh neat similiar thing hand migratable time try ve number x repository url try dist upgrade numb...  \n",
              "731                                                                                                                                sex woman original message fork admin url mailto fork admin url behalf mr fork send monday september number number number number pm fork subject goodbye global warming original message john hall johnhall evergo net green say spot owl hadn t exist invent republican say crook  \n",
              "2101                                                                                                                                                                                                     url url date number number numbertnumber number number number number politic michael portillo stride hostile territory labour party conference blackpool night mock david blunkett authoritarian rightwinger  \n",
              "2293                                                                                                                                                                                                                       url url date number number numbertnumber number number number number observer profile brazil go poll today indication number million voter elect man sell peanut street luis lula da silva  "
            ],
            "text/html": [
              "\n",
              "  <div id=\"df-8aafba71-3ba0-4a68-a34a-a7fee22fa7ff\">\n",
              "    <div class=\"colab-df-container\">\n",
              "      <div>\n",
              "<style scoped>\n",
              "    .dataframe tbody tr th:only-of-type {\n",
              "        vertical-align: middle;\n",
              "    }\n",
              "\n",
              "    .dataframe tbody tr th {\n",
              "        vertical-align: top;\n",
              "    }\n",
              "\n",
              "    .dataframe thead th {\n",
              "        text-align: right;\n",
              "    }\n",
              "</style>\n",
              "<table border=\"1\" class=\"dataframe\">\n",
              "  <thead>\n",
              "    <tr style=\"text-align: right;\">\n",
              "      <th></th>\n",
              "      <th>text</th>\n",
              "      <th>label \"spam\"</th>\n",
              "      <th>cleaned_text_sm</th>\n",
              "    </tr>\n",
              "  </thead>\n",
              "  <tbody>\n",
              "    <tr>\n",
              "      <th>1268</th>\n",
              "      <td>hi in my build scripts i have problems with some of the kernel packages for kernel sources i get package kernel source is a virtual package provided by kernel source NUMBER NUMBER NUMBER NUMBER NUMBER NUMBER NUMBER NUMBER kernel source NUMBER NUMBER NUMBER NUMBER NUMBER NUMBER NUMBER NUMBER on running apt get install kernel source now first of all this doesn t really tell me what the two optio...</td>\n",
              "      <td>0</td>\n",
              "      <td>hi build script problem kernel package kernel source package kernel source virtual package provide kernel source number number number number number number number number kernel source number number number number number number number number run apt install kernel source doesn t tell option second way tell apt install automatic build script d like proceed thank thomas dave dina project future tv ...</td>\n",
              "    </tr>\n",
              "    <tr>\n",
              "      <th>2959</th>\n",
              "      <td>hi URL you get emails every day offering to show you how to make money most of these emails are from people who are not making any money and they expect you to listen to them enough if you want to make money with your computer then you should hook up with a group that is actually doing it we are making a large continuing income every month what s more we will show you how to do the same thing ...</td>\n",
              "      <td>1</td>\n",
              "      <td>hi url email day offer money email people make money expect listen want money computer hook group actually make large continue income month s thing business completely internet email join free check send email special skill require make number number month real people work business time mind work go insult intelligence say sign work rake cash kind job exist willing number number hour week thin...</td>\n",
              "    </tr>\n",
              "    <tr>\n",
              "      <th>885</th>\n",
              "      <td>don t know much about eroom but there is the magic phrase collaborate in real time groove really has people running scared wonder if any users actually benefit from collaborating in real time URL content management vendor documentum said late thursday it plans to acquire privately held e room technologies in a deal worth about NUMBER million documentum will issue approximately NUMBER NUMBER m...</td>\n",
              "      <td>0</td>\n",
              "      <td>don t know eroom magic phrase collaborate real time groove people run scared wonder user actually benefit collaborate real time url content management vendor documentum say late thursday plan acquire privately hold e room technology deal worth number million documentum issue approximately number number million share common stock pay number number million cash outstanding share eroom documentum...</td>\n",
              "    </tr>\n",
              "    <tr>\n",
              "      <th>2549</th>\n",
              "      <td>save up to NUMBER on your term life insurance compare rates from top insurance companies around the country in our life and times it s important to plan for your family s future while being comfortable financially choose the right life insurance policy today click the link below to compare the lowest rates and save up to NUMBER hyperlink compare your coverage you ll be able to compare rates a...</td>\n",
              "      <td>1</td>\n",
              "      <td>save number term life insurance compare rate insurance company country life time s important plan family s future comfortable financially choose right life insurance policy today click link compare low rate save number hyperlink compare coverage ll able compare rate free application minute free instant quote compare low price select company apply online hyperlink free quote t predict future pr...</td>\n",
              "    </tr>\n",
              "    <tr>\n",
              "      <th>2201</th>\n",
              "      <td>url URL date not supplied nyt op ed piece about this newfangled os called linux and how it is developed using something called the open source method this is the paper to go to for breaking news folks link NUMBER discuss NUMBER _ thanks dave _ NUMBER URL NUMBER URL</td>\n",
              "      <td>0</td>\n",
              "      <td>url url date supply nyt op ed piece newfangle os call linux develop call open source method paper break news folk link number discuss number thank dave number url number url</td>\n",
              "    </tr>\n",
              "    <tr>\n",
              "      <th>1029</th>\n",
              "      <td>i just updated to the latest cvs i had been running a build from june hitting the flist button gives the following traceback syntax error in expression int NUMBER NUMBER NUMBER NUMBER NUMBER NUMBER NUMBER while executing expr int minline NUMBER msgid minmsg maxline minline NUMBER maxmsg minmsg procedure ftoc_findmsg line NUMBER invoked from within ftoc_findmsg i procedure ftoc_showsequences li...</td>\n",
              "      <td>0</td>\n",
              "      <td>update late cvs run build june hit flist button give follow traceback syntax error expression int number number number number number number number execute expr int minline number msgid minmsg maxline minline number maxmsg minmsg procedure ftoc_findmsg line number invoke ftoc_findmsg procedure ftoc_showsequence line number invoke ftoc_showsequence f procedure scanfolder line number invoke scanf...</td>\n",
              "    </tr>\n",
              "    <tr>\n",
              "      <th>217</th>\n",
              "      <td>inn share wrote hi all does anyone know how to list the biggest file in my root directory or the second biggest etc because i want to find out what is the reason cause my root all most full the system is solaris NUMBER sparc thanks i think everybody has their own version of this but in case it s useful only tested on linux find type f o type l maxdepth NUMBER mindepth NUMBER printNUMBER xargs ...</td>\n",
              "      <td>0</td>\n",
              "      <td>inn share write hi know list big file root directory second big etc want find reason cause root system solaris number sparc thank think everybody version case s useful test linux find type f o type l maxdepth number mindepth number printnumber xarg rnumber du b max depth number sort knumbern grep v number pã¡draig irish linux user group ilug url url un subscription information list maintainer ...</td>\n",
              "    </tr>\n",
              "    <tr>\n",
              "      <th>1528</th>\n",
              "      <td>URL summary img tag based rules product spamassassin version unspecified platform other os version other status new severity enhancement priority pNUMBER component eval tests assignedto spamassassin devel URL reportedby matt URL inspired by complaints about all image or mostly image spam that s getting by sa i ve cooked up three sets of rules that analyze the use of img tags in html one that ...</td>\n",
              "      <td>0</td>\n",
              "      <td>url summary img tag base rule product spamassassin version unspecified platform os version status new severity enhancement priority pnumber component eval test assignedto spamassassin devel url reportedby matt url inspire complaint image image spam s get sa ve cook set rule analyze use img tag html look total area image message t_html_image_area look total number image message t_html_num_img l...</td>\n",
              "    </tr>\n",
              "    <tr>\n",
              "      <th>1461</th>\n",
              "      <td>so far today i ve found URL and URL in dcc my confidence in dcc is beginning to drop robin lynn frank paradigm omega llc no electrons were harmed in the sending of this message however two neutrons and a proton complained about the noise in remembrance URL _______________________________________________ spamassassin talk mailing list spamassassin talk URL URL</td>\n",
              "      <td>0</td>\n",
              "      <td>far today ve find url url dcc confidence dcc begin drop robin lynn frank paradigm omega llc electron harm sending message neutron proton complain noise remembrance url spamassassin talk mailing list spamassassin talk url url</td>\n",
              "    </tr>\n",
              "    <tr>\n",
              "      <th>1558</th>\n",
              "      <td>oh i was serious i m awful with perl etc i just think the html graph that was created was pretty neat and i wish i could do something like that i can t tell if you are serious or joking i have a custom perl based spam blocking framework that uses plug ins to block spam i test each message with every plug in and keep the stats in a mysql database which are what you see below fox original messag...</td>\n",
              "      <td>0</td>\n",
              "      <td>oh m awful perl etc think html graph create pretty neat wish like t tell joke custom perl base spam blocking framework use plug in block spam test message plug stat mysql database fox original message jonathan nichols jnichols pbp net razor user url send tuesday september number number number number pm subject razor user razor vnumber effectiveness stat html table number graph like original me...</td>\n",
              "    </tr>\n",
              "    <tr>\n",
              "      <th>1076</th>\n",
              "      <td>once upon a time lance wrote i have failed dependencies in rpm database to i am unable to use apt get i requests to run apt get f install to fix these dependencies however i get these errors when running apt get f install error unpacking of archive failed on file usr share libgcj zip NUMBERcNUMBERbNUMBEReNUMBER cpio mdNUMBER sum mismatch e sub process bin rpm returned an error code NUMBER root...</td>\n",
              "      <td>0</td>\n",
              "      <td>time lance write fail dependency rpm database unable use apt request run apt f install fix dependency error run apt f install error unpacking archive fail file usr share libgcj zip numbercnumberbnumberenumber cpio mdnumber sum mismatch e sub process bin rpm return error code number root localhost root d file apt download corrupt maybe try apt clean remove download file solve problem matthia ma...</td>\n",
              "    </tr>\n",
              "    <tr>\n",
              "      <th>277</th>\n",
              "      <td>on tue oct NUMBER NUMBER at NUMBER NUMBER NUMBERpm NUMBER matthias saou wrote two new things today NUMBER i ve had to install a red hat linux NUMBER NUMBER server because of an old proprietary ivr software that doesn t work on newer releases so i ve recompiled both the latest apt and openssh packages for it and they are now available with a complete os updates freshrpms apt repository at URL f...</td>\n",
              "      <td>0</td>\n",
              "      <td>tue oct number number number number numberpm number matthia saou write new thing today number ve install red hat linux number number server old proprietary ivr software doesn t work new release ve recompile late apt openssh package available complete os update freshrpm apt repository url interested oh neat similiar thing hand migratable time try ve number x repository url try dist upgrade numb...</td>\n",
              "    </tr>\n",
              "    <tr>\n",
              "      <th>731</th>\n",
              "      <td>i did not have sex with that woman original message from fork admin URL mailto fork admin URL on behalf of mr fork sent monday september NUMBER NUMBER NUMBER NUMBER pm to fork subject re goodbye global warming original message from john hall johnhall evergo net a green once said that if the spotted owl hadn t existed they would have had to invent it a republican once said i am not a crook</td>\n",
              "      <td>0</td>\n",
              "      <td>sex woman original message fork admin url mailto fork admin url behalf mr fork send monday september number number number number pm fork subject goodbye global warming original message john hall johnhall evergo net green say spot owl hadn t exist invent republican say crook</td>\n",
              "    </tr>\n",
              "    <tr>\n",
              "      <th>2101</th>\n",
              "      <td>url URL date NUMBER NUMBER NUMBERtNUMBER NUMBER NUMBER NUMBER NUMBER politics michael portillo strode into the hostile territory of the labour party conference in blackpool last night to mock david blunkett as an authoritarian rightwinger</td>\n",
              "      <td>0</td>\n",
              "      <td>url url date number number numbertnumber number number number number politic michael portillo stride hostile territory labour party conference blackpool night mock david blunkett authoritarian rightwinger</td>\n",
              "    </tr>\n",
              "    <tr>\n",
              "      <th>2293</th>\n",
              "      <td>url URL date NUMBER NUMBER NUMBERtNUMBER NUMBER NUMBER NUMBER NUMBER the observer profile brazil goes to the polls today and all the indications are that its NUMBER million voters will elect a man who once sold peanuts on the street luis lula da silva</td>\n",
              "      <td>0</td>\n",
              "      <td>url url date number number numbertnumber number number number number observer profile brazil go poll today indication number million voter elect man sell peanut street luis lula da silva</td>\n",
              "    </tr>\n",
              "  </tbody>\n",
              "</table>\n",
              "</div>\n",
              "      <button class=\"colab-df-convert\" onclick=\"convertToInteractive('df-8aafba71-3ba0-4a68-a34a-a7fee22fa7ff')\"\n",
              "              title=\"Convert this dataframe to an interactive table.\"\n",
              "              style=\"display:none;\">\n",
              "        \n",
              "  <svg xmlns=\"http://www.w3.org/2000/svg\" height=\"24px\"viewBox=\"0 0 24 24\"\n",
              "       width=\"24px\">\n",
              "    <path d=\"M0 0h24v24H0V0z\" fill=\"none\"/>\n",
              "    <path d=\"M18.56 5.44l.94 2.06.94-2.06 2.06-.94-2.06-.94-.94-2.06-.94 2.06-2.06.94zm-11 1L8.5 8.5l.94-2.06 2.06-.94-2.06-.94L8.5 2.5l-.94 2.06-2.06.94zm10 10l.94 2.06.94-2.06 2.06-.94-2.06-.94-.94-2.06-.94 2.06-2.06.94z\"/><path d=\"M17.41 7.96l-1.37-1.37c-.4-.4-.92-.59-1.43-.59-.52 0-1.04.2-1.43.59L10.3 9.45l-7.72 7.72c-.78.78-.78 2.05 0 2.83L4 21.41c.39.39.9.59 1.41.59.51 0 1.02-.2 1.41-.59l7.78-7.78 2.81-2.81c.8-.78.8-2.07 0-2.86zM5.41 20L4 18.59l7.72-7.72 1.47 1.35L5.41 20z\"/>\n",
              "  </svg>\n",
              "      </button>\n",
              "      \n",
              "  <style>\n",
              "    .colab-df-container {\n",
              "      display:flex;\n",
              "      flex-wrap:wrap;\n",
              "      gap: 12px;\n",
              "    }\n",
              "\n",
              "    .colab-df-convert {\n",
              "      background-color: #E8F0FE;\n",
              "      border: none;\n",
              "      border-radius: 50%;\n",
              "      cursor: pointer;\n",
              "      display: none;\n",
              "      fill: #1967D2;\n",
              "      height: 32px;\n",
              "      padding: 0 0 0 0;\n",
              "      width: 32px;\n",
              "    }\n",
              "\n",
              "    .colab-df-convert:hover {\n",
              "      background-color: #E2EBFA;\n",
              "      box-shadow: 0px 1px 2px rgba(60, 64, 67, 0.3), 0px 1px 3px 1px rgba(60, 64, 67, 0.15);\n",
              "      fill: #174EA6;\n",
              "    }\n",
              "\n",
              "    [theme=dark] .colab-df-convert {\n",
              "      background-color: #3B4455;\n",
              "      fill: #D2E3FC;\n",
              "    }\n",
              "\n",
              "    [theme=dark] .colab-df-convert:hover {\n",
              "      background-color: #434B5C;\n",
              "      box-shadow: 0px 1px 3px 1px rgba(0, 0, 0, 0.15);\n",
              "      filter: drop-shadow(0px 1px 2px rgba(0, 0, 0, 0.3));\n",
              "      fill: #FFFFFF;\n",
              "    }\n",
              "  </style>\n",
              "\n",
              "      <script>\n",
              "        const buttonEl =\n",
              "          document.querySelector('#df-8aafba71-3ba0-4a68-a34a-a7fee22fa7ff button.colab-df-convert');\n",
              "        buttonEl.style.display =\n",
              "          google.colab.kernel.accessAllowed ? 'block' : 'none';\n",
              "\n",
              "        async function convertToInteractive(key) {\n",
              "          const element = document.querySelector('#df-8aafba71-3ba0-4a68-a34a-a7fee22fa7ff');\n",
              "          const dataTable =\n",
              "            await google.colab.kernel.invokeFunction('convertToInteractive',\n",
              "                                                     [key], {});\n",
              "          if (!dataTable) return;\n",
              "\n",
              "          const docLinkHtml = 'Like what you see? Visit the ' +\n",
              "            '<a target=\"_blank\" href=https://colab.research.google.com/notebooks/data_table.ipynb>data table notebook</a>'\n",
              "            + ' to learn more about interactive tables.';\n",
              "          element.innerHTML = '';\n",
              "          dataTable['output_type'] = 'display_data';\n",
              "          await google.colab.output.renderOutput(dataTable, element);\n",
              "          const docLink = document.createElement('div');\n",
              "          docLink.innerHTML = docLinkHtml;\n",
              "          element.appendChild(docLink);\n",
              "        }\n",
              "      </script>\n",
              "    </div>\n",
              "  </div>\n",
              "  "
            ]
          },
          "metadata": {},
          "execution_count": 20
        }
      ],
      "source": [
        "%%time\n",
        "\n",
        "data['cleaned_text_sm'] = data['text'].apply(\n",
        "    lambda x: ' '.join(\n",
        "        token.lemma_.lower() for token in nlp_sm(x) if  # Приведём к нижнему регистру и смотрим\n",
        "        not token.is_stop                               # Стоп слова \n",
        "        and not token.is_punct                          # Пунктуация\n",
        "        #and not token.is_digit                          # Цифра\n",
        "        #and not token.like_email                        # Электронный почтовый адресс\n",
        "        #and not token.like_num                          # Описание цифры\n",
        "        and not token.is_space                          # Пробельные символы\n",
        "    )\n",
        ")\n",
        "data.sample(15)"
      ]
    },
    {
      "cell_type": "markdown",
      "metadata": {
        "id": "xRV4dpCswBzM"
      },
      "source": [
        "CountVectorizer\n"
      ]
    },
    {
      "cell_type": "code",
      "execution_count": null,
      "metadata": {
        "id": "cMfpGQ9swBzM"
      },
      "outputs": [],
      "source": [
        "from sklearn.feature_extraction.text import CountVectorizer\n"
      ]
    },
    {
      "cell_type": "markdown",
      "metadata": {
        "id": "0J2FlyNnwBzP"
      },
      "source": [
        "#### Train/test split & fit"
      ]
    },
    {
      "cell_type": "code",
      "execution_count": null,
      "metadata": {
        "id": "_EmE1KwUwBzQ"
      },
      "outputs": [],
      "source": [
        "from sklearn.model_selection import train_test_split"
      ]
    },
    {
      "cell_type": "code",
      "execution_count": null,
      "metadata": {
        "id": "pDEgiNHkwBzR"
      },
      "outputs": [],
      "source": [
        "# Разделим на выборки\n",
        "X_train, X_test, y_train, y_test = train_test_split(data['cleaned_text_sm'], data['label \"spam\"'], random_state=2303)"
      ]
    },
    {
      "cell_type": "code",
      "execution_count": null,
      "metadata": {
        "id": "euEi2O6WwBzS"
      },
      "outputs": [],
      "source": [
        "vectorizer = CountVectorizer(max_df=0.7, min_df=0.003) # max_df фильтрует corpus-specific stop words\n",
        "X_train_vectorized = vectorizer.fit_transform(X_train)\n",
        "X_test_vectorized = vectorizer.transform(X_test)"
      ]
    },
    {
      "cell_type": "code",
      "execution_count": null,
      "metadata": {
        "id": "I2EAaQxZwBzT",
        "colab": {
          "base_uri": "https://localhost:8080/"
        },
        "outputId": "0d048b58-443a-4975-af7d-af038c53a878"
      },
      "outputs": [
        {
          "output_type": "execute_result",
          "data": {
            "text/plain": [
              "<2250x3848 sparse matrix of type '<class 'numpy.int64'>'\n",
              "\twith 133406 stored elements in Compressed Sparse Row format>"
            ]
          },
          "metadata": {},
          "execution_count": 25
        }
      ],
      "source": [
        "#Посмотрим, что получилось.\n",
        "X_train_vectorized"
      ]
    },
    {
      "cell_type": "code",
      "execution_count": null,
      "metadata": {
        "id": "_fvo5DIYwBzU",
        "colab": {
          "base_uri": "https://localhost:8080/"
        },
        "outputId": "2f78fcfe-ce5e-4b1a-f5b9-0cc4185314c5"
      },
      "outputs": [
        {
          "output_type": "execute_result",
          "data": {
            "text/plain": [
              "array(['aa', 'abandon', 'ability', ..., 'äº', 'ä½', 'å¾'], dtype=object)"
            ]
          },
          "metadata": {},
          "execution_count": 26
        }
      ],
      "source": [
        "vectorizer.get_feature_names_out()"
      ]
    },
    {
      "cell_type": "code",
      "execution_count": null,
      "metadata": {
        "id": "eeERcwv_wBzV",
        "colab": {
          "base_uri": "https://localhost:8080/",
          "height": 235
        },
        "outputId": "662c725a-9f77-4ba4-951c-bbc12b356427"
      },
      "outputs": [
        {
          "output_type": "execute_result",
          "data": {
            "text/plain": [
              "   aa  abandon  ability  able  abroad  absence  absolute  absolutely  \\\n",
              "0   0        0        0     0       0        0         0           0   \n",
              "1   0        0        0     0       0        0         2           0   \n",
              "2   0        0        0     0       0        0         0           0   \n",
              "3   0        0        0     0       0        0         0           0   \n",
              "4   0        0        0     0       0        0         0           0   \n",
              "\n",
              "   abstract  abuse  ...  ziggy  zip  zone  zope  zzzz  ªå  ªæ  äº  ä½  å¾  \n",
              "0         0      0  ...      0    0     0     0     0   0   0   0   0   0  \n",
              "1         0      0  ...      0    0     0     0     0   0   0   0   0   0  \n",
              "2         0      0  ...      0    0     0     0     0   0   0   0   0   0  \n",
              "3         0      0  ...      0    0     0     0     0   0   0   0   0   0  \n",
              "4         0      0  ...      0    0     0     0     0   0   0   0   0   0  \n",
              "\n",
              "[5 rows x 3848 columns]"
            ],
            "text/html": [
              "\n",
              "  <div id=\"df-5a13cca1-3cd8-4a0d-9bdf-638d7bd9c542\">\n",
              "    <div class=\"colab-df-container\">\n",
              "      <div>\n",
              "<style scoped>\n",
              "    .dataframe tbody tr th:only-of-type {\n",
              "        vertical-align: middle;\n",
              "    }\n",
              "\n",
              "    .dataframe tbody tr th {\n",
              "        vertical-align: top;\n",
              "    }\n",
              "\n",
              "    .dataframe thead th {\n",
              "        text-align: right;\n",
              "    }\n",
              "</style>\n",
              "<table border=\"1\" class=\"dataframe\">\n",
              "  <thead>\n",
              "    <tr style=\"text-align: right;\">\n",
              "      <th></th>\n",
              "      <th>aa</th>\n",
              "      <th>abandon</th>\n",
              "      <th>ability</th>\n",
              "      <th>able</th>\n",
              "      <th>abroad</th>\n",
              "      <th>absence</th>\n",
              "      <th>absolute</th>\n",
              "      <th>absolutely</th>\n",
              "      <th>abstract</th>\n",
              "      <th>abuse</th>\n",
              "      <th>...</th>\n",
              "      <th>ziggy</th>\n",
              "      <th>zip</th>\n",
              "      <th>zone</th>\n",
              "      <th>zope</th>\n",
              "      <th>zzzz</th>\n",
              "      <th>ªå</th>\n",
              "      <th>ªæ</th>\n",
              "      <th>äº</th>\n",
              "      <th>ä½</th>\n",
              "      <th>å¾</th>\n",
              "    </tr>\n",
              "  </thead>\n",
              "  <tbody>\n",
              "    <tr>\n",
              "      <th>0</th>\n",
              "      <td>0</td>\n",
              "      <td>0</td>\n",
              "      <td>0</td>\n",
              "      <td>0</td>\n",
              "      <td>0</td>\n",
              "      <td>0</td>\n",
              "      <td>0</td>\n",
              "      <td>0</td>\n",
              "      <td>0</td>\n",
              "      <td>0</td>\n",
              "      <td>...</td>\n",
              "      <td>0</td>\n",
              "      <td>0</td>\n",
              "      <td>0</td>\n",
              "      <td>0</td>\n",
              "      <td>0</td>\n",
              "      <td>0</td>\n",
              "      <td>0</td>\n",
              "      <td>0</td>\n",
              "      <td>0</td>\n",
              "      <td>0</td>\n",
              "    </tr>\n",
              "    <tr>\n",
              "      <th>1</th>\n",
              "      <td>0</td>\n",
              "      <td>0</td>\n",
              "      <td>0</td>\n",
              "      <td>0</td>\n",
              "      <td>0</td>\n",
              "      <td>0</td>\n",
              "      <td>2</td>\n",
              "      <td>0</td>\n",
              "      <td>0</td>\n",
              "      <td>0</td>\n",
              "      <td>...</td>\n",
              "      <td>0</td>\n",
              "      <td>0</td>\n",
              "      <td>0</td>\n",
              "      <td>0</td>\n",
              "      <td>0</td>\n",
              "      <td>0</td>\n",
              "      <td>0</td>\n",
              "      <td>0</td>\n",
              "      <td>0</td>\n",
              "      <td>0</td>\n",
              "    </tr>\n",
              "    <tr>\n",
              "      <th>2</th>\n",
              "      <td>0</td>\n",
              "      <td>0</td>\n",
              "      <td>0</td>\n",
              "      <td>0</td>\n",
              "      <td>0</td>\n",
              "      <td>0</td>\n",
              "      <td>0</td>\n",
              "      <td>0</td>\n",
              "      <td>0</td>\n",
              "      <td>0</td>\n",
              "      <td>...</td>\n",
              "      <td>0</td>\n",
              "      <td>0</td>\n",
              "      <td>0</td>\n",
              "      <td>0</td>\n",
              "      <td>0</td>\n",
              "      <td>0</td>\n",
              "      <td>0</td>\n",
              "      <td>0</td>\n",
              "      <td>0</td>\n",
              "      <td>0</td>\n",
              "    </tr>\n",
              "    <tr>\n",
              "      <th>3</th>\n",
              "      <td>0</td>\n",
              "      <td>0</td>\n",
              "      <td>0</td>\n",
              "      <td>0</td>\n",
              "      <td>0</td>\n",
              "      <td>0</td>\n",
              "      <td>0</td>\n",
              "      <td>0</td>\n",
              "      <td>0</td>\n",
              "      <td>0</td>\n",
              "      <td>...</td>\n",
              "      <td>0</td>\n",
              "      <td>0</td>\n",
              "      <td>0</td>\n",
              "      <td>0</td>\n",
              "      <td>0</td>\n",
              "      <td>0</td>\n",
              "      <td>0</td>\n",
              "      <td>0</td>\n",
              "      <td>0</td>\n",
              "      <td>0</td>\n",
              "    </tr>\n",
              "    <tr>\n",
              "      <th>4</th>\n",
              "      <td>0</td>\n",
              "      <td>0</td>\n",
              "      <td>0</td>\n",
              "      <td>0</td>\n",
              "      <td>0</td>\n",
              "      <td>0</td>\n",
              "      <td>0</td>\n",
              "      <td>0</td>\n",
              "      <td>0</td>\n",
              "      <td>0</td>\n",
              "      <td>...</td>\n",
              "      <td>0</td>\n",
              "      <td>0</td>\n",
              "      <td>0</td>\n",
              "      <td>0</td>\n",
              "      <td>0</td>\n",
              "      <td>0</td>\n",
              "      <td>0</td>\n",
              "      <td>0</td>\n",
              "      <td>0</td>\n",
              "      <td>0</td>\n",
              "    </tr>\n",
              "  </tbody>\n",
              "</table>\n",
              "<p>5 rows × 3848 columns</p>\n",
              "</div>\n",
              "      <button class=\"colab-df-convert\" onclick=\"convertToInteractive('df-5a13cca1-3cd8-4a0d-9bdf-638d7bd9c542')\"\n",
              "              title=\"Convert this dataframe to an interactive table.\"\n",
              "              style=\"display:none;\">\n",
              "        \n",
              "  <svg xmlns=\"http://www.w3.org/2000/svg\" height=\"24px\"viewBox=\"0 0 24 24\"\n",
              "       width=\"24px\">\n",
              "    <path d=\"M0 0h24v24H0V0z\" fill=\"none\"/>\n",
              "    <path d=\"M18.56 5.44l.94 2.06.94-2.06 2.06-.94-2.06-.94-.94-2.06-.94 2.06-2.06.94zm-11 1L8.5 8.5l.94-2.06 2.06-.94-2.06-.94L8.5 2.5l-.94 2.06-2.06.94zm10 10l.94 2.06.94-2.06 2.06-.94-2.06-.94-.94-2.06-.94 2.06-2.06.94z\"/><path d=\"M17.41 7.96l-1.37-1.37c-.4-.4-.92-.59-1.43-.59-.52 0-1.04.2-1.43.59L10.3 9.45l-7.72 7.72c-.78.78-.78 2.05 0 2.83L4 21.41c.39.39.9.59 1.41.59.51 0 1.02-.2 1.41-.59l7.78-7.78 2.81-2.81c.8-.78.8-2.07 0-2.86zM5.41 20L4 18.59l7.72-7.72 1.47 1.35L5.41 20z\"/>\n",
              "  </svg>\n",
              "      </button>\n",
              "      \n",
              "  <style>\n",
              "    .colab-df-container {\n",
              "      display:flex;\n",
              "      flex-wrap:wrap;\n",
              "      gap: 12px;\n",
              "    }\n",
              "\n",
              "    .colab-df-convert {\n",
              "      background-color: #E8F0FE;\n",
              "      border: none;\n",
              "      border-radius: 50%;\n",
              "      cursor: pointer;\n",
              "      display: none;\n",
              "      fill: #1967D2;\n",
              "      height: 32px;\n",
              "      padding: 0 0 0 0;\n",
              "      width: 32px;\n",
              "    }\n",
              "\n",
              "    .colab-df-convert:hover {\n",
              "      background-color: #E2EBFA;\n",
              "      box-shadow: 0px 1px 2px rgba(60, 64, 67, 0.3), 0px 1px 3px 1px rgba(60, 64, 67, 0.15);\n",
              "      fill: #174EA6;\n",
              "    }\n",
              "\n",
              "    [theme=dark] .colab-df-convert {\n",
              "      background-color: #3B4455;\n",
              "      fill: #D2E3FC;\n",
              "    }\n",
              "\n",
              "    [theme=dark] .colab-df-convert:hover {\n",
              "      background-color: #434B5C;\n",
              "      box-shadow: 0px 1px 3px 1px rgba(0, 0, 0, 0.15);\n",
              "      filter: drop-shadow(0px 1px 2px rgba(0, 0, 0, 0.3));\n",
              "      fill: #FFFFFF;\n",
              "    }\n",
              "  </style>\n",
              "\n",
              "      <script>\n",
              "        const buttonEl =\n",
              "          document.querySelector('#df-5a13cca1-3cd8-4a0d-9bdf-638d7bd9c542 button.colab-df-convert');\n",
              "        buttonEl.style.display =\n",
              "          google.colab.kernel.accessAllowed ? 'block' : 'none';\n",
              "\n",
              "        async function convertToInteractive(key) {\n",
              "          const element = document.querySelector('#df-5a13cca1-3cd8-4a0d-9bdf-638d7bd9c542');\n",
              "          const dataTable =\n",
              "            await google.colab.kernel.invokeFunction('convertToInteractive',\n",
              "                                                     [key], {});\n",
              "          if (!dataTable) return;\n",
              "\n",
              "          const docLinkHtml = 'Like what you see? Visit the ' +\n",
              "            '<a target=\"_blank\" href=https://colab.research.google.com/notebooks/data_table.ipynb>data table notebook</a>'\n",
              "            + ' to learn more about interactive tables.';\n",
              "          element.innerHTML = '';\n",
              "          dataTable['output_type'] = 'display_data';\n",
              "          await google.colab.output.renderOutput(dataTable, element);\n",
              "          const docLink = document.createElement('div');\n",
              "          docLink.innerHTML = docLinkHtml;\n",
              "          element.appendChild(docLink);\n",
              "        }\n",
              "      </script>\n",
              "    </div>\n",
              "  </div>\n",
              "  "
            ]
          },
          "metadata": {},
          "execution_count": 27
        }
      ],
      "source": [
        "pd.DataFrame(X_train_vectorized.toarray(), columns=vectorizer.get_feature_names_out()).head()"
      ]
    },
    {
      "cell_type": "markdown",
      "metadata": {
        "id": "ZkBIjGpwwBzW"
      },
      "source": [
        "### Бейзлайн"
      ]
    },
    {
      "cell_type": "code",
      "execution_count": null,
      "metadata": {
        "id": "dqIFOxLiwBzX"
      },
      "outputs": [],
      "source": [
        "from sklearn.dummy import DummyClassifier\n",
        "from sklearn.linear_model import LogisticRegression\n",
        "from sklearn.metrics import classification_report"
      ]
    },
    {
      "cell_type": "markdown",
      "metadata": {
        "id": "G2zLdufqwBzY"
      },
      "source": [
        "Константное предсказание"
      ]
    },
    {
      "cell_type": "code",
      "execution_count": null,
      "metadata": {
        "id": "cG1NzU9CwBzZ",
        "colab": {
          "base_uri": "https://localhost:8080/"
        },
        "outputId": "0a023d15-5a0c-4382-c4b9-60fed67ad8d6"
      },
      "outputs": [
        {
          "output_type": "stream",
          "name": "stdout",
          "text": [
            "              precision    recall  f1-score   support\n",
            "\n",
            "           0       0.83      1.00      0.91       620\n",
            "           1       0.00      0.00      0.00       130\n",
            "\n",
            "    accuracy                           0.83       750\n",
            "   macro avg       0.41      0.50      0.45       750\n",
            "weighted avg       0.68      0.83      0.75       750\n",
            "\n"
          ]
        }
      ],
      "source": [
        "dummy_clf = DummyClassifier(strategy=\"most_frequent\").fit(X_train_vectorized, y_train)\n",
        "preds = dummy_clf.predict(X_test_vectorized)\n",
        "print(classification_report(y_test, preds, zero_division=0))"
      ]
    },
    {
      "cell_type": "markdown",
      "metadata": {
        "id": "IxVczbz3wBza"
      },
      "source": [
        "Логистическая регрессия"
      ]
    },
    {
      "cell_type": "code",
      "execution_count": null,
      "metadata": {
        "id": "vfNBzb31wBzb",
        "colab": {
          "base_uri": "https://localhost:8080/"
        },
        "outputId": "af8316dd-f1fe-43aa-f342-d7e8e4fbfc7e"
      },
      "outputs": [
        {
          "output_type": "stream",
          "name": "stdout",
          "text": [
            "              precision    recall  f1-score   support\n",
            "\n",
            "           0       0.98      1.00      0.99       620\n",
            "           1       0.99      0.92      0.95       130\n",
            "\n",
            "    accuracy                           0.98       750\n",
            "   macro avg       0.99      0.96      0.97       750\n",
            "weighted avg       0.98      0.98      0.98       750\n",
            "\n"
          ]
        }
      ],
      "source": [
        "logreg = LogisticRegression().fit(X_train_vectorized, y_train)\n",
        "preds = logreg.predict(X_test_vectorized)\n",
        "print(classification_report(y_test, preds))"
      ]
    },
    {
      "cell_type": "markdown",
      "metadata": {
        "id": "7wbWWmMvwBzc"
      },
      "source": [
        "Предопределим токенезатор.  \n",
        "    Оставим только английские буквы"
      ]
    },
    {
      "cell_type": "code",
      "execution_count": null,
      "metadata": {
        "id": "qoSNLEgwwBzd"
      },
      "outputs": [],
      "source": [
        "import re"
      ]
    },
    {
      "cell_type": "code",
      "execution_count": null,
      "metadata": {
        "id": "z9l0Xq88wBzf"
      },
      "outputs": [],
      "source": [
        "def custom_tokenize(text):\n",
        "  text = re.sub(r'[^a-zA-Z ]', '', text)\n",
        "  return text.split()"
      ]
    },
    {
      "cell_type": "code",
      "execution_count": null,
      "metadata": {
        "id": "0hBpWTg7wBzh",
        "colab": {
          "base_uri": "https://localhost:8080/"
        },
        "outputId": "5aa7f012-7d9d-40f9-b187-d59d32dc1dee"
      },
      "outputs": [
        {
          "output_type": "stream",
          "name": "stderr",
          "text": [
            "/usr/local/lib/python3.9/dist-packages/sklearn/feature_extraction/text.py:528: UserWarning: The parameter 'token_pattern' will not be used since 'tokenizer' is not None'\n",
            "  warnings.warn(\n"
          ]
        }
      ],
      "source": [
        "custom_vectorizer = CountVectorizer(\n",
        "    max_df=0.7, \n",
        "    min_df=0.003, \n",
        "    tokenizer=custom_tokenize, # аналогично можно переопределить preprocessor\n",
        ") \n",
        "X_train_custom_vectorized = custom_vectorizer.fit_transform(X_train)\n",
        "X_test_custom_vectorized = custom_vectorizer.transform(X_test)"
      ]
    },
    {
      "cell_type": "code",
      "execution_count": null,
      "metadata": {
        "id": "xW6M0-xDwBzj",
        "colab": {
          "base_uri": "https://localhost:8080/"
        },
        "outputId": "3f785646-213b-49be-dec3-1e18490dead0"
      },
      "outputs": [
        {
          "output_type": "execute_result",
          "data": {
            "text/plain": [
              "<2250x3867 sparse matrix of type '<class 'numpy.int64'>'\n",
              "\twith 138326 stored elements in Compressed Sparse Row format>"
            ]
          },
          "metadata": {},
          "execution_count": 34
        }
      ],
      "source": [
        "X_train_custom_vectorized"
      ]
    },
    {
      "cell_type": "code",
      "execution_count": null,
      "metadata": {
        "id": "ALN79iirwBzk",
        "colab": {
          "base_uri": "https://localhost:8080/"
        },
        "outputId": "3c2b8398-d581-40ae-a427-806121ea3f19"
      },
      "outputs": [
        {
          "output_type": "execute_result",
          "data": {
            "text/plain": [
              "array(['aa', 'abandon', 'ability', ..., 'zone', 'zope', 'zzzz'],\n",
              "      dtype=object)"
            ]
          },
          "metadata": {},
          "execution_count": 35
        }
      ],
      "source": [
        "custom_vectorizer.get_feature_names_out()"
      ]
    },
    {
      "cell_type": "code",
      "execution_count": null,
      "metadata": {
        "id": "bX20pzSZwBzl",
        "colab": {
          "base_uri": "https://localhost:8080/",
          "height": 235
        },
        "outputId": "af8abb56-4791-42b2-b784-c1af88938451"
      },
      "outputs": [
        {
          "output_type": "execute_result",
          "data": {
            "text/plain": [
              "   aa  abandon  ability  able  abroad  absence  absolute  absolutely  \\\n",
              "0   0        0        0     0       0        0         0           0   \n",
              "1   0        0        0     0       0        0         2           0   \n",
              "2   0        0        0     0       0        0         0           0   \n",
              "3   0        0        0     0       0        0         0           0   \n",
              "4   0        0        0     0       0        0         0           0   \n",
              "\n",
              "   abstract  abuse  ...  yup  z  zealand  zealot  zero  ziggy  zip  zone  \\\n",
              "0         0      0  ...    0  0        0       0     0      0    0     0   \n",
              "1         0      0  ...    0  0        0       0     0      0    0     0   \n",
              "2         0      0  ...    0  0        0       0     0      0    0     0   \n",
              "3         0      0  ...    0  0        0       0     0      0    0     0   \n",
              "4         0      0  ...    0  0        0       0     0      0    0     0   \n",
              "\n",
              "   zope  zzzz  \n",
              "0     0     0  \n",
              "1     0     0  \n",
              "2     0     0  \n",
              "3     0     0  \n",
              "4     0     0  \n",
              "\n",
              "[5 rows x 3867 columns]"
            ],
            "text/html": [
              "\n",
              "  <div id=\"df-cd7469f6-d0f3-4dbf-b75c-e4985b268dd2\">\n",
              "    <div class=\"colab-df-container\">\n",
              "      <div>\n",
              "<style scoped>\n",
              "    .dataframe tbody tr th:only-of-type {\n",
              "        vertical-align: middle;\n",
              "    }\n",
              "\n",
              "    .dataframe tbody tr th {\n",
              "        vertical-align: top;\n",
              "    }\n",
              "\n",
              "    .dataframe thead th {\n",
              "        text-align: right;\n",
              "    }\n",
              "</style>\n",
              "<table border=\"1\" class=\"dataframe\">\n",
              "  <thead>\n",
              "    <tr style=\"text-align: right;\">\n",
              "      <th></th>\n",
              "      <th>aa</th>\n",
              "      <th>abandon</th>\n",
              "      <th>ability</th>\n",
              "      <th>able</th>\n",
              "      <th>abroad</th>\n",
              "      <th>absence</th>\n",
              "      <th>absolute</th>\n",
              "      <th>absolutely</th>\n",
              "      <th>abstract</th>\n",
              "      <th>abuse</th>\n",
              "      <th>...</th>\n",
              "      <th>yup</th>\n",
              "      <th>z</th>\n",
              "      <th>zealand</th>\n",
              "      <th>zealot</th>\n",
              "      <th>zero</th>\n",
              "      <th>ziggy</th>\n",
              "      <th>zip</th>\n",
              "      <th>zone</th>\n",
              "      <th>zope</th>\n",
              "      <th>zzzz</th>\n",
              "    </tr>\n",
              "  </thead>\n",
              "  <tbody>\n",
              "    <tr>\n",
              "      <th>0</th>\n",
              "      <td>0</td>\n",
              "      <td>0</td>\n",
              "      <td>0</td>\n",
              "      <td>0</td>\n",
              "      <td>0</td>\n",
              "      <td>0</td>\n",
              "      <td>0</td>\n",
              "      <td>0</td>\n",
              "      <td>0</td>\n",
              "      <td>0</td>\n",
              "      <td>...</td>\n",
              "      <td>0</td>\n",
              "      <td>0</td>\n",
              "      <td>0</td>\n",
              "      <td>0</td>\n",
              "      <td>0</td>\n",
              "      <td>0</td>\n",
              "      <td>0</td>\n",
              "      <td>0</td>\n",
              "      <td>0</td>\n",
              "      <td>0</td>\n",
              "    </tr>\n",
              "    <tr>\n",
              "      <th>1</th>\n",
              "      <td>0</td>\n",
              "      <td>0</td>\n",
              "      <td>0</td>\n",
              "      <td>0</td>\n",
              "      <td>0</td>\n",
              "      <td>0</td>\n",
              "      <td>2</td>\n",
              "      <td>0</td>\n",
              "      <td>0</td>\n",
              "      <td>0</td>\n",
              "      <td>...</td>\n",
              "      <td>0</td>\n",
              "      <td>0</td>\n",
              "      <td>0</td>\n",
              "      <td>0</td>\n",
              "      <td>0</td>\n",
              "      <td>0</td>\n",
              "      <td>0</td>\n",
              "      <td>0</td>\n",
              "      <td>0</td>\n",
              "      <td>0</td>\n",
              "    </tr>\n",
              "    <tr>\n",
              "      <th>2</th>\n",
              "      <td>0</td>\n",
              "      <td>0</td>\n",
              "      <td>0</td>\n",
              "      <td>0</td>\n",
              "      <td>0</td>\n",
              "      <td>0</td>\n",
              "      <td>0</td>\n",
              "      <td>0</td>\n",
              "      <td>0</td>\n",
              "      <td>0</td>\n",
              "      <td>...</td>\n",
              "      <td>0</td>\n",
              "      <td>0</td>\n",
              "      <td>0</td>\n",
              "      <td>0</td>\n",
              "      <td>0</td>\n",
              "      <td>0</td>\n",
              "      <td>0</td>\n",
              "      <td>0</td>\n",
              "      <td>0</td>\n",
              "      <td>0</td>\n",
              "    </tr>\n",
              "    <tr>\n",
              "      <th>3</th>\n",
              "      <td>0</td>\n",
              "      <td>0</td>\n",
              "      <td>0</td>\n",
              "      <td>0</td>\n",
              "      <td>0</td>\n",
              "      <td>0</td>\n",
              "      <td>0</td>\n",
              "      <td>0</td>\n",
              "      <td>0</td>\n",
              "      <td>0</td>\n",
              "      <td>...</td>\n",
              "      <td>0</td>\n",
              "      <td>0</td>\n",
              "      <td>0</td>\n",
              "      <td>0</td>\n",
              "      <td>0</td>\n",
              "      <td>0</td>\n",
              "      <td>0</td>\n",
              "      <td>0</td>\n",
              "      <td>0</td>\n",
              "      <td>0</td>\n",
              "    </tr>\n",
              "    <tr>\n",
              "      <th>4</th>\n",
              "      <td>0</td>\n",
              "      <td>0</td>\n",
              "      <td>0</td>\n",
              "      <td>0</td>\n",
              "      <td>0</td>\n",
              "      <td>0</td>\n",
              "      <td>0</td>\n",
              "      <td>0</td>\n",
              "      <td>0</td>\n",
              "      <td>0</td>\n",
              "      <td>...</td>\n",
              "      <td>0</td>\n",
              "      <td>0</td>\n",
              "      <td>0</td>\n",
              "      <td>0</td>\n",
              "      <td>0</td>\n",
              "      <td>0</td>\n",
              "      <td>0</td>\n",
              "      <td>0</td>\n",
              "      <td>0</td>\n",
              "      <td>0</td>\n",
              "    </tr>\n",
              "  </tbody>\n",
              "</table>\n",
              "<p>5 rows × 3867 columns</p>\n",
              "</div>\n",
              "      <button class=\"colab-df-convert\" onclick=\"convertToInteractive('df-cd7469f6-d0f3-4dbf-b75c-e4985b268dd2')\"\n",
              "              title=\"Convert this dataframe to an interactive table.\"\n",
              "              style=\"display:none;\">\n",
              "        \n",
              "  <svg xmlns=\"http://www.w3.org/2000/svg\" height=\"24px\"viewBox=\"0 0 24 24\"\n",
              "       width=\"24px\">\n",
              "    <path d=\"M0 0h24v24H0V0z\" fill=\"none\"/>\n",
              "    <path d=\"M18.56 5.44l.94 2.06.94-2.06 2.06-.94-2.06-.94-.94-2.06-.94 2.06-2.06.94zm-11 1L8.5 8.5l.94-2.06 2.06-.94-2.06-.94L8.5 2.5l-.94 2.06-2.06.94zm10 10l.94 2.06.94-2.06 2.06-.94-2.06-.94-.94-2.06-.94 2.06-2.06.94z\"/><path d=\"M17.41 7.96l-1.37-1.37c-.4-.4-.92-.59-1.43-.59-.52 0-1.04.2-1.43.59L10.3 9.45l-7.72 7.72c-.78.78-.78 2.05 0 2.83L4 21.41c.39.39.9.59 1.41.59.51 0 1.02-.2 1.41-.59l7.78-7.78 2.81-2.81c.8-.78.8-2.07 0-2.86zM5.41 20L4 18.59l7.72-7.72 1.47 1.35L5.41 20z\"/>\n",
              "  </svg>\n",
              "      </button>\n",
              "      \n",
              "  <style>\n",
              "    .colab-df-container {\n",
              "      display:flex;\n",
              "      flex-wrap:wrap;\n",
              "      gap: 12px;\n",
              "    }\n",
              "\n",
              "    .colab-df-convert {\n",
              "      background-color: #E8F0FE;\n",
              "      border: none;\n",
              "      border-radius: 50%;\n",
              "      cursor: pointer;\n",
              "      display: none;\n",
              "      fill: #1967D2;\n",
              "      height: 32px;\n",
              "      padding: 0 0 0 0;\n",
              "      width: 32px;\n",
              "    }\n",
              "\n",
              "    .colab-df-convert:hover {\n",
              "      background-color: #E2EBFA;\n",
              "      box-shadow: 0px 1px 2px rgba(60, 64, 67, 0.3), 0px 1px 3px 1px rgba(60, 64, 67, 0.15);\n",
              "      fill: #174EA6;\n",
              "    }\n",
              "\n",
              "    [theme=dark] .colab-df-convert {\n",
              "      background-color: #3B4455;\n",
              "      fill: #D2E3FC;\n",
              "    }\n",
              "\n",
              "    [theme=dark] .colab-df-convert:hover {\n",
              "      background-color: #434B5C;\n",
              "      box-shadow: 0px 1px 3px 1px rgba(0, 0, 0, 0.15);\n",
              "      filter: drop-shadow(0px 1px 2px rgba(0, 0, 0, 0.3));\n",
              "      fill: #FFFFFF;\n",
              "    }\n",
              "  </style>\n",
              "\n",
              "      <script>\n",
              "        const buttonEl =\n",
              "          document.querySelector('#df-cd7469f6-d0f3-4dbf-b75c-e4985b268dd2 button.colab-df-convert');\n",
              "        buttonEl.style.display =\n",
              "          google.colab.kernel.accessAllowed ? 'block' : 'none';\n",
              "\n",
              "        async function convertToInteractive(key) {\n",
              "          const element = document.querySelector('#df-cd7469f6-d0f3-4dbf-b75c-e4985b268dd2');\n",
              "          const dataTable =\n",
              "            await google.colab.kernel.invokeFunction('convertToInteractive',\n",
              "                                                     [key], {});\n",
              "          if (!dataTable) return;\n",
              "\n",
              "          const docLinkHtml = 'Like what you see? Visit the ' +\n",
              "            '<a target=\"_blank\" href=https://colab.research.google.com/notebooks/data_table.ipynb>data table notebook</a>'\n",
              "            + ' to learn more about interactive tables.';\n",
              "          element.innerHTML = '';\n",
              "          dataTable['output_type'] = 'display_data';\n",
              "          await google.colab.output.renderOutput(dataTable, element);\n",
              "          const docLink = document.createElement('div');\n",
              "          docLink.innerHTML = docLinkHtml;\n",
              "          element.appendChild(docLink);\n",
              "        }\n",
              "      </script>\n",
              "    </div>\n",
              "  </div>\n",
              "  "
            ]
          },
          "metadata": {},
          "execution_count": 36
        }
      ],
      "source": [
        "pd.DataFrame(X_train_custom_vectorized.toarray(), columns=custom_vectorizer.get_feature_names_out()).head()"
      ]
    },
    {
      "cell_type": "code",
      "execution_count": null,
      "metadata": {
        "id": "F-xRT7lDwBzm",
        "colab": {
          "base_uri": "https://localhost:8080/"
        },
        "outputId": "cc11be74-10ba-4995-b9ec-8670e6d797d8"
      },
      "outputs": [
        {
          "output_type": "stream",
          "name": "stdout",
          "text": [
            "Текущий результат\n",
            "              precision    recall  f1-score   support\n",
            "\n",
            "           0       0.98      1.00      0.99       620\n",
            "           1       0.98      0.92      0.95       130\n",
            "\n",
            "    accuracy                           0.98       750\n",
            "   macro avg       0.98      0.96      0.97       750\n",
            "weighted avg       0.98      0.98      0.98       750\n",
            "\n",
            "--------------------------------------------------------\n",
            "Прошлый результат\n",
            "              precision    recall  f1-score   support\n",
            "\n",
            "           0       0.98      1.00      0.99       620\n",
            "           1       0.99      0.92      0.95       130\n",
            "\n",
            "    accuracy                           0.98       750\n",
            "   macro avg       0.99      0.96      0.97       750\n",
            "weighted avg       0.98      0.98      0.98       750\n",
            "\n"
          ]
        }
      ],
      "source": [
        "logreg_custom = LogisticRegression().fit(X_train_custom_vectorized, y_train)\n",
        "preds_custom = logreg_custom.predict(X_test_custom_vectorized)\n",
        "print(\"Текущий результат\")\n",
        "print(classification_report(y_test, preds_custom))\n",
        "print('--------------------------------------------------------')\n",
        "print('Прошлый результат')\n",
        "print(classification_report(y_test, preds))"
      ]
    },
    {
      "cell_type": "code",
      "execution_count": null,
      "metadata": {
        "id": "sp2kWq4-wBzn"
      },
      "outputs": [],
      "source": []
    },
    {
      "cell_type": "markdown",
      "metadata": {
        "id": "ieBP7brnwBzo"
      },
      "source": [
        "#### TfidfTransformer vs  TfidfVectorizer"
      ]
    },
    {
      "cell_type": "code",
      "execution_count": null,
      "metadata": {
        "id": "ATvgYo4WwBzp"
      },
      "outputs": [],
      "source": [
        "from sklearn.feature_extraction.text import TfidfTransformer,  TfidfVectorizer\n",
        "from sklearn.pipeline import Pipeline"
      ]
    },
    {
      "cell_type": "markdown",
      "metadata": {
        "id": "0NmIwS5YwBzq"
      },
      "source": [
        "**TfidfTransformer** преобразует матрицу из CountVectorizer в tf-idf"
      ]
    },
    {
      "cell_type": "code",
      "execution_count": null,
      "metadata": {
        "id": "NNZaAYZlwBzq"
      },
      "outputs": [],
      "source": [
        "pipe = Pipeline(\n",
        "    steps=[\n",
        "        ('counter', CountVectorizer()),\n",
        "        ('tfidf', TfidfTransformer()),\n",
        "        ('clf', LogisticRegression())\n",
        "    ]\n",
        ").fit(X_train, y_train)\n",
        "preds1 = pipe.predict(X_test)"
      ]
    },
    {
      "cell_type": "code",
      "execution_count": null,
      "metadata": {
        "id": "qEbMY_YJwBzr"
      },
      "outputs": [],
      "source": [
        "pipe = Pipeline(\n",
        "    steps=[\n",
        "        ('counter', CountVectorizer(max_df=0.7, min_df=0.003)),\n",
        "        ('tfidf', TfidfTransformer()),\n",
        "        ('clf', LogisticRegression())\n",
        "    ]\n",
        ").fit(X_train, y_train)\n",
        "preds2 = pipe.predict(X_test)"
      ]
    },
    {
      "cell_type": "code",
      "execution_count": null,
      "metadata": {
        "id": "SpVKKBXawBzs",
        "colab": {
          "base_uri": "https://localhost:8080/"
        },
        "outputId": "ffd2a381-27ad-4029-8828-29d7508675c7"
      },
      "outputs": [
        {
          "output_type": "stream",
          "name": "stderr",
          "text": [
            "/usr/local/lib/python3.9/dist-packages/sklearn/feature_extraction/text.py:528: UserWarning: The parameter 'token_pattern' will not be used since 'tokenizer' is not None'\n",
            "  warnings.warn(\n"
          ]
        }
      ],
      "source": [
        "pipe = Pipeline(\n",
        "    steps=[\n",
        "        ('counter', CountVectorizer(max_df=0.7, min_df=0.003, tokenizer=custom_tokenize)),\n",
        "        ('tfidf', TfidfTransformer()),\n",
        "        ('clf', LogisticRegression())\n",
        "    ]\n",
        ").fit(X_train, y_train)\n",
        "preds3 = pipe.predict(X_test)"
      ]
    },
    {
      "cell_type": "code",
      "execution_count": null,
      "metadata": {
        "id": "7LV2aoLCwBzt",
        "colab": {
          "base_uri": "https://localhost:8080/"
        },
        "outputId": "590cb491-418a-47b2-9ac9-6399cccb7235"
      },
      "outputs": [
        {
          "output_type": "stream",
          "name": "stdout",
          "text": [
            "Вариант 1\n",
            "              precision    recall  f1-score   support\n",
            "\n",
            "           0       0.95      1.00      0.97       620\n",
            "           1       1.00      0.72      0.84       130\n",
            "\n",
            "    accuracy                           0.95       750\n",
            "   macro avg       0.97      0.86      0.91       750\n",
            "weighted avg       0.95      0.95      0.95       750\n",
            "\n",
            "-------------------------------------------------\n",
            "Вариант 2\n",
            "              precision    recall  f1-score   support\n",
            "\n",
            "           0       0.96      1.00      0.98       620\n",
            "           1       1.00      0.78      0.88       130\n",
            "\n",
            "    accuracy                           0.96       750\n",
            "   macro avg       0.98      0.89      0.93       750\n",
            "weighted avg       0.96      0.96      0.96       750\n",
            "\n",
            "-------------------------------------------------\n",
            "Вариант 3\n",
            "              precision    recall  f1-score   support\n",
            "\n",
            "           0       0.96      1.00      0.98       620\n",
            "           1       1.00      0.80      0.89       130\n",
            "\n",
            "    accuracy                           0.97       750\n",
            "   macro avg       0.98      0.90      0.93       750\n",
            "weighted avg       0.97      0.97      0.96       750\n",
            "\n"
          ]
        }
      ],
      "source": [
        "print(\"Вариант 1\")\n",
        "print(classification_report(y_test, preds1))\n",
        "print(\"-------------------------------------------------\")\n",
        "print(\"Вариант 2\")\n",
        "print(classification_report(y_test, preds2))\n",
        "print(\"-------------------------------------------------\")\n",
        "print(\"Вариант 3\")\n",
        "print(classification_report(y_test, preds3))"
      ]
    },
    {
      "cell_type": "code",
      "execution_count": null,
      "metadata": {
        "id": "aoQau-pdwBzu",
        "colab": {
          "base_uri": "https://localhost:8080/"
        },
        "outputId": "381daf57-6bf9-4d23-e764-37887651b12c"
      },
      "outputs": [
        {
          "output_type": "stream",
          "name": "stderr",
          "text": [
            "/usr/local/lib/python3.9/dist-packages/sklearn/feature_extraction/text.py:528: UserWarning: The parameter 'token_pattern' will not be used since 'tokenizer' is not None'\n",
            "  warnings.warn(\n"
          ]
        },
        {
          "output_type": "stream",
          "name": "stdout",
          "text": [
            "Вариант 3\n",
            "              precision    recall  f1-score   support\n",
            "\n",
            "           0       0.96      1.00      0.98       620\n",
            "           1       1.00      0.80      0.89       130\n",
            "\n",
            "    accuracy                           0.97       750\n",
            "   macro avg       0.98      0.90      0.93       750\n",
            "weighted avg       0.97      0.97      0.96       750\n",
            "\n",
            "-------------------------------------------------\n",
            "Вариант 4\n",
            "              precision    recall  f1-score   support\n",
            "\n",
            "           0       0.96      1.00      0.98       620\n",
            "           1       1.00      0.80      0.89       130\n",
            "\n",
            "    accuracy                           0.97       750\n",
            "   macro avg       0.98      0.90      0.93       750\n",
            "weighted avg       0.97      0.97      0.96       750\n",
            "\n"
          ]
        }
      ],
      "source": [
        "# А теперь попробуем TfidfVectorizer.\n",
        "pipe = Pipeline(\n",
        "    steps=[\n",
        "        ('tfidf', TfidfVectorizer(max_df=0.7, min_df=0.003, tokenizer=custom_tokenize)),\n",
        "        ('clf', LogisticRegression())\n",
        "    ]\n",
        ").fit(X_train, y_train)\n",
        "preds4 = pipe.predict(X_test)\n",
        "\n",
        "\n",
        "print(\"Вариант 3\")\n",
        "print(classification_report(y_test, preds3))\n",
        "print(\"-------------------------------------------------\")\n",
        "print(\"Вариант 4\")\n",
        "print(classification_report(y_test, preds4))"
      ]
    },
    {
      "cell_type": "markdown",
      "metadata": {
        "id": "IJICXOBXwBzz"
      },
      "source": [
        "Оптимизируем гиперпараметры\n"
      ]
    },
    {
      "cell_type": "markdown",
      "metadata": {
        "id": "xYSnt8RxwBz0"
      },
      "source": [
        "### Обучим  TfidfVectorizer, LogisticRegression"
      ]
    },
    {
      "cell_type": "code",
      "execution_count": null,
      "metadata": {
        "id": "6jwwEAOwwBz1"
      },
      "outputs": [],
      "source": [
        "pipe = Pipeline(\n",
        "    steps=[\n",
        "        ('tfidf', TfidfVectorizer()),\n",
        "        ('clf', LogisticRegression())\n",
        "    ]\n",
        ")"
      ]
    },
    {
      "cell_type": "code",
      "execution_count": null,
      "metadata": {
        "id": "SGVAi5lswBz2"
      },
      "outputs": [],
      "source": [
        "import numpy as np"
      ]
    },
    {
      "cell_type": "code",
      "execution_count": null,
      "metadata": {
        "id": "yLPw--XowBz3"
      },
      "outputs": [],
      "source": [
        "parameter_grid = {\n",
        "    \"tfidf__max_df\": np.linspace(0.3, 0.7, 20),\n",
        "    \"tfidf__min_df\": [0.0, 0.001, 0.003, 0.005, 0.007],\n",
        "    \"tfidf__ngram_range\": ((1, 1), (1, 2)),  # слова или биграммы\n",
        "    \"tfidf__norm\": (\"l1\", \"l2\"),\n",
        "    \"clf__C\": np.linspace(0.1, 1, 10),\n",
        "}"
      ]
    },
    {
      "cell_type": "code",
      "execution_count": null,
      "metadata": {
        "id": "ApqF6-EowBz4"
      },
      "outputs": [],
      "source": [
        "from sklearn.experimental import enable_halving_search_cv\n",
        "from sklearn.model_selection import HalvingGridSearchCV"
      ]
    },
    {
      "cell_type": "code",
      "execution_count": null,
      "metadata": {
        "id": "k8JpG-_bwBz5",
        "colab": {
          "base_uri": "https://localhost:8080/",
          "height": 1000
        },
        "outputId": "ecef6747-1e6a-4028-f918-ae9c8a9a9568"
      },
      "outputs": [
        {
          "output_type": "stream",
          "name": "stdout",
          "text": [
            "n_iterations: 6\n",
            "n_required_iterations: 8\n",
            "n_possible_iterations: 6\n",
            "min_resources_: 8\n",
            "max_resources_: 2250\n",
            "aggressive_elimination: False\n",
            "factor: 3\n",
            "----------\n",
            "iter: 0\n",
            "n_candidates: 4000\n",
            "n_resources: 8\n",
            "Fitting 2 folds for each of 4000 candidates, totalling 8000 fits\n"
          ]
        },
        {
          "output_type": "stream",
          "name": "stderr",
          "text": [
            "/usr/local/lib/python3.9/dist-packages/sklearn/model_selection/_validation.py:378: FitFailedWarning: \n",
            "4000 fits failed out of a total of 8000.\n",
            "The score on these train-test partitions for these parameters will be set to nan.\n",
            "If these failures are not expected, you can try to debug them by setting error_score='raise'.\n",
            "\n",
            "Below are more details about the failures:\n",
            "--------------------------------------------------------------------------------\n",
            "4000 fits failed with the following error:\n",
            "Traceback (most recent call last):\n",
            "  File \"/usr/local/lib/python3.9/dist-packages/sklearn/model_selection/_validation.py\", line 686, in _fit_and_score\n",
            "    estimator.fit(X_train, y_train, **fit_params)\n",
            "  File \"/usr/local/lib/python3.9/dist-packages/sklearn/pipeline.py\", line 405, in fit\n",
            "    self._final_estimator.fit(Xt, y, **fit_params_last_step)\n",
            "  File \"/usr/local/lib/python3.9/dist-packages/sklearn/linear_model/_logistic.py\", line 1241, in fit\n",
            "    raise ValueError(\n",
            "ValueError: This solver needs samples of at least 2 classes in the data, but the data contains only one class: 0\n",
            "\n",
            "  warnings.warn(some_fits_failed_message, FitFailedWarning)\n",
            "/usr/local/lib/python3.9/dist-packages/sklearn/model_selection/_search.py:952: UserWarning: One or more of the test scores are non-finite: [nan nan nan ... nan nan nan]\n",
            "  warnings.warn(\n",
            "/usr/local/lib/python3.9/dist-packages/sklearn/model_selection/_search.py:952: UserWarning: One or more of the train scores are non-finite: [nan nan nan ... nan nan nan]\n",
            "  warnings.warn(\n"
          ]
        },
        {
          "output_type": "stream",
          "name": "stdout",
          "text": [
            "----------\n",
            "iter: 1\n",
            "n_candidates: 1334\n",
            "n_resources: 24\n",
            "Fitting 2 folds for each of 1334 candidates, totalling 2668 fits\n"
          ]
        },
        {
          "output_type": "stream",
          "name": "stderr",
          "text": [
            "/usr/local/lib/python3.9/dist-packages/sklearn/model_selection/_search.py:952: UserWarning: One or more of the test scores are non-finite: [       nan        nan        nan ... 0.95833333 0.95833333 0.95833333]\n",
            "  warnings.warn(\n",
            "/usr/local/lib/python3.9/dist-packages/sklearn/model_selection/_search.py:952: UserWarning: One or more of the train scores are non-finite: [       nan        nan        nan ... 0.79166667 0.79166667 0.79166667]\n",
            "  warnings.warn(\n"
          ]
        },
        {
          "output_type": "stream",
          "name": "stdout",
          "text": [
            "----------\n",
            "iter: 2\n",
            "n_candidates: 445\n",
            "n_resources: 72\n",
            "Fitting 2 folds for each of 445 candidates, totalling 890 fits\n"
          ]
        },
        {
          "output_type": "stream",
          "name": "stderr",
          "text": [
            "/usr/local/lib/python3.9/dist-packages/sklearn/model_selection/_search.py:952: UserWarning: One or more of the test scores are non-finite: [       nan        nan        nan ... 0.83333333 0.83333333 0.83333333]\n",
            "  warnings.warn(\n",
            "/usr/local/lib/python3.9/dist-packages/sklearn/model_selection/_search.py:952: UserWarning: One or more of the train scores are non-finite: [       nan        nan        nan ... 0.86111111 0.86111111 0.86111111]\n",
            "  warnings.warn(\n"
          ]
        },
        {
          "output_type": "stream",
          "name": "stdout",
          "text": [
            "----------\n",
            "iter: 3\n",
            "n_candidates: 149\n",
            "n_resources: 216\n",
            "Fitting 2 folds for each of 149 candidates, totalling 298 fits\n"
          ]
        },
        {
          "output_type": "stream",
          "name": "stderr",
          "text": [
            "/usr/local/lib/python3.9/dist-packages/sklearn/model_selection/_search.py:952: UserWarning: One or more of the test scores are non-finite: [       nan        nan        nan ... 0.81018519 0.81018519 0.81018519]\n",
            "  warnings.warn(\n",
            "/usr/local/lib/python3.9/dist-packages/sklearn/model_selection/_search.py:952: UserWarning: One or more of the train scores are non-finite: [       nan        nan        nan ... 0.84259259 0.84259259 0.84259259]\n",
            "  warnings.warn(\n"
          ]
        },
        {
          "output_type": "stream",
          "name": "stdout",
          "text": [
            "----------\n",
            "iter: 4\n",
            "n_candidates: 50\n",
            "n_resources: 648\n",
            "Fitting 2 folds for each of 50 candidates, totalling 100 fits\n"
          ]
        },
        {
          "output_type": "stream",
          "name": "stderr",
          "text": [
            "/usr/local/lib/python3.9/dist-packages/sklearn/model_selection/_search.py:952: UserWarning: One or more of the test scores are non-finite: [       nan        nan        nan ... 0.82716049 0.82716049 0.875     ]\n",
            "  warnings.warn(\n",
            "/usr/local/lib/python3.9/dist-packages/sklearn/model_selection/_search.py:952: UserWarning: One or more of the train scores are non-finite: [       nan        nan        nan ... 0.81944444 0.81944444 0.91666667]\n",
            "  warnings.warn(\n"
          ]
        },
        {
          "output_type": "stream",
          "name": "stdout",
          "text": [
            "----------\n",
            "iter: 5\n",
            "n_candidates: 17\n",
            "n_resources: 1944\n",
            "Fitting 2 folds for each of 17 candidates, totalling 34 fits\n"
          ]
        },
        {
          "output_type": "stream",
          "name": "stderr",
          "text": [
            "/usr/local/lib/python3.9/dist-packages/sklearn/model_selection/_search.py:952: UserWarning: One or more of the test scores are non-finite: [       nan        nan        nan ... 0.90020576 0.9063786  0.94598765]\n",
            "  warnings.warn(\n",
            "/usr/local/lib/python3.9/dist-packages/sklearn/model_selection/_search.py:952: UserWarning: One or more of the train scores are non-finite: [       nan        nan        nan ... 0.90740741 0.91358025 0.96399177]\n",
            "  warnings.warn(\n"
          ]
        },
        {
          "output_type": "stream",
          "name": "stdout",
          "text": [
            "CPU times: user 14 s, sys: 963 ms, total: 15 s\n",
            "Wall time: 2min 48s\n"
          ]
        },
        {
          "output_type": "execute_result",
          "data": {
            "text/plain": [
              "HalvingGridSearchCV(cv=2,\n",
              "                    estimator=Pipeline(steps=[('tfidf', TfidfVectorizer()),\n",
              "                                              ('clf', LogisticRegression())]),\n",
              "                    n_jobs=-1,\n",
              "                    param_grid={'clf__C': array([0.1, 0.2, 0.3, 0.4, 0.5, 0.6, 0.7, 0.8, 0.9, 1. ]),\n",
              "                                'tfidf__max_df': array([0.3       , 0.32105263, 0.34210526, 0.36315789, 0.38421053,\n",
              "       0.40526316, 0.42631579, 0.44736842, 0.46842105, 0.48947368,\n",
              "       0.51052632, 0.53157895, 0.55263158, 0.57368421, 0.59473684,\n",
              "       0.61578947, 0.63684211, 0.65789474, 0.67894737, 0.7       ]),\n",
              "                                'tfidf__min_df': [0.0, 0.001, 0.003, 0.005,\n",
              "                                                  0.007],\n",
              "                                'tfidf__ngram_range': ((1, 1), (1, 2)),\n",
              "                                'tfidf__norm': ('l1', 'l2')},\n",
              "                    scoring='accuracy', verbose=1)"
            ],
            "text/html": [
              "<style>#sk-container-id-1 {color: black;background-color: white;}#sk-container-id-1 pre{padding: 0;}#sk-container-id-1 div.sk-toggleable {background-color: white;}#sk-container-id-1 label.sk-toggleable__label {cursor: pointer;display: block;width: 100%;margin-bottom: 0;padding: 0.3em;box-sizing: border-box;text-align: center;}#sk-container-id-1 label.sk-toggleable__label-arrow:before {content: \"▸\";float: left;margin-right: 0.25em;color: #696969;}#sk-container-id-1 label.sk-toggleable__label-arrow:hover:before {color: black;}#sk-container-id-1 div.sk-estimator:hover label.sk-toggleable__label-arrow:before {color: black;}#sk-container-id-1 div.sk-toggleable__content {max-height: 0;max-width: 0;overflow: hidden;text-align: left;background-color: #f0f8ff;}#sk-container-id-1 div.sk-toggleable__content pre {margin: 0.2em;color: black;border-radius: 0.25em;background-color: #f0f8ff;}#sk-container-id-1 input.sk-toggleable__control:checked~div.sk-toggleable__content {max-height: 200px;max-width: 100%;overflow: auto;}#sk-container-id-1 input.sk-toggleable__control:checked~label.sk-toggleable__label-arrow:before {content: \"▾\";}#sk-container-id-1 div.sk-estimator input.sk-toggleable__control:checked~label.sk-toggleable__label {background-color: #d4ebff;}#sk-container-id-1 div.sk-label input.sk-toggleable__control:checked~label.sk-toggleable__label {background-color: #d4ebff;}#sk-container-id-1 input.sk-hidden--visually {border: 0;clip: rect(1px 1px 1px 1px);clip: rect(1px, 1px, 1px, 1px);height: 1px;margin: -1px;overflow: hidden;padding: 0;position: absolute;width: 1px;}#sk-container-id-1 div.sk-estimator {font-family: monospace;background-color: #f0f8ff;border: 1px dotted black;border-radius: 0.25em;box-sizing: border-box;margin-bottom: 0.5em;}#sk-container-id-1 div.sk-estimator:hover {background-color: #d4ebff;}#sk-container-id-1 div.sk-parallel-item::after {content: \"\";width: 100%;border-bottom: 1px solid gray;flex-grow: 1;}#sk-container-id-1 div.sk-label:hover label.sk-toggleable__label {background-color: #d4ebff;}#sk-container-id-1 div.sk-serial::before {content: \"\";position: absolute;border-left: 1px solid gray;box-sizing: border-box;top: 0;bottom: 0;left: 50%;z-index: 0;}#sk-container-id-1 div.sk-serial {display: flex;flex-direction: column;align-items: center;background-color: white;padding-right: 0.2em;padding-left: 0.2em;position: relative;}#sk-container-id-1 div.sk-item {position: relative;z-index: 1;}#sk-container-id-1 div.sk-parallel {display: flex;align-items: stretch;justify-content: center;background-color: white;position: relative;}#sk-container-id-1 div.sk-item::before, #sk-container-id-1 div.sk-parallel-item::before {content: \"\";position: absolute;border-left: 1px solid gray;box-sizing: border-box;top: 0;bottom: 0;left: 50%;z-index: -1;}#sk-container-id-1 div.sk-parallel-item {display: flex;flex-direction: column;z-index: 1;position: relative;background-color: white;}#sk-container-id-1 div.sk-parallel-item:first-child::after {align-self: flex-end;width: 50%;}#sk-container-id-1 div.sk-parallel-item:last-child::after {align-self: flex-start;width: 50%;}#sk-container-id-1 div.sk-parallel-item:only-child::after {width: 0;}#sk-container-id-1 div.sk-dashed-wrapped {border: 1px dashed gray;margin: 0 0.4em 0.5em 0.4em;box-sizing: border-box;padding-bottom: 0.4em;background-color: white;}#sk-container-id-1 div.sk-label label {font-family: monospace;font-weight: bold;display: inline-block;line-height: 1.2em;}#sk-container-id-1 div.sk-label-container {text-align: center;}#sk-container-id-1 div.sk-container {/* jupyter's `normalize.less` sets `[hidden] { display: none; }` but bootstrap.min.css set `[hidden] { display: none !important; }` so we also need the `!important` here to be able to override the default hidden behavior on the sphinx rendered scikit-learn.org. See: https://github.com/scikit-learn/scikit-learn/issues/21755 */display: inline-block !important;position: relative;}#sk-container-id-1 div.sk-text-repr-fallback {display: none;}</style><div id=\"sk-container-id-1\" class=\"sk-top-container\"><div class=\"sk-text-repr-fallback\"><pre>HalvingGridSearchCV(cv=2,\n",
              "                    estimator=Pipeline(steps=[(&#x27;tfidf&#x27;, TfidfVectorizer()),\n",
              "                                              (&#x27;clf&#x27;, LogisticRegression())]),\n",
              "                    n_jobs=-1,\n",
              "                    param_grid={&#x27;clf__C&#x27;: array([0.1, 0.2, 0.3, 0.4, 0.5, 0.6, 0.7, 0.8, 0.9, 1. ]),\n",
              "                                &#x27;tfidf__max_df&#x27;: array([0.3       , 0.32105263, 0.34210526, 0.36315789, 0.38421053,\n",
              "       0.40526316, 0.42631579, 0.44736842, 0.46842105, 0.48947368,\n",
              "       0.51052632, 0.53157895, 0.55263158, 0.57368421, 0.59473684,\n",
              "       0.61578947, 0.63684211, 0.65789474, 0.67894737, 0.7       ]),\n",
              "                                &#x27;tfidf__min_df&#x27;: [0.0, 0.001, 0.003, 0.005,\n",
              "                                                  0.007],\n",
              "                                &#x27;tfidf__ngram_range&#x27;: ((1, 1), (1, 2)),\n",
              "                                &#x27;tfidf__norm&#x27;: (&#x27;l1&#x27;, &#x27;l2&#x27;)},\n",
              "                    scoring=&#x27;accuracy&#x27;, verbose=1)</pre><b>In a Jupyter environment, please rerun this cell to show the HTML representation or trust the notebook. <br />On GitHub, the HTML representation is unable to render, please try loading this page with nbviewer.org.</b></div><div class=\"sk-container\" hidden><div class=\"sk-item sk-dashed-wrapped\"><div class=\"sk-label-container\"><div class=\"sk-label sk-toggleable\"><input class=\"sk-toggleable__control sk-hidden--visually\" id=\"sk-estimator-id-1\" type=\"checkbox\" ><label for=\"sk-estimator-id-1\" class=\"sk-toggleable__label sk-toggleable__label-arrow\">HalvingGridSearchCV</label><div class=\"sk-toggleable__content\"><pre>HalvingGridSearchCV(cv=2,\n",
              "                    estimator=Pipeline(steps=[(&#x27;tfidf&#x27;, TfidfVectorizer()),\n",
              "                                              (&#x27;clf&#x27;, LogisticRegression())]),\n",
              "                    n_jobs=-1,\n",
              "                    param_grid={&#x27;clf__C&#x27;: array([0.1, 0.2, 0.3, 0.4, 0.5, 0.6, 0.7, 0.8, 0.9, 1. ]),\n",
              "                                &#x27;tfidf__max_df&#x27;: array([0.3       , 0.32105263, 0.34210526, 0.36315789, 0.38421053,\n",
              "       0.40526316, 0.42631579, 0.44736842, 0.46842105, 0.48947368,\n",
              "       0.51052632, 0.53157895, 0.55263158, 0.57368421, 0.59473684,\n",
              "       0.61578947, 0.63684211, 0.65789474, 0.67894737, 0.7       ]),\n",
              "                                &#x27;tfidf__min_df&#x27;: [0.0, 0.001, 0.003, 0.005,\n",
              "                                                  0.007],\n",
              "                                &#x27;tfidf__ngram_range&#x27;: ((1, 1), (1, 2)),\n",
              "                                &#x27;tfidf__norm&#x27;: (&#x27;l1&#x27;, &#x27;l2&#x27;)},\n",
              "                    scoring=&#x27;accuracy&#x27;, verbose=1)</pre></div></div></div><div class=\"sk-parallel\"><div class=\"sk-parallel-item\"><div class=\"sk-item\"><div class=\"sk-label-container\"><div class=\"sk-label sk-toggleable\"><input class=\"sk-toggleable__control sk-hidden--visually\" id=\"sk-estimator-id-2\" type=\"checkbox\" ><label for=\"sk-estimator-id-2\" class=\"sk-toggleable__label sk-toggleable__label-arrow\">estimator: Pipeline</label><div class=\"sk-toggleable__content\"><pre>Pipeline(steps=[(&#x27;tfidf&#x27;, TfidfVectorizer()), (&#x27;clf&#x27;, LogisticRegression())])</pre></div></div></div><div class=\"sk-serial\"><div class=\"sk-item\"><div class=\"sk-serial\"><div class=\"sk-item\"><div class=\"sk-estimator sk-toggleable\"><input class=\"sk-toggleable__control sk-hidden--visually\" id=\"sk-estimator-id-3\" type=\"checkbox\" ><label for=\"sk-estimator-id-3\" class=\"sk-toggleable__label sk-toggleable__label-arrow\">TfidfVectorizer</label><div class=\"sk-toggleable__content\"><pre>TfidfVectorizer()</pre></div></div></div><div class=\"sk-item\"><div class=\"sk-estimator sk-toggleable\"><input class=\"sk-toggleable__control sk-hidden--visually\" id=\"sk-estimator-id-4\" type=\"checkbox\" ><label for=\"sk-estimator-id-4\" class=\"sk-toggleable__label sk-toggleable__label-arrow\">LogisticRegression</label><div class=\"sk-toggleable__content\"><pre>LogisticRegression()</pre></div></div></div></div></div></div></div></div></div></div></div></div>"
            ]
          },
          "metadata": {},
          "execution_count": 48
        }
      ],
      "source": [
        "%%time\n",
        "\n",
        "grid_search = HalvingGridSearchCV(\n",
        "    pipe,\n",
        "    param_grid=parameter_grid,\n",
        "    n_jobs=-1,\n",
        "    verbose=1,\n",
        "    cv=2,\n",
        "    scoring='accuracy',\n",
        ")\n",
        "grid_search.fit(X_train, y_train)"
      ]
    },
    {
      "cell_type": "code",
      "execution_count": null,
      "metadata": {
        "id": "dRGOQRH_wBz6"
      },
      "outputs": [],
      "source": [
        "import matplotlib.pyplot as plt"
      ]
    },
    {
      "cell_type": "code",
      "execution_count": null,
      "metadata": {
        "id": "Oo-nJ7S7wBz7"
      },
      "outputs": [],
      "source": [
        "plt.rcParams[\"figure.figsize\"] = (12, 8)"
      ]
    },
    {
      "cell_type": "code",
      "execution_count": null,
      "metadata": {
        "colab": {
          "base_uri": "https://localhost:8080/",
          "height": 585
        },
        "id": "uGvef-AywBz8",
        "outputId": "1f7878fe-7b24-4751-e7bb-9337e2102861"
      },
      "outputs": [
        {
          "output_type": "display_data",
          "data": {
            "text/plain": [
              "<Figure size 864x576 with 1 Axes>"
            ],
            "image/png": "[encoded data removed]"
          },
          "metadata": {
            "needs_background": "light"
          }
        }
      ],
      "source": [
        "results = pd.DataFrame(grid_search.cv_results_)\n",
        "results[\"params_str\"] = results.params.apply(str)\n",
        "results.drop_duplicates(subset=(\"params_str\", \"iter\"), inplace=True)\n",
        "mean_scores = results.pivot(\n",
        "    index=\"iter\", \n",
        "    columns=\"params_str\",\n",
        "     values=\"mean_test_score\",\n",
        ")\n",
        "ax = mean_scores.plot(legend=False, alpha=0.6)\n",
        "\n",
        "labels = [\n",
        "    f\"iter={i}\\nn_samples={grid_search.n_resources_[i]}\\nn_candidates={grid_search.n_candidates_[i]}\"\n",
        "    for i in range(grid_search.n_iterations_)\n",
        "]\n",
        "\n",
        "ax.set_xticks(range(grid_search.n_iterations_))\n",
        "ax.set_xticklabels(labels, rotation=45, multialignment=\"left\")\n",
        "ax.set_title(\"Scores of candidates over iterations\")\n",
        "ax.set_ylabel(\"Mean test score\", fontsize=15)\n",
        "ax.set_xlabel(\"Iterations\", fontsize=15)\n",
        "plt.tight_layout()\n",
        "plt.grid()\n",
        "plt.show()"
      ]
    },
    {
      "cell_type": "code",
      "execution_count": null,
      "metadata": {
        "colab": {
          "base_uri": "https://localhost:8080/"
        },
        "id": "Kf_-UThBwBz9",
        "outputId": "962e8b87-76f1-45b8-f3a1-c7824b99ac56"
      },
      "outputs": [
        {
          "output_type": "execute_result",
          "data": {
            "text/plain": [
              "0.9459876543209877"
            ]
          },
          "metadata": {},
          "execution_count": 52
        }
      ],
      "source": [
        "grid_search_tfidf_logist=grid_search\n",
        "grid_search_tfidf_logist.best_score_"
      ]
    },
    {
      "cell_type": "code",
      "execution_count": null,
      "metadata": {
        "colab": {
          "base_uri": "https://localhost:8080/"
        },
        "id": "txFjQylXwBz-",
        "outputId": "a9e29765-7710-4c20-a3df-225c61f75ac5"
      },
      "outputs": [
        {
          "output_type": "stream",
          "name": "stdout",
          "text": [
            "              precision    recall  f1-score   support\n",
            "\n",
            "           0       0.97      1.00      0.98       620\n",
            "           1       1.00      0.83      0.91       130\n",
            "\n",
            "    accuracy                           0.97       750\n",
            "   macro avg       0.98      0.92      0.95       750\n",
            "weighted avg       0.97      0.97      0.97       750\n",
            "\n"
          ]
        }
      ],
      "source": [
        "preds_tfidf_logist = grid_search_tfidf_logist.best_estimator_.predict(X_test)\n",
        "print(classification_report(y_test, preds_tfidf_logist))"
      ]
    },
    {
      "cell_type": "code",
      "execution_count": null,
      "metadata": {
        "colab": {
          "base_uri": "https://localhost:8080/",
          "height": 278
        },
        "id": "ZX9iH9pywB0C",
        "outputId": "cc8f8eb6-cb27-495a-8a3c-7853aedee918"
      },
      "outputs": [
        {
          "output_type": "execute_result",
          "data": {
            "text/plain": [
              "      iter  n_resources  mean_fit_time  std_fit_time  mean_score_time  \\\n",
              "4000     1           24       0.016797      0.002224         0.003489   \n",
              "\n",
              "      std_score_time param_clf__C param_tfidf__max_df param_tfidf__min_df  \\\n",
              "4000          0.0004          0.1                 0.3               0.003   \n",
              "\n",
              "     param_tfidf__ngram_range  ... split0_test_score split1_test_score  \\\n",
              "4000                   (1, 2)  ...               1.0          0.916667   \n",
              "\n",
              "      mean_test_score  std_test_score  rank_test_score  split0_train_score  \\\n",
              "4000         0.958333        0.041667                1            0.666667   \n",
              "\n",
              "      split1_train_score  mean_train_score  std_train_score  \\\n",
              "4000            0.916667          0.791667            0.125   \n",
              "\n",
              "                                                                                                            params_str  \n",
              "4000  {'clf__C': 0.1, 'tfidf__max_df': 0.3, 'tfidf__min_df': 0.003, 'tfidf__ngram_range': (1, 2), 'tfidf__norm': 'l1'}  \n",
              "\n",
              "[1 rows x 22 columns]"
            ],
            "text/html": [
              "\n",
              "  <div id=\"df-0d5df6a7-6de1-4d3d-90f1-a226fe76cae6\">\n",
              "    <div class=\"colab-df-container\">\n",
              "      <div>\n",
              "<style scoped>\n",
              "    .dataframe tbody tr th:only-of-type {\n",
              "        vertical-align: middle;\n",
              "    }\n",
              "\n",
              "    .dataframe tbody tr th {\n",
              "        vertical-align: top;\n",
              "    }\n",
              "\n",
              "    .dataframe thead th {\n",
              "        text-align: right;\n",
              "    }\n",
              "</style>\n",
              "<table border=\"1\" class=\"dataframe\">\n",
              "  <thead>\n",
              "    <tr style=\"text-align: right;\">\n",
              "      <th></th>\n",
              "      <th>iter</th>\n",
              "      <th>n_resources</th>\n",
              "      <th>mean_fit_time</th>\n",
              "      <th>std_fit_time</th>\n",
              "      <th>mean_score_time</th>\n",
              "      <th>std_score_time</th>\n",
              "      <th>param_clf__C</th>\n",
              "      <th>param_tfidf__max_df</th>\n",
              "      <th>param_tfidf__min_df</th>\n",
              "      <th>param_tfidf__ngram_range</th>\n",
              "      <th>...</th>\n",
              "      <th>split0_test_score</th>\n",
              "      <th>split1_test_score</th>\n",
              "      <th>mean_test_score</th>\n",
              "      <th>std_test_score</th>\n",
              "      <th>rank_test_score</th>\n",
              "      <th>split0_train_score</th>\n",
              "      <th>split1_train_score</th>\n",
              "      <th>mean_train_score</th>\n",
              "      <th>std_train_score</th>\n",
              "      <th>params_str</th>\n",
              "    </tr>\n",
              "  </thead>\n",
              "  <tbody>\n",
              "    <tr>\n",
              "      <th>4000</th>\n",
              "      <td>1</td>\n",
              "      <td>24</td>\n",
              "      <td>0.016797</td>\n",
              "      <td>0.002224</td>\n",
              "      <td>0.003489</td>\n",
              "      <td>0.0004</td>\n",
              "      <td>0.1</td>\n",
              "      <td>0.3</td>\n",
              "      <td>0.003</td>\n",
              "      <td>(1, 2)</td>\n",
              "      <td>...</td>\n",
              "      <td>1.0</td>\n",
              "      <td>0.916667</td>\n",
              "      <td>0.958333</td>\n",
              "      <td>0.041667</td>\n",
              "      <td>1</td>\n",
              "      <td>0.666667</td>\n",
              "      <td>0.916667</td>\n",
              "      <td>0.791667</td>\n",
              "      <td>0.125</td>\n",
              "      <td>{'clf__C': 0.1, 'tfidf__max_df': 0.3, 'tfidf__min_df': 0.003, 'tfidf__ngram_range': (1, 2), 'tfidf__norm': 'l1'}</td>\n",
              "    </tr>\n",
              "  </tbody>\n",
              "</table>\n",
              "<p>1 rows × 22 columns</p>\n",
              "</div>\n",
              "      <button class=\"colab-df-convert\" onclick=\"convertToInteractive('df-0d5df6a7-6de1-4d3d-90f1-a226fe76cae6')\"\n",
              "              title=\"Convert this dataframe to an interactive table.\"\n",
              "              style=\"display:none;\">\n",
              "        \n",
              "  <svg xmlns=\"http://www.w3.org/2000/svg\" height=\"24px\"viewBox=\"0 0 24 24\"\n",
              "       width=\"24px\">\n",
              "    <path d=\"M0 0h24v24H0V0z\" fill=\"none\"/>\n",
              "    <path d=\"M18.56 5.44l.94 2.06.94-2.06 2.06-.94-2.06-.94-.94-2.06-.94 2.06-2.06.94zm-11 1L8.5 8.5l.94-2.06 2.06-.94-2.06-.94L8.5 2.5l-.94 2.06-2.06.94zm10 10l.94 2.06.94-2.06 2.06-.94-2.06-.94-.94-2.06-.94 2.06-2.06.94z\"/><path d=\"M17.41 7.96l-1.37-1.37c-.4-.4-.92-.59-1.43-.59-.52 0-1.04.2-1.43.59L10.3 9.45l-7.72 7.72c-.78.78-.78 2.05 0 2.83L4 21.41c.39.39.9.59 1.41.59.51 0 1.02-.2 1.41-.59l7.78-7.78 2.81-2.81c.8-.78.8-2.07 0-2.86zM5.41 20L4 18.59l7.72-7.72 1.47 1.35L5.41 20z\"/>\n",
              "  </svg>\n",
              "      </button>\n",
              "      \n",
              "  <style>\n",
              "    .colab-df-container {\n",
              "      display:flex;\n",
              "      flex-wrap:wrap;\n",
              "      gap: 12px;\n",
              "    }\n",
              "\n",
              "    .colab-df-convert {\n",
              "      background-color: #E8F0FE;\n",
              "      border: none;\n",
              "      border-radius: 50%;\n",
              "      cursor: pointer;\n",
              "      display: none;\n",
              "      fill: #1967D2;\n",
              "      height: 32px;\n",
              "      padding: 0 0 0 0;\n",
              "      width: 32px;\n",
              "    }\n",
              "\n",
              "    .colab-df-convert:hover {\n",
              "      background-color: #E2EBFA;\n",
              "      box-shadow: 0px 1px 2px rgba(60, 64, 67, 0.3), 0px 1px 3px 1px rgba(60, 64, 67, 0.15);\n",
              "      fill: #174EA6;\n",
              "    }\n",
              "\n",
              "    [theme=dark] .colab-df-convert {\n",
              "      background-color: #3B4455;\n",
              "      fill: #D2E3FC;\n",
              "    }\n",
              "\n",
              "    [theme=dark] .colab-df-convert:hover {\n",
              "      background-color: #434B5C;\n",
              "      box-shadow: 0px 1px 3px 1px rgba(0, 0, 0, 0.15);\n",
              "      filter: drop-shadow(0px 1px 2px rgba(0, 0, 0, 0.3));\n",
              "      fill: #FFFFFF;\n",
              "    }\n",
              "  </style>\n",
              "\n",
              "      <script>\n",
              "        const buttonEl =\n",
              "          document.querySelector('#df-0d5df6a7-6de1-4d3d-90f1-a226fe76cae6 button.colab-df-convert');\n",
              "        buttonEl.style.display =\n",
              "          google.colab.kernel.accessAllowed ? 'block' : 'none';\n",
              "\n",
              "        async function convertToInteractive(key) {\n",
              "          const element = document.querySelector('#df-0d5df6a7-6de1-4d3d-90f1-a226fe76cae6');\n",
              "          const dataTable =\n",
              "            await google.colab.kernel.invokeFunction('convertToInteractive',\n",
              "                                                     [key], {});\n",
              "          if (!dataTable) return;\n",
              "\n",
              "          const docLinkHtml = 'Like what you see? Visit the ' +\n",
              "            '<a target=\"_blank\" href=https://colab.research.google.com/notebooks/data_table.ipynb>data table notebook</a>'\n",
              "            + ' to learn more about interactive tables.';\n",
              "          element.innerHTML = '';\n",
              "          dataTable['output_type'] = 'display_data';\n",
              "          await google.colab.output.renderOutput(dataTable, element);\n",
              "          const docLink = document.createElement('div');\n",
              "          docLink.innerHTML = docLinkHtml;\n",
              "          element.appendChild(docLink);\n",
              "        }\n",
              "      </script>\n",
              "    </div>\n",
              "  </div>\n",
              "  "
            ]
          },
          "metadata": {},
          "execution_count": 54
        }
      ],
      "source": [
        "results.sort_values(by='mean_test_score', ascending=False).head(1)"
      ]
    },
    {
      "cell_type": "markdown",
      "metadata": {
        "id": "oz9E7tp2wB0E"
      },
      "source": [
        "### Обучим на TfidfVectorizer, DecisionTreeClassifier."
      ]
    },
    {
      "cell_type": "code",
      "execution_count": null,
      "metadata": {
        "id": "tCKlJ2CiwB0F"
      },
      "outputs": [],
      "source": [
        "from sklearn.tree import DecisionTreeClassifier"
      ]
    },
    {
      "cell_type": "code",
      "execution_count": null,
      "metadata": {
        "id": "4kCAy4D7wB0G"
      },
      "outputs": [],
      "source": [
        "pipe = Pipeline(\n",
        "    steps=[\n",
        "        ('tfidf', TfidfVectorizer()),\n",
        "        ('clf', DecisionTreeClassifier())\n",
        "    ]\n",
        ")"
      ]
    },
    {
      "cell_type": "code",
      "execution_count": null,
      "metadata": {
        "id": "OtL6g5i-wB0H"
      },
      "outputs": [],
      "source": [
        "parameter_grid = {\n",
        "    \"tfidf__max_df\": np.linspace(0.3, 0.7, 10),\n",
        "    \"tfidf__min_df\": [ 0.0, 0.001, 0.003, 0.005, 0.007],\n",
        "    \"tfidf__ngram_range\": ((1, 1), (1, 2)),  # слова или биграммы\n",
        "    \"tfidf__norm\": (\"l1\", \"l2\"),\n",
        "    \"clf__criterion\": (\"gini\" , \"entropy\" , \"log_loss\"),\n",
        "}"
      ]
    },
    {
      "cell_type": "code",
      "execution_count": null,
      "metadata": {
        "colab": {
          "base_uri": "https://localhost:8080/",
          "height": 873
        },
        "id": "ZdgGjr2nwB0I",
        "outputId": "38331b2d-c1b4-48a2-d797-bebb3f073c4f"
      },
      "outputs": [
        {
          "output_type": "stream",
          "name": "stdout",
          "text": [
            "n_iterations: 6\n",
            "n_required_iterations: 6\n",
            "n_possible_iterations: 6\n",
            "min_resources_: 9\n",
            "max_resources_: 2250\n",
            "aggressive_elimination: False\n",
            "factor: 3\n",
            "----------\n",
            "iter: 0\n",
            "n_candidates: 600\n",
            "n_resources: 9\n",
            "Fitting 2 folds for each of 600 candidates, totalling 1200 fits\n",
            "----------\n",
            "iter: 1\n",
            "n_candidates: 200\n",
            "n_resources: 27\n",
            "Fitting 2 folds for each of 200 candidates, totalling 400 fits\n",
            "----------\n",
            "iter: 2\n",
            "n_candidates: 67\n",
            "n_resources: 81\n",
            "Fitting 2 folds for each of 67 candidates, totalling 134 fits\n",
            "----------\n",
            "iter: 3\n",
            "n_candidates: 23\n",
            "n_resources: 243\n",
            "Fitting 2 folds for each of 23 candidates, totalling 46 fits\n",
            "----------\n",
            "iter: 4\n",
            "n_candidates: 8\n",
            "n_resources: 729\n",
            "Fitting 2 folds for each of 8 candidates, totalling 16 fits\n",
            "----------\n",
            "iter: 5\n",
            "n_candidates: 3\n",
            "n_resources: 2187\n",
            "Fitting 2 folds for each of 3 candidates, totalling 6 fits\n",
            "CPU times: user 3.13 s, sys: 228 ms, total: 3.36 s\n",
            "Wall time: 39.7 s\n"
          ]
        },
        {
          "output_type": "execute_result",
          "data": {
            "text/plain": [
              "HalvingGridSearchCV(cv=2,\n",
              "                    estimator=Pipeline(steps=[('tfidf', TfidfVectorizer()),\n",
              "                                              ('clf',\n",
              "                                               DecisionTreeClassifier())]),\n",
              "                    n_jobs=-1,\n",
              "                    param_grid={'clf__criterion': ('gini', 'entropy',\n",
              "                                                   'log_loss'),\n",
              "                                'tfidf__max_df': array([0.3       , 0.34444444, 0.38888889, 0.43333333, 0.47777778,\n",
              "       0.52222222, 0.56666667, 0.61111111, 0.65555556, 0.7       ]),\n",
              "                                'tfidf__min_df': [0.0, 0.001, 0.003, 0.005,\n",
              "                                                  0.007],\n",
              "                                'tfidf__ngram_range': ((1, 1), (1, 2)),\n",
              "                                'tfidf__norm': ('l1', 'l2')},\n",
              "                    scoring='accuracy', verbose=1)"
            ],
            "text/html": [
              "<style>#sk-container-id-2 {color: black;background-color: white;}#sk-container-id-2 pre{padding: 0;}#sk-container-id-2 div.sk-toggleable {background-color: white;}#sk-container-id-2 label.sk-toggleable__label {cursor: pointer;display: block;width: 100%;margin-bottom: 0;padding: 0.3em;box-sizing: border-box;text-align: center;}#sk-container-id-2 label.sk-toggleable__label-arrow:before {content: \"▸\";float: left;margin-right: 0.25em;color: #696969;}#sk-container-id-2 label.sk-toggleable__label-arrow:hover:before {color: black;}#sk-container-id-2 div.sk-estimator:hover label.sk-toggleable__label-arrow:before {color: black;}#sk-container-id-2 div.sk-toggleable__content {max-height: 0;max-width: 0;overflow: hidden;text-align: left;background-color: #f0f8ff;}#sk-container-id-2 div.sk-toggleable__content pre {margin: 0.2em;color: black;border-radius: 0.25em;background-color: #f0f8ff;}#sk-container-id-2 input.sk-toggleable__control:checked~div.sk-toggleable__content {max-height: 200px;max-width: 100%;overflow: auto;}#sk-container-id-2 input.sk-toggleable__control:checked~label.sk-toggleable__label-arrow:before {content: \"▾\";}#sk-container-id-2 div.sk-estimator input.sk-toggleable__control:checked~label.sk-toggleable__label {background-color: #d4ebff;}#sk-container-id-2 div.sk-label input.sk-toggleable__control:checked~label.sk-toggleable__label {background-color: #d4ebff;}#sk-container-id-2 input.sk-hidden--visually {border: 0;clip: rect(1px 1px 1px 1px);clip: rect(1px, 1px, 1px, 1px);height: 1px;margin: -1px;overflow: hidden;padding: 0;position: absolute;width: 1px;}#sk-container-id-2 div.sk-estimator {font-family: monospace;background-color: #f0f8ff;border: 1px dotted black;border-radius: 0.25em;box-sizing: border-box;margin-bottom: 0.5em;}#sk-container-id-2 div.sk-estimator:hover {background-color: #d4ebff;}#sk-container-id-2 div.sk-parallel-item::after {content: \"\";width: 100%;border-bottom: 1px solid gray;flex-grow: 1;}#sk-container-id-2 div.sk-label:hover label.sk-toggleable__label {background-color: #d4ebff;}#sk-container-id-2 div.sk-serial::before {content: \"\";position: absolute;border-left: 1px solid gray;box-sizing: border-box;top: 0;bottom: 0;left: 50%;z-index: 0;}#sk-container-id-2 div.sk-serial {display: flex;flex-direction: column;align-items: center;background-color: white;padding-right: 0.2em;padding-left: 0.2em;position: relative;}#sk-container-id-2 div.sk-item {position: relative;z-index: 1;}#sk-container-id-2 div.sk-parallel {display: flex;align-items: stretch;justify-content: center;background-color: white;position: relative;}#sk-container-id-2 div.sk-item::before, #sk-container-id-2 div.sk-parallel-item::before {content: \"\";position: absolute;border-left: 1px solid gray;box-sizing: border-box;top: 0;bottom: 0;left: 50%;z-index: -1;}#sk-container-id-2 div.sk-parallel-item {display: flex;flex-direction: column;z-index: 1;position: relative;background-color: white;}#sk-container-id-2 div.sk-parallel-item:first-child::after {align-self: flex-end;width: 50%;}#sk-container-id-2 div.sk-parallel-item:last-child::after {align-self: flex-start;width: 50%;}#sk-container-id-2 div.sk-parallel-item:only-child::after {width: 0;}#sk-container-id-2 div.sk-dashed-wrapped {border: 1px dashed gray;margin: 0 0.4em 0.5em 0.4em;box-sizing: border-box;padding-bottom: 0.4em;background-color: white;}#sk-container-id-2 div.sk-label label {font-family: monospace;font-weight: bold;display: inline-block;line-height: 1.2em;}#sk-container-id-2 div.sk-label-container {text-align: center;}#sk-container-id-2 div.sk-container {/* jupyter's `normalize.less` sets `[hidden] { display: none; }` but bootstrap.min.css set `[hidden] { display: none !important; }` so we also need the `!important` here to be able to override the default hidden behavior on the sphinx rendered scikit-learn.org. See: https://github.com/scikit-learn/scikit-learn/issues/21755 */display: inline-block !important;position: relative;}#sk-container-id-2 div.sk-text-repr-fallback {display: none;}</style><div id=\"sk-container-id-2\" class=\"sk-top-container\"><div class=\"sk-text-repr-fallback\"><pre>HalvingGridSearchCV(cv=2,\n",
              "                    estimator=Pipeline(steps=[(&#x27;tfidf&#x27;, TfidfVectorizer()),\n",
              "                                              (&#x27;clf&#x27;,\n",
              "                                               DecisionTreeClassifier())]),\n",
              "                    n_jobs=-1,\n",
              "                    param_grid={&#x27;clf__criterion&#x27;: (&#x27;gini&#x27;, &#x27;entropy&#x27;,\n",
              "                                                   &#x27;log_loss&#x27;),\n",
              "                                &#x27;tfidf__max_df&#x27;: array([0.3       , 0.34444444, 0.38888889, 0.43333333, 0.47777778,\n",
              "       0.52222222, 0.56666667, 0.61111111, 0.65555556, 0.7       ]),\n",
              "                                &#x27;tfidf__min_df&#x27;: [0.0, 0.001, 0.003, 0.005,\n",
              "                                                  0.007],\n",
              "                                &#x27;tfidf__ngram_range&#x27;: ((1, 1), (1, 2)),\n",
              "                                &#x27;tfidf__norm&#x27;: (&#x27;l1&#x27;, &#x27;l2&#x27;)},\n",
              "                    scoring=&#x27;accuracy&#x27;, verbose=1)</pre><b>In a Jupyter environment, please rerun this cell to show the HTML representation or trust the notebook. <br />On GitHub, the HTML representation is unable to render, please try loading this page with nbviewer.org.</b></div><div class=\"sk-container\" hidden><div class=\"sk-item sk-dashed-wrapped\"><div class=\"sk-label-container\"><div class=\"sk-label sk-toggleable\"><input class=\"sk-toggleable__control sk-hidden--visually\" id=\"sk-estimator-id-5\" type=\"checkbox\" ><label for=\"sk-estimator-id-5\" class=\"sk-toggleable__label sk-toggleable__label-arrow\">HalvingGridSearchCV</label><div class=\"sk-toggleable__content\"><pre>HalvingGridSearchCV(cv=2,\n",
              "                    estimator=Pipeline(steps=[(&#x27;tfidf&#x27;, TfidfVectorizer()),\n",
              "                                              (&#x27;clf&#x27;,\n",
              "                                               DecisionTreeClassifier())]),\n",
              "                    n_jobs=-1,\n",
              "                    param_grid={&#x27;clf__criterion&#x27;: (&#x27;gini&#x27;, &#x27;entropy&#x27;,\n",
              "                                                   &#x27;log_loss&#x27;),\n",
              "                                &#x27;tfidf__max_df&#x27;: array([0.3       , 0.34444444, 0.38888889, 0.43333333, 0.47777778,\n",
              "       0.52222222, 0.56666667, 0.61111111, 0.65555556, 0.7       ]),\n",
              "                                &#x27;tfidf__min_df&#x27;: [0.0, 0.001, 0.003, 0.005,\n",
              "                                                  0.007],\n",
              "                                &#x27;tfidf__ngram_range&#x27;: ((1, 1), (1, 2)),\n",
              "                                &#x27;tfidf__norm&#x27;: (&#x27;l1&#x27;, &#x27;l2&#x27;)},\n",
              "                    scoring=&#x27;accuracy&#x27;, verbose=1)</pre></div></div></div><div class=\"sk-parallel\"><div class=\"sk-parallel-item\"><div class=\"sk-item\"><div class=\"sk-label-container\"><div class=\"sk-label sk-toggleable\"><input class=\"sk-toggleable__control sk-hidden--visually\" id=\"sk-estimator-id-6\" type=\"checkbox\" ><label for=\"sk-estimator-id-6\" class=\"sk-toggleable__label sk-toggleable__label-arrow\">estimator: Pipeline</label><div class=\"sk-toggleable__content\"><pre>Pipeline(steps=[(&#x27;tfidf&#x27;, TfidfVectorizer()),\n",
              "                (&#x27;clf&#x27;, DecisionTreeClassifier())])</pre></div></div></div><div class=\"sk-serial\"><div class=\"sk-item\"><div class=\"sk-serial\"><div class=\"sk-item\"><div class=\"sk-estimator sk-toggleable\"><input class=\"sk-toggleable__control sk-hidden--visually\" id=\"sk-estimator-id-7\" type=\"checkbox\" ><label for=\"sk-estimator-id-7\" class=\"sk-toggleable__label sk-toggleable__label-arrow\">TfidfVectorizer</label><div class=\"sk-toggleable__content\"><pre>TfidfVectorizer()</pre></div></div></div><div class=\"sk-item\"><div class=\"sk-estimator sk-toggleable\"><input class=\"sk-toggleable__control sk-hidden--visually\" id=\"sk-estimator-id-8\" type=\"checkbox\" ><label for=\"sk-estimator-id-8\" class=\"sk-toggleable__label sk-toggleable__label-arrow\">DecisionTreeClassifier</label><div class=\"sk-toggleable__content\"><pre>DecisionTreeClassifier()</pre></div></div></div></div></div></div></div></div></div></div></div></div>"
            ]
          },
          "metadata": {},
          "execution_count": 58
        }
      ],
      "source": [
        "%%time\n",
        "\n",
        "grid_search = HalvingGridSearchCV(\n",
        "    pipe,\n",
        "    param_grid=parameter_grid,\n",
        "    n_jobs=-1,\n",
        "    verbose=1,\n",
        "    cv=2,\n",
        "    scoring='accuracy',\n",
        ")\n",
        "grid_search.fit(X_train, y_train)"
      ]
    },
    {
      "cell_type": "code",
      "execution_count": null,
      "metadata": {
        "colab": {
          "base_uri": "https://localhost:8080/"
        },
        "id": "im2ExI2bwB0J",
        "outputId": "88568441-73b2-4c8a-ff00-3e90a41407e2"
      },
      "outputs": [
        {
          "output_type": "execute_result",
          "data": {
            "text/plain": [
              "0.9313815187557182"
            ]
          },
          "metadata": {},
          "execution_count": 59
        }
      ],
      "source": [
        "grid_search_tfidf_tree = grid_search\n",
        "grid_search_tfidf_tree.best_score_"
      ]
    },
    {
      "cell_type": "markdown",
      "metadata": {
        "id": "BD5f1WomwB0K"
      },
      "source": [
        "### Обучим на TfidfVectorizer, MultinomialNB"
      ]
    },
    {
      "cell_type": "code",
      "execution_count": null,
      "metadata": {
        "id": "rbod6fDYwB0L"
      },
      "outputs": [],
      "source": [
        "from sklearn.naive_bayes import MultinomialNB"
      ]
    },
    {
      "cell_type": "code",
      "execution_count": null,
      "metadata": {
        "id": "8_aT7oSYwB0L"
      },
      "outputs": [],
      "source": [
        "pipe = Pipeline(\n",
        "    steps=[\n",
        "        ('tfidf', TfidfVectorizer()),\n",
        "        ('clf', MultinomialNB())\n",
        "    ]\n",
        ")"
      ]
    },
    {
      "cell_type": "code",
      "execution_count": null,
      "metadata": {
        "id": "rHBPAhVZwB0M"
      },
      "outputs": [],
      "source": [
        "parameter_grid = {\n",
        "    \"tfidf__max_df\": np.linspace(0.3, 0.7, 10),\n",
        "    \"tfidf__min_df\": [ 0.005, 0.007],\n",
        "    \"tfidf__ngram_range\": ((1, 1), (1, 2)),  # слова или биграммы\n",
        "    \"tfidf__norm\": (\"l1\", \"l2\"),\n",
        "}"
      ]
    },
    {
      "cell_type": "code",
      "execution_count": null,
      "metadata": {
        "colab": {
          "base_uri": "https://localhost:8080/",
          "height": 688
        },
        "id": "h3Yc6_uFwB0N",
        "outputId": "25d969dc-6fdd-4bf0-bcce-0c319520d9cb"
      },
      "outputs": [
        {
          "output_type": "stream",
          "name": "stdout",
          "text": [
            "n_iterations: 4\n",
            "n_required_iterations: 4\n",
            "n_possible_iterations: 4\n",
            "min_resources_: 83\n",
            "max_resources_: 2250\n",
            "aggressive_elimination: False\n",
            "factor: 3\n",
            "----------\n",
            "iter: 0\n",
            "n_candidates: 80\n",
            "n_resources: 83\n",
            "Fitting 2 folds for each of 80 candidates, totalling 160 fits\n",
            "----------\n",
            "iter: 1\n",
            "n_candidates: 27\n",
            "n_resources: 249\n",
            "Fitting 2 folds for each of 27 candidates, totalling 54 fits\n",
            "----------\n",
            "iter: 2\n",
            "n_candidates: 9\n",
            "n_resources: 747\n",
            "Fitting 2 folds for each of 9 candidates, totalling 18 fits\n",
            "----------\n",
            "iter: 3\n",
            "n_candidates: 3\n",
            "n_resources: 2241\n",
            "Fitting 2 folds for each of 3 candidates, totalling 6 fits\n",
            "CPU times: user 1 s, sys: 93.8 ms, total: 1.1 s\n",
            "Wall time: 13.5 s\n"
          ]
        },
        {
          "output_type": "execute_result",
          "data": {
            "text/plain": [
              "HalvingGridSearchCV(cv=2,\n",
              "                    estimator=Pipeline(steps=[('tfidf', TfidfVectorizer()),\n",
              "                                              ('clf', MultinomialNB())]),\n",
              "                    n_jobs=-1,\n",
              "                    param_grid={'tfidf__max_df': array([0.3       , 0.34444444, 0.38888889, 0.43333333, 0.47777778,\n",
              "       0.52222222, 0.56666667, 0.61111111, 0.65555556, 0.7       ]),\n",
              "                                'tfidf__min_df': [0.005, 0.007],\n",
              "                                'tfidf__ngram_range': ((1, 1), (1, 2)),\n",
              "                                'tfidf__norm': ('l1', 'l2')},\n",
              "                    scoring='accuracy', verbose=1)"
            ],
            "text/html": [
              "<style>#sk-container-id-3 {color: black;background-color: white;}#sk-container-id-3 pre{padding: 0;}#sk-container-id-3 div.sk-toggleable {background-color: white;}#sk-container-id-3 label.sk-toggleable__label {cursor: pointer;display: block;width: 100%;margin-bottom: 0;padding: 0.3em;box-sizing: border-box;text-align: center;}#sk-container-id-3 label.sk-toggleable__label-arrow:before {content: \"▸\";float: left;margin-right: 0.25em;color: #696969;}#sk-container-id-3 label.sk-toggleable__label-arrow:hover:before {color: black;}#sk-container-id-3 div.sk-estimator:hover label.sk-toggleable__label-arrow:before {color: black;}#sk-container-id-3 div.sk-toggleable__content {max-height: 0;max-width: 0;overflow: hidden;text-align: left;background-color: #f0f8ff;}#sk-container-id-3 div.sk-toggleable__content pre {margin: 0.2em;color: black;border-radius: 0.25em;background-color: #f0f8ff;}#sk-container-id-3 input.sk-toggleable__control:checked~div.sk-toggleable__content {max-height: 200px;max-width: 100%;overflow: auto;}#sk-container-id-3 input.sk-toggleable__control:checked~label.sk-toggleable__label-arrow:before {content: \"▾\";}#sk-container-id-3 div.sk-estimator input.sk-toggleable__control:checked~label.sk-toggleable__label {background-color: #d4ebff;}#sk-container-id-3 div.sk-label input.sk-toggleable__control:checked~label.sk-toggleable__label {background-color: #d4ebff;}#sk-container-id-3 input.sk-hidden--visually {border: 0;clip: rect(1px 1px 1px 1px);clip: rect(1px, 1px, 1px, 1px);height: 1px;margin: -1px;overflow: hidden;padding: 0;position: absolute;width: 1px;}#sk-container-id-3 div.sk-estimator {font-family: monospace;background-color: #f0f8ff;border: 1px dotted black;border-radius: 0.25em;box-sizing: border-box;margin-bottom: 0.5em;}#sk-container-id-3 div.sk-estimator:hover {background-color: #d4ebff;}#sk-container-id-3 div.sk-parallel-item::after {content: \"\";width: 100%;border-bottom: 1px solid gray;flex-grow: 1;}#sk-container-id-3 div.sk-label:hover label.sk-toggleable__label {background-color: #d4ebff;}#sk-container-id-3 div.sk-serial::before {content: \"\";position: absolute;border-left: 1px solid gray;box-sizing: border-box;top: 0;bottom: 0;left: 50%;z-index: 0;}#sk-container-id-3 div.sk-serial {display: flex;flex-direction: column;align-items: center;background-color: white;padding-right: 0.2em;padding-left: 0.2em;position: relative;}#sk-container-id-3 div.sk-item {position: relative;z-index: 1;}#sk-container-id-3 div.sk-parallel {display: flex;align-items: stretch;justify-content: center;background-color: white;position: relative;}#sk-container-id-3 div.sk-item::before, #sk-container-id-3 div.sk-parallel-item::before {content: \"\";position: absolute;border-left: 1px solid gray;box-sizing: border-box;top: 0;bottom: 0;left: 50%;z-index: -1;}#sk-container-id-3 div.sk-parallel-item {display: flex;flex-direction: column;z-index: 1;position: relative;background-color: white;}#sk-container-id-3 div.sk-parallel-item:first-child::after {align-self: flex-end;width: 50%;}#sk-container-id-3 div.sk-parallel-item:last-child::after {align-self: flex-start;width: 50%;}#sk-container-id-3 div.sk-parallel-item:only-child::after {width: 0;}#sk-container-id-3 div.sk-dashed-wrapped {border: 1px dashed gray;margin: 0 0.4em 0.5em 0.4em;box-sizing: border-box;padding-bottom: 0.4em;background-color: white;}#sk-container-id-3 div.sk-label label {font-family: monospace;font-weight: bold;display: inline-block;line-height: 1.2em;}#sk-container-id-3 div.sk-label-container {text-align: center;}#sk-container-id-3 div.sk-container {/* jupyter's `normalize.less` sets `[hidden] { display: none; }` but bootstrap.min.css set `[hidden] { display: none !important; }` so we also need the `!important` here to be able to override the default hidden behavior on the sphinx rendered scikit-learn.org. See: https://github.com/scikit-learn/scikit-learn/issues/21755 */display: inline-block !important;position: relative;}#sk-container-id-3 div.sk-text-repr-fallback {display: none;}</style><div id=\"sk-container-id-3\" class=\"sk-top-container\"><div class=\"sk-text-repr-fallback\"><pre>HalvingGridSearchCV(cv=2,\n",
              "                    estimator=Pipeline(steps=[(&#x27;tfidf&#x27;, TfidfVectorizer()),\n",
              "                                              (&#x27;clf&#x27;, MultinomialNB())]),\n",
              "                    n_jobs=-1,\n",
              "                    param_grid={&#x27;tfidf__max_df&#x27;: array([0.3       , 0.34444444, 0.38888889, 0.43333333, 0.47777778,\n",
              "       0.52222222, 0.56666667, 0.61111111, 0.65555556, 0.7       ]),\n",
              "                                &#x27;tfidf__min_df&#x27;: [0.005, 0.007],\n",
              "                                &#x27;tfidf__ngram_range&#x27;: ((1, 1), (1, 2)),\n",
              "                                &#x27;tfidf__norm&#x27;: (&#x27;l1&#x27;, &#x27;l2&#x27;)},\n",
              "                    scoring=&#x27;accuracy&#x27;, verbose=1)</pre><b>In a Jupyter environment, please rerun this cell to show the HTML representation or trust the notebook. <br />On GitHub, the HTML representation is unable to render, please try loading this page with nbviewer.org.</b></div><div class=\"sk-container\" hidden><div class=\"sk-item sk-dashed-wrapped\"><div class=\"sk-label-container\"><div class=\"sk-label sk-toggleable\"><input class=\"sk-toggleable__control sk-hidden--visually\" id=\"sk-estimator-id-9\" type=\"checkbox\" ><label for=\"sk-estimator-id-9\" class=\"sk-toggleable__label sk-toggleable__label-arrow\">HalvingGridSearchCV</label><div class=\"sk-toggleable__content\"><pre>HalvingGridSearchCV(cv=2,\n",
              "                    estimator=Pipeline(steps=[(&#x27;tfidf&#x27;, TfidfVectorizer()),\n",
              "                                              (&#x27;clf&#x27;, MultinomialNB())]),\n",
              "                    n_jobs=-1,\n",
              "                    param_grid={&#x27;tfidf__max_df&#x27;: array([0.3       , 0.34444444, 0.38888889, 0.43333333, 0.47777778,\n",
              "       0.52222222, 0.56666667, 0.61111111, 0.65555556, 0.7       ]),\n",
              "                                &#x27;tfidf__min_df&#x27;: [0.005, 0.007],\n",
              "                                &#x27;tfidf__ngram_range&#x27;: ((1, 1), (1, 2)),\n",
              "                                &#x27;tfidf__norm&#x27;: (&#x27;l1&#x27;, &#x27;l2&#x27;)},\n",
              "                    scoring=&#x27;accuracy&#x27;, verbose=1)</pre></div></div></div><div class=\"sk-parallel\"><div class=\"sk-parallel-item\"><div class=\"sk-item\"><div class=\"sk-label-container\"><div class=\"sk-label sk-toggleable\"><input class=\"sk-toggleable__control sk-hidden--visually\" id=\"sk-estimator-id-10\" type=\"checkbox\" ><label for=\"sk-estimator-id-10\" class=\"sk-toggleable__label sk-toggleable__label-arrow\">estimator: Pipeline</label><div class=\"sk-toggleable__content\"><pre>Pipeline(steps=[(&#x27;tfidf&#x27;, TfidfVectorizer()), (&#x27;clf&#x27;, MultinomialNB())])</pre></div></div></div><div class=\"sk-serial\"><div class=\"sk-item\"><div class=\"sk-serial\"><div class=\"sk-item\"><div class=\"sk-estimator sk-toggleable\"><input class=\"sk-toggleable__control sk-hidden--visually\" id=\"sk-estimator-id-11\" type=\"checkbox\" ><label for=\"sk-estimator-id-11\" class=\"sk-toggleable__label sk-toggleable__label-arrow\">TfidfVectorizer</label><div class=\"sk-toggleable__content\"><pre>TfidfVectorizer()</pre></div></div></div><div class=\"sk-item\"><div class=\"sk-estimator sk-toggleable\"><input class=\"sk-toggleable__control sk-hidden--visually\" id=\"sk-estimator-id-12\" type=\"checkbox\" ><label for=\"sk-estimator-id-12\" class=\"sk-toggleable__label sk-toggleable__label-arrow\">MultinomialNB</label><div class=\"sk-toggleable__content\"><pre>MultinomialNB()</pre></div></div></div></div></div></div></div></div></div></div></div></div>"
            ]
          },
          "metadata": {},
          "execution_count": 63
        }
      ],
      "source": [
        "%%time\n",
        "\n",
        "grid_search = HalvingGridSearchCV(\n",
        "    pipe,\n",
        "    param_grid=parameter_grid,\n",
        "    n_jobs=-1,\n",
        "    verbose=1,\n",
        "    cv=2,\n",
        "    scoring='accuracy',\n",
        ")\n",
        "grid_search.fit(X_train, y_train)"
      ]
    },
    {
      "cell_type": "code",
      "execution_count": null,
      "metadata": {
        "colab": {
          "base_uri": "https://localhost:8080/"
        },
        "id": "Dq40BMbwwB0O",
        "outputId": "b87e592f-7a5c-4922-a8a9-bafe000f7299"
      },
      "outputs": [
        {
          "output_type": "execute_result",
          "data": {
            "text/plain": [
              "0.9732142857142857"
            ]
          },
          "metadata": {},
          "execution_count": 64
        }
      ],
      "source": [
        "grid_search_tfidf_naive_bayes = grid_search\n",
        "grid_search_tfidf_naive_bayes.best_score_"
      ]
    },
    {
      "cell_type": "markdown",
      "metadata": {
        "id": "tqU5RzG9wB0P"
      },
      "source": [
        "### Обучим CountVectorizer, DecisionTreeClassifier."
      ]
    },
    {
      "cell_type": "code",
      "execution_count": null,
      "metadata": {
        "id": "8QCaZFCCwB0R"
      },
      "outputs": [],
      "source": [
        "pipe = Pipeline(\n",
        "    steps=[\n",
        "        ('count_vect', CountVectorizer()),\n",
        "        ('clf', DecisionTreeClassifier())\n",
        "    ]\n",
        ")"
      ]
    },
    {
      "cell_type": "code",
      "execution_count": null,
      "metadata": {
        "id": "dfxImu0iwB0S"
      },
      "outputs": [],
      "source": [
        "parameter_grid = {\n",
        "    \"count_vect__max_df\": np.linspace(0.3, 0.7, 10),\n",
        "    \"count_vect__min_df\": [ 0.0, 0.001, 0.003, 0.005, 0.007],\n",
        "    \"count_vect__ngram_range\": ((1, 1), (1, 2)),  # слова или биграммы\n",
        "    \"clf__criterion\": (\"gini\" , \"entropy\" , \"log_loss\"),\n",
        "}"
      ]
    },
    {
      "cell_type": "code",
      "execution_count": null,
      "metadata": {
        "colab": {
          "base_uri": "https://localhost:8080/",
          "height": 873
        },
        "id": "Al_YkSVlwB0T",
        "outputId": "7eec0827-8920-4318-858a-fc8000020d2a"
      },
      "outputs": [
        {
          "output_type": "stream",
          "name": "stdout",
          "text": [
            "n_iterations: 6\n",
            "n_required_iterations: 6\n",
            "n_possible_iterations: 6\n",
            "min_resources_: 9\n",
            "max_resources_: 2250\n",
            "aggressive_elimination: False\n",
            "factor: 3\n",
            "----------\n",
            "iter: 0\n",
            "n_candidates: 300\n",
            "n_resources: 9\n",
            "Fitting 2 folds for each of 300 candidates, totalling 600 fits\n",
            "----------\n",
            "iter: 1\n",
            "n_candidates: 100\n",
            "n_resources: 27\n",
            "Fitting 2 folds for each of 100 candidates, totalling 200 fits\n",
            "----------\n",
            "iter: 2\n",
            "n_candidates: 34\n",
            "n_resources: 81\n",
            "Fitting 2 folds for each of 34 candidates, totalling 68 fits\n",
            "----------\n",
            "iter: 3\n",
            "n_candidates: 12\n",
            "n_resources: 243\n",
            "Fitting 2 folds for each of 12 candidates, totalling 24 fits\n",
            "----------\n",
            "iter: 4\n",
            "n_candidates: 4\n",
            "n_resources: 729\n",
            "Fitting 2 folds for each of 4 candidates, totalling 8 fits\n",
            "----------\n",
            "iter: 5\n",
            "n_candidates: 2\n",
            "n_resources: 2187\n",
            "Fitting 2 folds for each of 2 candidates, totalling 4 fits\n",
            "CPU times: user 1.67 s, sys: 98.1 ms, total: 1.76 s\n",
            "Wall time: 14.4 s\n"
          ]
        },
        {
          "output_type": "execute_result",
          "data": {
            "text/plain": [
              "HalvingGridSearchCV(cv=2,\n",
              "                    estimator=Pipeline(steps=[('count_vect', CountVectorizer()),\n",
              "                                              ('clf',\n",
              "                                               DecisionTreeClassifier())]),\n",
              "                    n_jobs=-1,\n",
              "                    param_grid={'clf__criterion': ('gini', 'entropy',\n",
              "                                                   'log_loss'),\n",
              "                                'count_vect__max_df': array([0.3       , 0.34444444, 0.38888889, 0.43333333, 0.47777778,\n",
              "       0.52222222, 0.56666667, 0.61111111, 0.65555556, 0.7       ]),\n",
              "                                'count_vect__min_df': [0.0, 0.001, 0.003, 0.005,\n",
              "                                                       0.007],\n",
              "                                'count_vect__ngram_range': ((1, 1), (1, 2))},\n",
              "                    scoring='accuracy', verbose=1)"
            ],
            "text/html": [
              "<style>#sk-container-id-4 {color: black;background-color: white;}#sk-container-id-4 pre{padding: 0;}#sk-container-id-4 div.sk-toggleable {background-color: white;}#sk-container-id-4 label.sk-toggleable__label {cursor: pointer;display: block;width: 100%;margin-bottom: 0;padding: 0.3em;box-sizing: border-box;text-align: center;}#sk-container-id-4 label.sk-toggleable__label-arrow:before {content: \"▸\";float: left;margin-right: 0.25em;color: #696969;}#sk-container-id-4 label.sk-toggleable__label-arrow:hover:before {color: black;}#sk-container-id-4 div.sk-estimator:hover label.sk-toggleable__label-arrow:before {color: black;}#sk-container-id-4 div.sk-toggleable__content {max-height: 0;max-width: 0;overflow: hidden;text-align: left;background-color: #f0f8ff;}#sk-container-id-4 div.sk-toggleable__content pre {margin: 0.2em;color: black;border-radius: 0.25em;background-color: #f0f8ff;}#sk-container-id-4 input.sk-toggleable__control:checked~div.sk-toggleable__content {max-height: 200px;max-width: 100%;overflow: auto;}#sk-container-id-4 input.sk-toggleable__control:checked~label.sk-toggleable__label-arrow:before {content: \"▾\";}#sk-container-id-4 div.sk-estimator input.sk-toggleable__control:checked~label.sk-toggleable__label {background-color: #d4ebff;}#sk-container-id-4 div.sk-label input.sk-toggleable__control:checked~label.sk-toggleable__label {background-color: #d4ebff;}#sk-container-id-4 input.sk-hidden--visually {border: 0;clip: rect(1px 1px 1px 1px);clip: rect(1px, 1px, 1px, 1px);height: 1px;margin: -1px;overflow: hidden;padding: 0;position: absolute;width: 1px;}#sk-container-id-4 div.sk-estimator {font-family: monospace;background-color: #f0f8ff;border: 1px dotted black;border-radius: 0.25em;box-sizing: border-box;margin-bottom: 0.5em;}#sk-container-id-4 div.sk-estimator:hover {background-color: #d4ebff;}#sk-container-id-4 div.sk-parallel-item::after {content: \"\";width: 100%;border-bottom: 1px solid gray;flex-grow: 1;}#sk-container-id-4 div.sk-label:hover label.sk-toggleable__label {background-color: #d4ebff;}#sk-container-id-4 div.sk-serial::before {content: \"\";position: absolute;border-left: 1px solid gray;box-sizing: border-box;top: 0;bottom: 0;left: 50%;z-index: 0;}#sk-container-id-4 div.sk-serial {display: flex;flex-direction: column;align-items: center;background-color: white;padding-right: 0.2em;padding-left: 0.2em;position: relative;}#sk-container-id-4 div.sk-item {position: relative;z-index: 1;}#sk-container-id-4 div.sk-parallel {display: flex;align-items: stretch;justify-content: center;background-color: white;position: relative;}#sk-container-id-4 div.sk-item::before, #sk-container-id-4 div.sk-parallel-item::before {content: \"\";position: absolute;border-left: 1px solid gray;box-sizing: border-box;top: 0;bottom: 0;left: 50%;z-index: -1;}#sk-container-id-4 div.sk-parallel-item {display: flex;flex-direction: column;z-index: 1;position: relative;background-color: white;}#sk-container-id-4 div.sk-parallel-item:first-child::after {align-self: flex-end;width: 50%;}#sk-container-id-4 div.sk-parallel-item:last-child::after {align-self: flex-start;width: 50%;}#sk-container-id-4 div.sk-parallel-item:only-child::after {width: 0;}#sk-container-id-4 div.sk-dashed-wrapped {border: 1px dashed gray;margin: 0 0.4em 0.5em 0.4em;box-sizing: border-box;padding-bottom: 0.4em;background-color: white;}#sk-container-id-4 div.sk-label label {font-family: monospace;font-weight: bold;display: inline-block;line-height: 1.2em;}#sk-container-id-4 div.sk-label-container {text-align: center;}#sk-container-id-4 div.sk-container {/* jupyter's `normalize.less` sets `[hidden] { display: none; }` but bootstrap.min.css set `[hidden] { display: none !important; }` so we also need the `!important` here to be able to override the default hidden behavior on the sphinx rendered scikit-learn.org. See: https://github.com/scikit-learn/scikit-learn/issues/21755 */display: inline-block !important;position: relative;}#sk-container-id-4 div.sk-text-repr-fallback {display: none;}</style><div id=\"sk-container-id-4\" class=\"sk-top-container\"><div class=\"sk-text-repr-fallback\"><pre>HalvingGridSearchCV(cv=2,\n",
              "                    estimator=Pipeline(steps=[(&#x27;count_vect&#x27;, CountVectorizer()),\n",
              "                                              (&#x27;clf&#x27;,\n",
              "                                               DecisionTreeClassifier())]),\n",
              "                    n_jobs=-1,\n",
              "                    param_grid={&#x27;clf__criterion&#x27;: (&#x27;gini&#x27;, &#x27;entropy&#x27;,\n",
              "                                                   &#x27;log_loss&#x27;),\n",
              "                                &#x27;count_vect__max_df&#x27;: array([0.3       , 0.34444444, 0.38888889, 0.43333333, 0.47777778,\n",
              "       0.52222222, 0.56666667, 0.61111111, 0.65555556, 0.7       ]),\n",
              "                                &#x27;count_vect__min_df&#x27;: [0.0, 0.001, 0.003, 0.005,\n",
              "                                                       0.007],\n",
              "                                &#x27;count_vect__ngram_range&#x27;: ((1, 1), (1, 2))},\n",
              "                    scoring=&#x27;accuracy&#x27;, verbose=1)</pre><b>In a Jupyter environment, please rerun this cell to show the HTML representation or trust the notebook. <br />On GitHub, the HTML representation is unable to render, please try loading this page with nbviewer.org.</b></div><div class=\"sk-container\" hidden><div class=\"sk-item sk-dashed-wrapped\"><div class=\"sk-label-container\"><div class=\"sk-label sk-toggleable\"><input class=\"sk-toggleable__control sk-hidden--visually\" id=\"sk-estimator-id-13\" type=\"checkbox\" ><label for=\"sk-estimator-id-13\" class=\"sk-toggleable__label sk-toggleable__label-arrow\">HalvingGridSearchCV</label><div class=\"sk-toggleable__content\"><pre>HalvingGridSearchCV(cv=2,\n",
              "                    estimator=Pipeline(steps=[(&#x27;count_vect&#x27;, CountVectorizer()),\n",
              "                                              (&#x27;clf&#x27;,\n",
              "                                               DecisionTreeClassifier())]),\n",
              "                    n_jobs=-1,\n",
              "                    param_grid={&#x27;clf__criterion&#x27;: (&#x27;gini&#x27;, &#x27;entropy&#x27;,\n",
              "                                                   &#x27;log_loss&#x27;),\n",
              "                                &#x27;count_vect__max_df&#x27;: array([0.3       , 0.34444444, 0.38888889, 0.43333333, 0.47777778,\n",
              "       0.52222222, 0.56666667, 0.61111111, 0.65555556, 0.7       ]),\n",
              "                                &#x27;count_vect__min_df&#x27;: [0.0, 0.001, 0.003, 0.005,\n",
              "                                                       0.007],\n",
              "                                &#x27;count_vect__ngram_range&#x27;: ((1, 1), (1, 2))},\n",
              "                    scoring=&#x27;accuracy&#x27;, verbose=1)</pre></div></div></div><div class=\"sk-parallel\"><div class=\"sk-parallel-item\"><div class=\"sk-item\"><div class=\"sk-label-container\"><div class=\"sk-label sk-toggleable\"><input class=\"sk-toggleable__control sk-hidden--visually\" id=\"sk-estimator-id-14\" type=\"checkbox\" ><label for=\"sk-estimator-id-14\" class=\"sk-toggleable__label sk-toggleable__label-arrow\">estimator: Pipeline</label><div class=\"sk-toggleable__content\"><pre>Pipeline(steps=[(&#x27;count_vect&#x27;, CountVectorizer()),\n",
              "                (&#x27;clf&#x27;, DecisionTreeClassifier())])</pre></div></div></div><div class=\"sk-serial\"><div class=\"sk-item\"><div class=\"sk-serial\"><div class=\"sk-item\"><div class=\"sk-estimator sk-toggleable\"><input class=\"sk-toggleable__control sk-hidden--visually\" id=\"sk-estimator-id-15\" type=\"checkbox\" ><label for=\"sk-estimator-id-15\" class=\"sk-toggleable__label sk-toggleable__label-arrow\">CountVectorizer</label><div class=\"sk-toggleable__content\"><pre>CountVectorizer()</pre></div></div></div><div class=\"sk-item\"><div class=\"sk-estimator sk-toggleable\"><input class=\"sk-toggleable__control sk-hidden--visually\" id=\"sk-estimator-id-16\" type=\"checkbox\" ><label for=\"sk-estimator-id-16\" class=\"sk-toggleable__label sk-toggleable__label-arrow\">DecisionTreeClassifier</label><div class=\"sk-toggleable__content\"><pre>DecisionTreeClassifier()</pre></div></div></div></div></div></div></div></div></div></div></div></div>"
            ]
          },
          "metadata": {},
          "execution_count": 67
        }
      ],
      "source": [
        "%%time\n",
        "\n",
        "grid_search = HalvingGridSearchCV(\n",
        "    pipe,\n",
        "    param_grid=parameter_grid,\n",
        "    n_jobs=-1,\n",
        "    verbose=1,\n",
        "    cv=2,\n",
        "    scoring='accuracy',\n",
        ")\n",
        "grid_search.fit(X_train, y_train)"
      ]
    },
    {
      "cell_type": "code",
      "execution_count": null,
      "metadata": {
        "colab": {
          "base_uri": "https://localhost:8080/"
        },
        "id": "aeLfM6mawB0U",
        "outputId": "2799cb63-9fd6-4a6b-fe66-9dfd0db9291b"
      },
      "outputs": [
        {
          "output_type": "execute_result",
          "data": {
            "text/plain": [
              "0.9423604757548033"
            ]
          },
          "metadata": {},
          "execution_count": 68
        }
      ],
      "source": [
        "grid_search_count_vect_tree = grid_search\n",
        "grid_search_count_vect_tree.best_score_"
      ]
    },
    {
      "cell_type": "markdown",
      "metadata": {
        "id": "yddqSMDdwB0W"
      },
      "source": [
        "### Обучим CountVectorizer, LogisticRegression."
      ]
    },
    {
      "cell_type": "code",
      "execution_count": null,
      "metadata": {
        "id": "lMnP6F7GwB0W"
      },
      "outputs": [],
      "source": [
        "pipe = Pipeline(\n",
        "    steps=[\n",
        "        ('count_vect', CountVectorizer()),\n",
        "        ('clf', LogisticRegression())\n",
        "    ]\n",
        ")"
      ]
    },
    {
      "cell_type": "code",
      "execution_count": null,
      "metadata": {
        "id": "xBBseNL6wB0X"
      },
      "outputs": [],
      "source": [
        "parameter_grid = {\n",
        "    \"count_vect__max_df\": np.linspace(0.3, 0.7, 10),\n",
        "    \"count_vect__min_df\": [ 0.0, 0.001, 0.003, 0.005, 0.007],\n",
        "    \"count_vect__ngram_range\": ((1, 1), (1, 2)),  # слова или биграммы\n",
        "    \"clf__C\": np.linspace(0.1, 1, 10),\n",
        "}"
      ]
    },
    {
      "cell_type": "code",
      "execution_count": null,
      "metadata": {
        "colab": {
          "base_uri": "https://localhost:8080/",
          "height": 1000
        },
        "id": "hhqGLinnwB0Y",
        "outputId": "2dbf3c41-3e5a-40a1-8b4e-214b27f6154a"
      },
      "outputs": [
        {
          "output_type": "stream",
          "name": "stdout",
          "text": [
            "n_iterations: 6\n",
            "n_required_iterations: 7\n",
            "n_possible_iterations: 6\n",
            "min_resources_: 8\n",
            "max_resources_: 2250\n",
            "aggressive_elimination: False\n",
            "factor: 3\n",
            "----------\n",
            "iter: 0\n",
            "n_candidates: 1000\n",
            "n_resources: 8\n",
            "Fitting 2 folds for each of 1000 candidates, totalling 2000 fits\n"
          ]
        },
        {
          "output_type": "stream",
          "name": "stderr",
          "text": [
            "/usr/local/lib/python3.9/dist-packages/sklearn/model_selection/_validation.py:378: FitFailedWarning: \n",
            "1000 fits failed out of a total of 2000.\n",
            "The score on these train-test partitions for these parameters will be set to nan.\n",
            "If these failures are not expected, you can try to debug them by setting error_score='raise'.\n",
            "\n",
            "Below are more details about the failures:\n",
            "--------------------------------------------------------------------------------\n",
            "1000 fits failed with the following error:\n",
            "Traceback (most recent call last):\n",
            "  File \"/usr/local/lib/python3.9/dist-packages/sklearn/model_selection/_validation.py\", line 686, in _fit_and_score\n",
            "    estimator.fit(X_train, y_train, **fit_params)\n",
            "  File \"/usr/local/lib/python3.9/dist-packages/sklearn/pipeline.py\", line 405, in fit\n",
            "    self._final_estimator.fit(Xt, y, **fit_params_last_step)\n",
            "  File \"/usr/local/lib/python3.9/dist-packages/sklearn/linear_model/_logistic.py\", line 1241, in fit\n",
            "    raise ValueError(\n",
            "ValueError: This solver needs samples of at least 2 classes in the data, but the data contains only one class: 0\n",
            "\n",
            "  warnings.warn(some_fits_failed_message, FitFailedWarning)\n",
            "/usr/local/lib/python3.9/dist-packages/sklearn/model_selection/_search.py:952: UserWarning: One or more of the test scores are non-finite: [nan nan nan nan nan nan nan nan nan nan nan nan nan nan nan nan nan nan\n",
            " nan nan nan nan nan nan nan nan nan nan nan nan nan nan nan nan nan nan\n",
            " nan nan nan nan nan nan nan nan nan nan nan nan nan nan nan nan nan nan\n",
            " nan nan nan nan nan nan nan nan nan nan nan nan nan nan nan nan nan nan\n",
            " nan nan nan nan nan nan nan nan nan nan nan nan nan nan nan nan nan nan\n",
            " nan nan nan nan nan nan nan nan nan nan nan nan nan nan nan nan nan nan\n",
            " nan nan nan nan nan nan nan nan nan nan nan nan nan nan nan nan nan nan\n",
            " nan nan nan nan nan nan nan nan nan nan nan nan nan nan nan nan nan nan\n",
            " nan nan nan nan nan nan nan nan nan nan nan nan nan nan nan nan nan nan\n",
            " nan nan nan nan nan nan nan nan nan nan nan nan nan nan nan nan nan nan\n",
            " nan nan nan nan nan nan nan nan nan nan nan nan nan nan nan nan nan nan\n",
            " nan nan nan nan nan nan nan nan nan nan nan nan nan nan nan nan nan nan\n",
            " nan nan nan nan nan nan nan nan nan nan nan nan nan nan nan nan nan nan\n",
            " nan nan nan nan nan nan nan nan nan nan nan nan nan nan nan nan nan nan\n",
            " nan nan nan nan nan nan nan nan nan nan nan nan nan nan nan nan nan nan\n",
            " nan nan nan nan nan nan nan nan nan nan nan nan nan nan nan nan nan nan\n",
            " nan nan nan nan nan nan nan nan nan nan nan nan nan nan nan nan nan nan\n",
            " nan nan nan nan nan nan nan nan nan nan nan nan nan nan nan nan nan nan\n",
            " nan nan nan nan nan nan nan nan nan nan nan nan nan nan nan nan nan nan\n",
            " nan nan nan nan nan nan nan nan nan nan nan nan nan nan nan nan nan nan\n",
            " nan nan nan nan nan nan nan nan nan nan nan nan nan nan nan nan nan nan\n",
            " nan nan nan nan nan nan nan nan nan nan nan nan nan nan nan nan nan nan\n",
            " nan nan nan nan nan nan nan nan nan nan nan nan nan nan nan nan nan nan\n",
            " nan nan nan nan nan nan nan nan nan nan nan nan nan nan nan nan nan nan\n",
            " nan nan nan nan nan nan nan nan nan nan nan nan nan nan nan nan nan nan\n",
            " nan nan nan nan nan nan nan nan nan nan nan nan nan nan nan nan nan nan\n",
            " nan nan nan nan nan nan nan nan nan nan nan nan nan nan nan nan nan nan\n",
            " nan nan nan nan nan nan nan nan nan nan nan nan nan nan nan nan nan nan\n",
            " nan nan nan nan nan nan nan nan nan nan nan nan nan nan nan nan nan nan\n",
            " nan nan nan nan nan nan nan nan nan nan nan nan nan nan nan nan nan nan\n",
            " nan nan nan nan nan nan nan nan nan nan nan nan nan nan nan nan nan nan\n",
            " nan nan nan nan nan nan nan nan nan nan nan nan nan nan nan nan nan nan\n",
            " nan nan nan nan nan nan nan nan nan nan nan nan nan nan nan nan nan nan\n",
            " nan nan nan nan nan nan nan nan nan nan nan nan nan nan nan nan nan nan\n",
            " nan nan nan nan nan nan nan nan nan nan nan nan nan nan nan nan nan nan\n",
            " nan nan nan nan nan nan nan nan nan nan nan nan nan nan nan nan nan nan\n",
            " nan nan nan nan nan nan nan nan nan nan nan nan nan nan nan nan nan nan\n",
            " nan nan nan nan nan nan nan nan nan nan nan nan nan nan nan nan nan nan\n",
            " nan nan nan nan nan nan nan nan nan nan nan nan nan nan nan nan nan nan\n",
            " nan nan nan nan nan nan nan nan nan nan nan nan nan nan nan nan nan nan\n",
            " nan nan nan nan nan nan nan nan nan nan nan nan nan nan nan nan nan nan\n",
            " nan nan nan nan nan nan nan nan nan nan nan nan nan nan nan nan nan nan\n",
            " nan nan nan nan nan nan nan nan nan nan nan nan nan nan nan nan nan nan\n",
            " nan nan nan nan nan nan nan nan nan nan nan nan nan nan nan nan nan nan\n",
            " nan nan nan nan nan nan nan nan nan nan nan nan nan nan nan nan nan nan\n",
            " nan nan nan nan nan nan nan nan nan nan nan nan nan nan nan nan nan nan\n",
            " nan nan nan nan nan nan nan nan nan nan nan nan nan nan nan nan nan nan\n",
            " nan nan nan nan nan nan nan nan nan nan nan nan nan nan nan nan nan nan\n",
            " nan nan nan nan nan nan nan nan nan nan nan nan nan nan nan nan nan nan\n",
            " nan nan nan nan nan nan nan nan nan nan nan nan nan nan nan nan nan nan\n",
            " nan nan nan nan nan nan nan nan nan nan nan nan nan nan nan nan nan nan\n",
            " nan nan nan nan nan nan nan nan nan nan nan nan nan nan nan nan nan nan\n",
            " nan nan nan nan nan nan nan nan nan nan nan nan nan nan nan nan nan nan\n",
            " nan nan nan nan nan nan nan nan nan nan nan nan nan nan nan nan nan nan\n",
            " nan nan nan nan nan nan nan nan nan nan nan nan nan nan nan nan nan nan\n",
            " nan nan nan nan nan nan nan nan nan nan]\n",
            "  warnings.warn(\n",
            "/usr/local/lib/python3.9/dist-packages/sklearn/model_selection/_search.py:952: UserWarning: One or more of the train scores are non-finite: [nan nan nan nan nan nan nan nan nan nan nan nan nan nan nan nan nan nan\n",
            " nan nan nan nan nan nan nan nan nan nan nan nan nan nan nan nan nan nan\n",
            " nan nan nan nan nan nan nan nan nan nan nan nan nan nan nan nan nan nan\n",
            " nan nan nan nan nan nan nan nan nan nan nan nan nan nan nan nan nan nan\n",
            " nan nan nan nan nan nan nan nan nan nan nan nan nan nan nan nan nan nan\n",
            " nan nan nan nan nan nan nan nan nan nan nan nan nan nan nan nan nan nan\n",
            " nan nan nan nan nan nan nan nan nan nan nan nan nan nan nan nan nan nan\n",
            " nan nan nan nan nan nan nan nan nan nan nan nan nan nan nan nan nan nan\n",
            " nan nan nan nan nan nan nan nan nan nan nan nan nan nan nan nan nan nan\n",
            " nan nan nan nan nan nan nan nan nan nan nan nan nan nan nan nan nan nan\n",
            " nan nan nan nan nan nan nan nan nan nan nan nan nan nan nan nan nan nan\n",
            " nan nan nan nan nan nan nan nan nan nan nan nan nan nan nan nan nan nan\n",
            " nan nan nan nan nan nan nan nan nan nan nan nan nan nan nan nan nan nan\n",
            " nan nan nan nan nan nan nan nan nan nan nan nan nan nan nan nan nan nan\n",
            " nan nan nan nan nan nan nan nan nan nan nan nan nan nan nan nan nan nan\n",
            " nan nan nan nan nan nan nan nan nan nan nan nan nan nan nan nan nan nan\n",
            " nan nan nan nan nan nan nan nan nan nan nan nan nan nan nan nan nan nan\n",
            " nan nan nan nan nan nan nan nan nan nan nan nan nan nan nan nan nan nan\n",
            " nan nan nan nan nan nan nan nan nan nan nan nan nan nan nan nan nan nan\n",
            " nan nan nan nan nan nan nan nan nan nan nan nan nan nan nan nan nan nan\n",
            " nan nan nan nan nan nan nan nan nan nan nan nan nan nan nan nan nan nan\n",
            " nan nan nan nan nan nan nan nan nan nan nan nan nan nan nan nan nan nan\n",
            " nan nan nan nan nan nan nan nan nan nan nan nan nan nan nan nan nan nan\n",
            " nan nan nan nan nan nan nan nan nan nan nan nan nan nan nan nan nan nan\n",
            " nan nan nan nan nan nan nan nan nan nan nan nan nan nan nan nan nan nan\n",
            " nan nan nan nan nan nan nan nan nan nan nan nan nan nan nan nan nan nan\n",
            " nan nan nan nan nan nan nan nan nan nan nan nan nan nan nan nan nan nan\n",
            " nan nan nan nan nan nan nan nan nan nan nan nan nan nan nan nan nan nan\n",
            " nan nan nan nan nan nan nan nan nan nan nan nan nan nan nan nan nan nan\n",
            " nan nan nan nan nan nan nan nan nan nan nan nan nan nan nan nan nan nan\n",
            " nan nan nan nan nan nan nan nan nan nan nan nan nan nan nan nan nan nan\n",
            " nan nan nan nan nan nan nan nan nan nan nan nan nan nan nan nan nan nan\n",
            " nan nan nan nan nan nan nan nan nan nan nan nan nan nan nan nan nan nan\n",
            " nan nan nan nan nan nan nan nan nan nan nan nan nan nan nan nan nan nan\n",
            " nan nan nan nan nan nan nan nan nan nan nan nan nan nan nan nan nan nan\n",
            " nan nan nan nan nan nan nan nan nan nan nan nan nan nan nan nan nan nan\n",
            " nan nan nan nan nan nan nan nan nan nan nan nan nan nan nan nan nan nan\n",
            " nan nan nan nan nan nan nan nan nan nan nan nan nan nan nan nan nan nan\n",
            " nan nan nan nan nan nan nan nan nan nan nan nan nan nan nan nan nan nan\n",
            " nan nan nan nan nan nan nan nan nan nan nan nan nan nan nan nan nan nan\n",
            " nan nan nan nan nan nan nan nan nan nan nan nan nan nan nan nan nan nan\n",
            " nan nan nan nan nan nan nan nan nan nan nan nan nan nan nan nan nan nan\n",
            " nan nan nan nan nan nan nan nan nan nan nan nan nan nan nan nan nan nan\n",
            " nan nan nan nan nan nan nan nan nan nan nan nan nan nan nan nan nan nan\n",
            " nan nan nan nan nan nan nan nan nan nan nan nan nan nan nan nan nan nan\n",
            " nan nan nan nan nan nan nan nan nan nan nan nan nan nan nan nan nan nan\n",
            " nan nan nan nan nan nan nan nan nan nan nan nan nan nan nan nan nan nan\n",
            " nan nan nan nan nan nan nan nan nan nan nan nan nan nan nan nan nan nan\n",
            " nan nan nan nan nan nan nan nan nan nan nan nan nan nan nan nan nan nan\n",
            " nan nan nan nan nan nan nan nan nan nan nan nan nan nan nan nan nan nan\n",
            " nan nan nan nan nan nan nan nan nan nan nan nan nan nan nan nan nan nan\n",
            " nan nan nan nan nan nan nan nan nan nan nan nan nan nan nan nan nan nan\n",
            " nan nan nan nan nan nan nan nan nan nan nan nan nan nan nan nan nan nan\n",
            " nan nan nan nan nan nan nan nan nan nan nan nan nan nan nan nan nan nan\n",
            " nan nan nan nan nan nan nan nan nan nan nan nan nan nan nan nan nan nan\n",
            " nan nan nan nan nan nan nan nan nan nan]\n",
            "  warnings.warn(\n"
          ]
        },
        {
          "output_type": "stream",
          "name": "stdout",
          "text": [
            "----------\n",
            "iter: 1\n",
            "n_candidates: 334\n",
            "n_resources: 24\n",
            "Fitting 2 folds for each of 334 candidates, totalling 668 fits\n"
          ]
        },
        {
          "output_type": "stream",
          "name": "stderr",
          "text": [
            "/usr/local/lib/python3.9/dist-packages/sklearn/model_selection/_validation.py:378: FitFailedWarning: \n",
            "334 fits failed out of a total of 668.\n",
            "The score on these train-test partitions for these parameters will be set to nan.\n",
            "If these failures are not expected, you can try to debug them by setting error_score='raise'.\n",
            "\n",
            "Below are more details about the failures:\n",
            "--------------------------------------------------------------------------------\n",
            "334 fits failed with the following error:\n",
            "Traceback (most recent call last):\n",
            "  File \"/usr/local/lib/python3.9/dist-packages/sklearn/model_selection/_validation.py\", line 686, in _fit_and_score\n",
            "    estimator.fit(X_train, y_train, **fit_params)\n",
            "  File \"/usr/local/lib/python3.9/dist-packages/sklearn/pipeline.py\", line 405, in fit\n",
            "    self._final_estimator.fit(Xt, y, **fit_params_last_step)\n",
            "  File \"/usr/local/lib/python3.9/dist-packages/sklearn/linear_model/_logistic.py\", line 1241, in fit\n",
            "    raise ValueError(\n",
            "ValueError: This solver needs samples of at least 2 classes in the data, but the data contains only one class: 0\n",
            "\n",
            "  warnings.warn(some_fits_failed_message, FitFailedWarning)\n",
            "/usr/local/lib/python3.9/dist-packages/sklearn/model_selection/_search.py:952: UserWarning: One or more of the test scores are non-finite: [nan nan nan ... nan nan nan]\n",
            "  warnings.warn(\n",
            "/usr/local/lib/python3.9/dist-packages/sklearn/model_selection/_search.py:952: UserWarning: One or more of the train scores are non-finite: [nan nan nan ... nan nan nan]\n",
            "  warnings.warn(\n"
          ]
        },
        {
          "output_type": "stream",
          "name": "stdout",
          "text": [
            "----------\n",
            "iter: 2\n",
            "n_candidates: 112\n",
            "n_resources: 72\n",
            "Fitting 2 folds for each of 112 candidates, totalling 224 fits\n"
          ]
        },
        {
          "output_type": "stream",
          "name": "stderr",
          "text": [
            "/usr/local/lib/python3.9/dist-packages/sklearn/model_selection/_search.py:952: UserWarning: One or more of the test scores are non-finite: [       nan        nan        nan ... 0.83333333 0.83333333 0.81944444]\n",
            "  warnings.warn(\n",
            "/usr/local/lib/python3.9/dist-packages/sklearn/model_selection/_search.py:952: UserWarning: One or more of the train scores are non-finite: [nan nan nan ...  1.  1.  1.]\n",
            "  warnings.warn(\n"
          ]
        },
        {
          "output_type": "stream",
          "name": "stdout",
          "text": [
            "----------\n",
            "iter: 3\n",
            "n_candidates: 38\n",
            "n_resources: 216\n",
            "Fitting 2 folds for each of 38 candidates, totalling 76 fits\n"
          ]
        },
        {
          "output_type": "stream",
          "name": "stderr",
          "text": [
            "/usr/local/lib/python3.9/dist-packages/sklearn/model_selection/_search.py:952: UserWarning: One or more of the test scores are non-finite: [       nan        nan        nan ... 0.93518519 0.93518519 0.93518519]\n",
            "  warnings.warn(\n",
            "/usr/local/lib/python3.9/dist-packages/sklearn/model_selection/_search.py:952: UserWarning: One or more of the train scores are non-finite: [       nan        nan        nan ... 0.99074074 0.99074074 0.99074074]\n",
            "  warnings.warn(\n"
          ]
        },
        {
          "output_type": "stream",
          "name": "stdout",
          "text": [
            "----------\n",
            "iter: 4\n",
            "n_candidates: 13\n",
            "n_resources: 648\n",
            "Fitting 2 folds for each of 13 candidates, totalling 26 fits\n"
          ]
        },
        {
          "output_type": "stream",
          "name": "stderr",
          "text": [
            "/usr/local/lib/python3.9/dist-packages/sklearn/model_selection/_search.py:952: UserWarning: One or more of the test scores are non-finite: [       nan        nan        nan ... 0.96141975 0.96141975 0.95679012]\n",
            "  warnings.warn(\n",
            "/usr/local/lib/python3.9/dist-packages/sklearn/model_selection/_search.py:952: UserWarning: One or more of the train scores are non-finite: [       nan        nan        nan ... 0.99074074 0.99074074 0.99691358]\n",
            "  warnings.warn(\n"
          ]
        },
        {
          "output_type": "stream",
          "name": "stdout",
          "text": [
            "----------\n",
            "iter: 5\n",
            "n_candidates: 5\n",
            "n_resources: 1944\n",
            "Fitting 2 folds for each of 5 candidates, totalling 10 fits\n"
          ]
        },
        {
          "output_type": "stream",
          "name": "stderr",
          "text": [
            "/usr/local/lib/python3.9/dist-packages/sklearn/model_selection/_search.py:952: UserWarning: One or more of the test scores are non-finite: [       nan        nan        nan ... 0.97839506 0.97839506 0.97839506]\n",
            "  warnings.warn(\n",
            "/usr/local/lib/python3.9/dist-packages/sklearn/model_selection/_search.py:952: UserWarning: One or more of the train scores are non-finite: [       nan        nan        nan ... 0.99537037 0.99537037 0.99537037]\n",
            "  warnings.warn(\n"
          ]
        },
        {
          "output_type": "stream",
          "name": "stdout",
          "text": [
            "CPU times: user 3.84 s, sys: 256 ms, total: 4.1 s\n",
            "Wall time: 38.7 s\n"
          ]
        },
        {
          "output_type": "execute_result",
          "data": {
            "text/plain": [
              "HalvingGridSearchCV(cv=2,\n",
              "                    estimator=Pipeline(steps=[('count_vect', CountVectorizer()),\n",
              "                                              ('clf', LogisticRegression())]),\n",
              "                    n_jobs=-1,\n",
              "                    param_grid={'clf__C': array([0.1, 0.2, 0.3, 0.4, 0.5, 0.6, 0.7, 0.8, 0.9, 1. ]),\n",
              "                                'count_vect__max_df': array([0.3       , 0.34444444, 0.38888889, 0.43333333, 0.47777778,\n",
              "       0.52222222, 0.56666667, 0.61111111, 0.65555556, 0.7       ]),\n",
              "                                'count_vect__min_df': [0.0, 0.001, 0.003, 0.005,\n",
              "                                                       0.007],\n",
              "                                'count_vect__ngram_range': ((1, 1), (1, 2))},\n",
              "                    scoring='accuracy', verbose=1)"
            ],
            "text/html": [
              "<style>#sk-container-id-5 {color: black;background-color: white;}#sk-container-id-5 pre{padding: 0;}#sk-container-id-5 div.sk-toggleable {background-color: white;}#sk-container-id-5 label.sk-toggleable__label {cursor: pointer;display: block;width: 100%;margin-bottom: 0;padding: 0.3em;box-sizing: border-box;text-align: center;}#sk-container-id-5 label.sk-toggleable__label-arrow:before {content: \"▸\";float: left;margin-right: 0.25em;color: #696969;}#sk-container-id-5 label.sk-toggleable__label-arrow:hover:before {color: black;}#sk-container-id-5 div.sk-estimator:hover label.sk-toggleable__label-arrow:before {color: black;}#sk-container-id-5 div.sk-toggleable__content {max-height: 0;max-width: 0;overflow: hidden;text-align: left;background-color: #f0f8ff;}#sk-container-id-5 div.sk-toggleable__content pre {margin: 0.2em;color: black;border-radius: 0.25em;background-color: #f0f8ff;}#sk-container-id-5 input.sk-toggleable__control:checked~div.sk-toggleable__content {max-height: 200px;max-width: 100%;overflow: auto;}#sk-container-id-5 input.sk-toggleable__control:checked~label.sk-toggleable__label-arrow:before {content: \"▾\";}#sk-container-id-5 div.sk-estimator input.sk-toggleable__control:checked~label.sk-toggleable__label {background-color: #d4ebff;}#sk-container-id-5 div.sk-label input.sk-toggleable__control:checked~label.sk-toggleable__label {background-color: #d4ebff;}#sk-container-id-5 input.sk-hidden--visually {border: 0;clip: rect(1px 1px 1px 1px);clip: rect(1px, 1px, 1px, 1px);height: 1px;margin: -1px;overflow: hidden;padding: 0;position: absolute;width: 1px;}#sk-container-id-5 div.sk-estimator {font-family: monospace;background-color: #f0f8ff;border: 1px dotted black;border-radius: 0.25em;box-sizing: border-box;margin-bottom: 0.5em;}#sk-container-id-5 div.sk-estimator:hover {background-color: #d4ebff;}#sk-container-id-5 div.sk-parallel-item::after {content: \"\";width: 100%;border-bottom: 1px solid gray;flex-grow: 1;}#sk-container-id-5 div.sk-label:hover label.sk-toggleable__label {background-color: #d4ebff;}#sk-container-id-5 div.sk-serial::before {content: \"\";position: absolute;border-left: 1px solid gray;box-sizing: border-box;top: 0;bottom: 0;left: 50%;z-index: 0;}#sk-container-id-5 div.sk-serial {display: flex;flex-direction: column;align-items: center;background-color: white;padding-right: 0.2em;padding-left: 0.2em;position: relative;}#sk-container-id-5 div.sk-item {position: relative;z-index: 1;}#sk-container-id-5 div.sk-parallel {display: flex;align-items: stretch;justify-content: center;background-color: white;position: relative;}#sk-container-id-5 div.sk-item::before, #sk-container-id-5 div.sk-parallel-item::before {content: \"\";position: absolute;border-left: 1px solid gray;box-sizing: border-box;top: 0;bottom: 0;left: 50%;z-index: -1;}#sk-container-id-5 div.sk-parallel-item {display: flex;flex-direction: column;z-index: 1;position: relative;background-color: white;}#sk-container-id-5 div.sk-parallel-item:first-child::after {align-self: flex-end;width: 50%;}#sk-container-id-5 div.sk-parallel-item:last-child::after {align-self: flex-start;width: 50%;}#sk-container-id-5 div.sk-parallel-item:only-child::after {width: 0;}#sk-container-id-5 div.sk-dashed-wrapped {border: 1px dashed gray;margin: 0 0.4em 0.5em 0.4em;box-sizing: border-box;padding-bottom: 0.4em;background-color: white;}#sk-container-id-5 div.sk-label label {font-family: monospace;font-weight: bold;display: inline-block;line-height: 1.2em;}#sk-container-id-5 div.sk-label-container {text-align: center;}#sk-container-id-5 div.sk-container {/* jupyter's `normalize.less` sets `[hidden] { display: none; }` but bootstrap.min.css set `[hidden] { display: none !important; }` so we also need the `!important` here to be able to override the default hidden behavior on the sphinx rendered scikit-learn.org. See: https://github.com/scikit-learn/scikit-learn/issues/21755 */display: inline-block !important;position: relative;}#sk-container-id-5 div.sk-text-repr-fallback {display: none;}</style><div id=\"sk-container-id-5\" class=\"sk-top-container\"><div class=\"sk-text-repr-fallback\"><pre>HalvingGridSearchCV(cv=2,\n",
              "                    estimator=Pipeline(steps=[(&#x27;count_vect&#x27;, CountVectorizer()),\n",
              "                                              (&#x27;clf&#x27;, LogisticRegression())]),\n",
              "                    n_jobs=-1,\n",
              "                    param_grid={&#x27;clf__C&#x27;: array([0.1, 0.2, 0.3, 0.4, 0.5, 0.6, 0.7, 0.8, 0.9, 1. ]),\n",
              "                                &#x27;count_vect__max_df&#x27;: array([0.3       , 0.34444444, 0.38888889, 0.43333333, 0.47777778,\n",
              "       0.52222222, 0.56666667, 0.61111111, 0.65555556, 0.7       ]),\n",
              "                                &#x27;count_vect__min_df&#x27;: [0.0, 0.001, 0.003, 0.005,\n",
              "                                                       0.007],\n",
              "                                &#x27;count_vect__ngram_range&#x27;: ((1, 1), (1, 2))},\n",
              "                    scoring=&#x27;accuracy&#x27;, verbose=1)</pre><b>In a Jupyter environment, please rerun this cell to show the HTML representation or trust the notebook. <br />On GitHub, the HTML representation is unable to render, please try loading this page with nbviewer.org.</b></div><div class=\"sk-container\" hidden><div class=\"sk-item sk-dashed-wrapped\"><div class=\"sk-label-container\"><div class=\"sk-label sk-toggleable\"><input class=\"sk-toggleable__control sk-hidden--visually\" id=\"sk-estimator-id-17\" type=\"checkbox\" ><label for=\"sk-estimator-id-17\" class=\"sk-toggleable__label sk-toggleable__label-arrow\">HalvingGridSearchCV</label><div class=\"sk-toggleable__content\"><pre>HalvingGridSearchCV(cv=2,\n",
              "                    estimator=Pipeline(steps=[(&#x27;count_vect&#x27;, CountVectorizer()),\n",
              "                                              (&#x27;clf&#x27;, LogisticRegression())]),\n",
              "                    n_jobs=-1,\n",
              "                    param_grid={&#x27;clf__C&#x27;: array([0.1, 0.2, 0.3, 0.4, 0.5, 0.6, 0.7, 0.8, 0.9, 1. ]),\n",
              "                                &#x27;count_vect__max_df&#x27;: array([0.3       , 0.34444444, 0.38888889, 0.43333333, 0.47777778,\n",
              "       0.52222222, 0.56666667, 0.61111111, 0.65555556, 0.7       ]),\n",
              "                                &#x27;count_vect__min_df&#x27;: [0.0, 0.001, 0.003, 0.005,\n",
              "                                                       0.007],\n",
              "                                &#x27;count_vect__ngram_range&#x27;: ((1, 1), (1, 2))},\n",
              "                    scoring=&#x27;accuracy&#x27;, verbose=1)</pre></div></div></div><div class=\"sk-parallel\"><div class=\"sk-parallel-item\"><div class=\"sk-item\"><div class=\"sk-label-container\"><div class=\"sk-label sk-toggleable\"><input class=\"sk-toggleable__control sk-hidden--visually\" id=\"sk-estimator-id-18\" type=\"checkbox\" ><label for=\"sk-estimator-id-18\" class=\"sk-toggleable__label sk-toggleable__label-arrow\">estimator: Pipeline</label><div class=\"sk-toggleable__content\"><pre>Pipeline(steps=[(&#x27;count_vect&#x27;, CountVectorizer()),\n",
              "                (&#x27;clf&#x27;, LogisticRegression())])</pre></div></div></div><div class=\"sk-serial\"><div class=\"sk-item\"><div class=\"sk-serial\"><div class=\"sk-item\"><div class=\"sk-estimator sk-toggleable\"><input class=\"sk-toggleable__control sk-hidden--visually\" id=\"sk-estimator-id-19\" type=\"checkbox\" ><label for=\"sk-estimator-id-19\" class=\"sk-toggleable__label sk-toggleable__label-arrow\">CountVectorizer</label><div class=\"sk-toggleable__content\"><pre>CountVectorizer()</pre></div></div></div><div class=\"sk-item\"><div class=\"sk-estimator sk-toggleable\"><input class=\"sk-toggleable__control sk-hidden--visually\" id=\"sk-estimator-id-20\" type=\"checkbox\" ><label for=\"sk-estimator-id-20\" class=\"sk-toggleable__label sk-toggleable__label-arrow\">LogisticRegression</label><div class=\"sk-toggleable__content\"><pre>LogisticRegression()</pre></div></div></div></div></div></div></div></div></div></div></div></div>"
            ]
          },
          "metadata": {},
          "execution_count": 71
        }
      ],
      "source": [
        "%%time\n",
        "\n",
        "grid_search = HalvingGridSearchCV(\n",
        "    pipe,\n",
        "    param_grid=parameter_grid,\n",
        "    n_jobs=-1,\n",
        "    verbose=1,\n",
        "    cv=2,\n",
        "    scoring='accuracy',\n",
        ")\n",
        "grid_search.fit(X_train, y_train)"
      ]
    },
    {
      "cell_type": "code",
      "execution_count": null,
      "metadata": {
        "colab": {
          "base_uri": "https://localhost:8080/"
        },
        "id": "xQNqjbsMwB0Z",
        "outputId": "415c715b-9b39-4968-eda5-fcb0594e4e66"
      },
      "outputs": [
        {
          "output_type": "execute_result",
          "data": {
            "text/plain": [
              "0.9783950617283951"
            ]
          },
          "metadata": {},
          "execution_count": 72
        }
      ],
      "source": [
        "grid_search_count_vect_logist=grid_search\n",
        "grid_search_count_vect_logist.best_score_"
      ]
    },
    {
      "cell_type": "markdown",
      "metadata": {
        "id": "TCyxSCfWwB0a"
      },
      "source": [
        "### Обучение CountVectorizer, MultinomialNB"
      ]
    },
    {
      "cell_type": "code",
      "execution_count": null,
      "metadata": {
        "id": "WEotzwe3wB0a"
      },
      "outputs": [],
      "source": [
        "pipe = Pipeline(\n",
        "    steps=[\n",
        "        ('count_vect', CountVectorizer()),\n",
        "        ('clf', MultinomialNB())\n",
        "    ]\n",
        ")"
      ]
    },
    {
      "cell_type": "code",
      "execution_count": null,
      "metadata": {
        "id": "lOkUL5GwwB0d"
      },
      "outputs": [],
      "source": [
        "parameter_grid = {\n",
        "    \"count_vect__max_df\": np.linspace(0.3, 0.7, 10),\n",
        "    \"count_vect__min_df\": [ 0.003, 0.005, 0.007],\n",
        "    \"count_vect__ngram_range\": ((1, 1), (1, 2)),  # слова или биграммы\n",
        "}"
      ]
    },
    {
      "cell_type": "code",
      "execution_count": null,
      "metadata": {
        "colab": {
          "base_uri": "https://localhost:8080/",
          "height": 688
        },
        "id": "HANyz1P5wB0e",
        "outputId": "a05f10ab-163a-4a18-b2cb-75bb1c9ecfca"
      },
      "outputs": [
        {
          "output_type": "stream",
          "name": "stdout",
          "text": [
            "n_iterations: 4\n",
            "n_required_iterations: 4\n",
            "n_possible_iterations: 4\n",
            "min_resources_: 83\n",
            "max_resources_: 2250\n",
            "aggressive_elimination: False\n",
            "factor: 3\n",
            "----------\n",
            "iter: 0\n",
            "n_candidates: 60\n",
            "n_resources: 83\n",
            "Fitting 2 folds for each of 60 candidates, totalling 120 fits\n",
            "----------\n",
            "iter: 1\n",
            "n_candidates: 20\n",
            "n_resources: 249\n",
            "Fitting 2 folds for each of 20 candidates, totalling 40 fits\n",
            "----------\n",
            "iter: 2\n",
            "n_candidates: 7\n",
            "n_resources: 747\n",
            "Fitting 2 folds for each of 7 candidates, totalling 14 fits\n",
            "----------\n",
            "iter: 3\n",
            "n_candidates: 3\n",
            "n_resources: 2241\n",
            "Fitting 2 folds for each of 3 candidates, totalling 6 fits\n",
            "CPU times: user 621 ms, sys: 55.9 ms, total: 677 ms\n",
            "Wall time: 8.94 s\n"
          ]
        },
        {
          "output_type": "execute_result",
          "data": {
            "text/plain": [
              "HalvingGridSearchCV(cv=2,\n",
              "                    estimator=Pipeline(steps=[('count_vect', CountVectorizer()),\n",
              "                                              ('clf', MultinomialNB())]),\n",
              "                    n_jobs=-1,\n",
              "                    param_grid={'count_vect__max_df': array([0.3       , 0.34444444, 0.38888889, 0.43333333, 0.47777778,\n",
              "       0.52222222, 0.56666667, 0.61111111, 0.65555556, 0.7       ]),\n",
              "                                'count_vect__min_df': [0.003, 0.005, 0.007],\n",
              "                                'count_vect__ngram_range': ((1, 1), (1, 2))},\n",
              "                    scoring='accuracy', verbose=1)"
            ],
            "text/html": [
              "<style>#sk-container-id-6 {color: black;background-color: white;}#sk-container-id-6 pre{padding: 0;}#sk-container-id-6 div.sk-toggleable {background-color: white;}#sk-container-id-6 label.sk-toggleable__label {cursor: pointer;display: block;width: 100%;margin-bottom: 0;padding: 0.3em;box-sizing: border-box;text-align: center;}#sk-container-id-6 label.sk-toggleable__label-arrow:before {content: \"▸\";float: left;margin-right: 0.25em;color: #696969;}#sk-container-id-6 label.sk-toggleable__label-arrow:hover:before {color: black;}#sk-container-id-6 div.sk-estimator:hover label.sk-toggleable__label-arrow:before {color: black;}#sk-container-id-6 div.sk-toggleable__content {max-height: 0;max-width: 0;overflow: hidden;text-align: left;background-color: #f0f8ff;}#sk-container-id-6 div.sk-toggleable__content pre {margin: 0.2em;color: black;border-radius: 0.25em;background-color: #f0f8ff;}#sk-container-id-6 input.sk-toggleable__control:checked~div.sk-toggleable__content {max-height: 200px;max-width: 100%;overflow: auto;}#sk-container-id-6 input.sk-toggleable__control:checked~label.sk-toggleable__label-arrow:before {content: \"▾\";}#sk-container-id-6 div.sk-estimator input.sk-toggleable__control:checked~label.sk-toggleable__label {background-color: #d4ebff;}#sk-container-id-6 div.sk-label input.sk-toggleable__control:checked~label.sk-toggleable__label {background-color: #d4ebff;}#sk-container-id-6 input.sk-hidden--visually {border: 0;clip: rect(1px 1px 1px 1px);clip: rect(1px, 1px, 1px, 1px);height: 1px;margin: -1px;overflow: hidden;padding: 0;position: absolute;width: 1px;}#sk-container-id-6 div.sk-estimator {font-family: monospace;background-color: #f0f8ff;border: 1px dotted black;border-radius: 0.25em;box-sizing: border-box;margin-bottom: 0.5em;}#sk-container-id-6 div.sk-estimator:hover {background-color: #d4ebff;}#sk-container-id-6 div.sk-parallel-item::after {content: \"\";width: 100%;border-bottom: 1px solid gray;flex-grow: 1;}#sk-container-id-6 div.sk-label:hover label.sk-toggleable__label {background-color: #d4ebff;}#sk-container-id-6 div.sk-serial::before {content: \"\";position: absolute;border-left: 1px solid gray;box-sizing: border-box;top: 0;bottom: 0;left: 50%;z-index: 0;}#sk-container-id-6 div.sk-serial {display: flex;flex-direction: column;align-items: center;background-color: white;padding-right: 0.2em;padding-left: 0.2em;position: relative;}#sk-container-id-6 div.sk-item {position: relative;z-index: 1;}#sk-container-id-6 div.sk-parallel {display: flex;align-items: stretch;justify-content: center;background-color: white;position: relative;}#sk-container-id-6 div.sk-item::before, #sk-container-id-6 div.sk-parallel-item::before {content: \"\";position: absolute;border-left: 1px solid gray;box-sizing: border-box;top: 0;bottom: 0;left: 50%;z-index: -1;}#sk-container-id-6 div.sk-parallel-item {display: flex;flex-direction: column;z-index: 1;position: relative;background-color: white;}#sk-container-id-6 div.sk-parallel-item:first-child::after {align-self: flex-end;width: 50%;}#sk-container-id-6 div.sk-parallel-item:last-child::after {align-self: flex-start;width: 50%;}#sk-container-id-6 div.sk-parallel-item:only-child::after {width: 0;}#sk-container-id-6 div.sk-dashed-wrapped {border: 1px dashed gray;margin: 0 0.4em 0.5em 0.4em;box-sizing: border-box;padding-bottom: 0.4em;background-color: white;}#sk-container-id-6 div.sk-label label {font-family: monospace;font-weight: bold;display: inline-block;line-height: 1.2em;}#sk-container-id-6 div.sk-label-container {text-align: center;}#sk-container-id-6 div.sk-container {/* jupyter's `normalize.less` sets `[hidden] { display: none; }` but bootstrap.min.css set `[hidden] { display: none !important; }` so we also need the `!important` here to be able to override the default hidden behavior on the sphinx rendered scikit-learn.org. See: https://github.com/scikit-learn/scikit-learn/issues/21755 */display: inline-block !important;position: relative;}#sk-container-id-6 div.sk-text-repr-fallback {display: none;}</style><div id=\"sk-container-id-6\" class=\"sk-top-container\"><div class=\"sk-text-repr-fallback\"><pre>HalvingGridSearchCV(cv=2,\n",
              "                    estimator=Pipeline(steps=[(&#x27;count_vect&#x27;, CountVectorizer()),\n",
              "                                              (&#x27;clf&#x27;, MultinomialNB())]),\n",
              "                    n_jobs=-1,\n",
              "                    param_grid={&#x27;count_vect__max_df&#x27;: array([0.3       , 0.34444444, 0.38888889, 0.43333333, 0.47777778,\n",
              "       0.52222222, 0.56666667, 0.61111111, 0.65555556, 0.7       ]),\n",
              "                                &#x27;count_vect__min_df&#x27;: [0.003, 0.005, 0.007],\n",
              "                                &#x27;count_vect__ngram_range&#x27;: ((1, 1), (1, 2))},\n",
              "                    scoring=&#x27;accuracy&#x27;, verbose=1)</pre><b>In a Jupyter environment, please rerun this cell to show the HTML representation or trust the notebook. <br />On GitHub, the HTML representation is unable to render, please try loading this page with nbviewer.org.</b></div><div class=\"sk-container\" hidden><div class=\"sk-item sk-dashed-wrapped\"><div class=\"sk-label-container\"><div class=\"sk-label sk-toggleable\"><input class=\"sk-toggleable__control sk-hidden--visually\" id=\"sk-estimator-id-21\" type=\"checkbox\" ><label for=\"sk-estimator-id-21\" class=\"sk-toggleable__label sk-toggleable__label-arrow\">HalvingGridSearchCV</label><div class=\"sk-toggleable__content\"><pre>HalvingGridSearchCV(cv=2,\n",
              "                    estimator=Pipeline(steps=[(&#x27;count_vect&#x27;, CountVectorizer()),\n",
              "                                              (&#x27;clf&#x27;, MultinomialNB())]),\n",
              "                    n_jobs=-1,\n",
              "                    param_grid={&#x27;count_vect__max_df&#x27;: array([0.3       , 0.34444444, 0.38888889, 0.43333333, 0.47777778,\n",
              "       0.52222222, 0.56666667, 0.61111111, 0.65555556, 0.7       ]),\n",
              "                                &#x27;count_vect__min_df&#x27;: [0.003, 0.005, 0.007],\n",
              "                                &#x27;count_vect__ngram_range&#x27;: ((1, 1), (1, 2))},\n",
              "                    scoring=&#x27;accuracy&#x27;, verbose=1)</pre></div></div></div><div class=\"sk-parallel\"><div class=\"sk-parallel-item\"><div class=\"sk-item\"><div class=\"sk-label-container\"><div class=\"sk-label sk-toggleable\"><input class=\"sk-toggleable__control sk-hidden--visually\" id=\"sk-estimator-id-22\" type=\"checkbox\" ><label for=\"sk-estimator-id-22\" class=\"sk-toggleable__label sk-toggleable__label-arrow\">estimator: Pipeline</label><div class=\"sk-toggleable__content\"><pre>Pipeline(steps=[(&#x27;count_vect&#x27;, CountVectorizer()), (&#x27;clf&#x27;, MultinomialNB())])</pre></div></div></div><div class=\"sk-serial\"><div class=\"sk-item\"><div class=\"sk-serial\"><div class=\"sk-item\"><div class=\"sk-estimator sk-toggleable\"><input class=\"sk-toggleable__control sk-hidden--visually\" id=\"sk-estimator-id-23\" type=\"checkbox\" ><label for=\"sk-estimator-id-23\" class=\"sk-toggleable__label sk-toggleable__label-arrow\">CountVectorizer</label><div class=\"sk-toggleable__content\"><pre>CountVectorizer()</pre></div></div></div><div class=\"sk-item\"><div class=\"sk-estimator sk-toggleable\"><input class=\"sk-toggleable__control sk-hidden--visually\" id=\"sk-estimator-id-24\" type=\"checkbox\" ><label for=\"sk-estimator-id-24\" class=\"sk-toggleable__label sk-toggleable__label-arrow\">MultinomialNB</label><div class=\"sk-toggleable__content\"><pre>MultinomialNB()</pre></div></div></div></div></div></div></div></div></div></div></div></div>"
            ]
          },
          "metadata": {},
          "execution_count": 75
        }
      ],
      "source": [
        "%%time\n",
        "\n",
        "grid_search = HalvingGridSearchCV(\n",
        "    pipe,\n",
        "    param_grid=parameter_grid,\n",
        "    n_jobs=-1,\n",
        "    verbose=1,\n",
        "    cv=2,\n",
        "    scoring='accuracy',\n",
        ")\n",
        "grid_search.fit(X_train, y_train)"
      ]
    },
    {
      "cell_type": "code",
      "execution_count": null,
      "metadata": {
        "colab": {
          "base_uri": "https://localhost:8080/"
        },
        "id": "Hzo1VJoMwB0h",
        "outputId": "6d1ff5ca-b275-4c53-c9a1-ea7ad1edbcd0"
      },
      "outputs": [
        {
          "output_type": "execute_result",
          "data": {
            "text/plain": [
              "0.9794642857142857"
            ]
          },
          "metadata": {},
          "execution_count": 76
        }
      ],
      "source": [
        "grid_search_count_vect_naive_bayes=grid_search\n",
        "grid_search_count_vect_naive_bayes.best_score_"
      ]
    },
    {
      "cell_type": "code",
      "source": [],
      "metadata": {
        "id": "7UsrmGj64XRi"
      },
      "execution_count": null,
      "outputs": []
    },
    {
      "cell_type": "code",
      "source": [
        "preds_tfidf_logist = grid_search_tfidf_logist.best_estimator_.predict(X_test)\n",
        "print(\"preds_tfidf_logist \")\n",
        "print()\n",
        "print(classification_report(y_test, preds_tfidf_logist))"
      ],
      "metadata": {
        "colab": {
          "base_uri": "https://localhost:8080/"
        },
        "id": "mkq9Zi8K4YD2",
        "outputId": "2722fb73-6f16-4a46-aea3-e5b70a95d80d"
      },
      "execution_count": null,
      "outputs": [
        {
          "output_type": "stream",
          "name": "stdout",
          "text": [
            "preds_tfidf_logist \n",
            "\n",
            "              precision    recall  f1-score   support\n",
            "\n",
            "           0       0.97      1.00      0.98       620\n",
            "           1       1.00      0.83      0.91       130\n",
            "\n",
            "    accuracy                           0.97       750\n",
            "   macro avg       0.98      0.92      0.95       750\n",
            "weighted avg       0.97      0.97      0.97       750\n",
            "\n"
          ]
        }
      ]
    },
    {
      "cell_type": "code",
      "execution_count": null,
      "metadata": {
        "colab": {
          "base_uri": "https://localhost:8080/"
        },
        "id": "ewc3WsDrwB0j",
        "outputId": "99920847-2199-4f28-98b9-1f97e3177920"
      },
      "outputs": [
        {
          "output_type": "stream",
          "name": "stdout",
          "text": [
            "tfidf_naive_bayes\n",
            "\n",
            "              precision    recall  f1-score   support\n",
            "\n",
            "           0       0.98      1.00      0.99       620\n",
            "           1       0.98      0.92      0.95       130\n",
            "\n",
            "    accuracy                           0.98       750\n",
            "   macro avg       0.98      0.96      0.97       750\n",
            "weighted avg       0.98      0.98      0.98       750\n",
            "\n"
          ]
        }
      ],
      "source": [
        "preds_tfidf_naive_bayes = grid_search_tfidf_naive_bayes.best_estimator_.predict(X_test)\n",
        "print(\"tfidf_naive_bayes\")\n",
        "print()\n",
        "print(classification_report(y_test, preds_tfidf_naive_bayes))"
      ]
    },
    {
      "cell_type": "code",
      "source": [
        "preds_tfidf_tree = grid_search_tfidf_tree.best_estimator_.predict(X_test)\n",
        "print(\"tfidf_tree\")\n",
        "print()\n",
        "print(classification_report(y_test, preds_tfidf_tree))"
      ],
      "metadata": {
        "colab": {
          "base_uri": "https://localhost:8080/"
        },
        "id": "RAK5u0ur5UCI",
        "outputId": "51e715cc-27e5-4655-e497-fb2e5511e589"
      },
      "execution_count": null,
      "outputs": [
        {
          "output_type": "stream",
          "name": "stdout",
          "text": [
            "tfidf_tree\n",
            "\n",
            "              precision    recall  f1-score   support\n",
            "\n",
            "           0       0.97      0.95      0.96       620\n",
            "           1       0.80      0.88      0.84       130\n",
            "\n",
            "    accuracy                           0.94       750\n",
            "   macro avg       0.89      0.92      0.90       750\n",
            "weighted avg       0.94      0.94      0.94       750\n",
            "\n"
          ]
        }
      ]
    },
    {
      "cell_type": "code",
      "source": [
        "preds_count_vect_logist = grid_search_count_vect_logist.best_estimator_.predict(X_test)\n",
        "print(\"count_vect_logist\")\n",
        "print()\n",
        "print(classification_report(y_test, preds_count_vect_logist))"
      ],
      "metadata": {
        "colab": {
          "base_uri": "https://localhost:8080/"
        },
        "id": "cjVVotML5T3d",
        "outputId": "a26803b1-4b5a-4921-fb25-01f5264d9369"
      },
      "execution_count": null,
      "outputs": [
        {
          "output_type": "stream",
          "name": "stdout",
          "text": [
            "count_vect_logist\n",
            "\n",
            "              precision    recall  f1-score   support\n",
            "\n",
            "           0       0.98      1.00      0.99       620\n",
            "           1       0.99      0.92      0.95       130\n",
            "\n",
            "    accuracy                           0.98       750\n",
            "   macro avg       0.99      0.96      0.97       750\n",
            "weighted avg       0.98      0.98      0.98       750\n",
            "\n"
          ]
        }
      ]
    },
    {
      "cell_type": "code",
      "source": [
        "preds_count_vect_naive_bayes = grid_search_count_vect_naive_bayes.best_estimator_.predict(X_test)\n",
        "print(\"count_vect_naive_bayes\")\n",
        "print()\n",
        "print(classification_report(y_test, preds_count_vect_naive_bayes))"
      ],
      "metadata": {
        "colab": {
          "base_uri": "https://localhost:8080/"
        },
        "id": "u9YokwVl5Ts8",
        "outputId": "86dd62e5-1242-46b6-af7e-a3efb372890c"
      },
      "execution_count": null,
      "outputs": [
        {
          "output_type": "stream",
          "name": "stdout",
          "text": [
            "count_vect_naive_bayes\n",
            "\n",
            "              precision    recall  f1-score   support\n",
            "\n",
            "           0       0.99      0.99      0.99       620\n",
            "           1       0.94      0.95      0.94       130\n",
            "\n",
            "    accuracy                           0.98       750\n",
            "   macro avg       0.96      0.97      0.97       750\n",
            "weighted avg       0.98      0.98      0.98       750\n",
            "\n"
          ]
        }
      ]
    },
    {
      "cell_type": "code",
      "source": [
        "preds_count_vect_tree = grid_search_count_vect_tree.best_estimator_.predict(X_test)\n",
        "print(\"count_vect_tree\")\n",
        "print()\n",
        "print(classification_report(y_test, preds_count_vect_tree))"
      ],
      "metadata": {
        "colab": {
          "base_uri": "https://localhost:8080/"
        },
        "id": "ECl7wrY45TiC",
        "outputId": "1477f1b7-e651-474a-9ccf-ee869cc27c07"
      },
      "execution_count": null,
      "outputs": [
        {
          "output_type": "stream",
          "name": "stdout",
          "text": [
            "count_vect_tree\n",
            "\n",
            "              precision    recall  f1-score   support\n",
            "\n",
            "           0       0.98      0.96      0.97       620\n",
            "           1       0.81      0.88      0.85       130\n",
            "\n",
            "    accuracy                           0.94       750\n",
            "   macro avg       0.89      0.92      0.91       750\n",
            "weighted avg       0.95      0.94      0.94       750\n",
            "\n"
          ]
        }
      ]
    },
    {
      "cell_type": "code",
      "source": [],
      "metadata": {
        "id": "VfU5Oj4P5TUv"
      },
      "execution_count": null,
      "outputs": []
    }
  ],
  "metadata": {
    "accelerator": "GPU",
    "colab": {
      "provenance": []
    },
    "gpuClass": "standard",
    "kernelspec": {
      "display_name": "Python 3",
      "language": "python",
      "name": "python3"
    },
    "language_info": {
      "codemirror_mode": {
        "name": "ipython",
        "version": 3
      },
      "file_extension": ".py",
      "mimetype": "text/x-python",
      "name": "python",
      "nbconvert_exporter": "python",
      "pygments_lexer": "ipython3",
      "version": "3.10.7"
    },
    "vscode": {
      "interpreter": {
        "hash": "afb734500600fd355917ca529030176ea0ca205570884b88f2f6f7d791fd3fbe"
      }
    }
  },
  "nbformat": 4,
  "nbformat_minor": 0
}